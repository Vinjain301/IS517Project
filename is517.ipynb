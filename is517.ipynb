{
  "nbformat": 4,
  "nbformat_minor": 0,
  "metadata": {
    "colab": {
      "provenance": [],
      "authorship_tag": "ABX9TyPSYPoLJcs4+O/cdAb/bWYu",
      "include_colab_link": true
    },
    "kernelspec": {
      "name": "python3",
      "display_name": "Python 3"
    },
    "language_info": {
      "name": "python"
    }
  },
  "cells": [
    {
      "cell_type": "markdown",
      "metadata": {
        "id": "view-in-github",
        "colab_type": "text"
      },
      "source": [
        "<a href=\"https://colab.research.google.com/github/Vinjain301/IS517Project/blob/main/is517.ipynb\" target=\"_parent\"><img src=\"https://colab.research.google.com/assets/colab-badge.svg\" alt=\"Open In Colab\"/></a>"
      ]
    },
    {
      "cell_type": "code",
      "source": [
        "import pandas as pd\n",
        "from google.colab import drive\n",
        "drive.mount('/content/drive')"
      ],
      "metadata": {
        "colab": {
          "base_uri": "https://localhost:8080/"
        },
        "id": "MK1XNhN0sbTK",
        "outputId": "f73976c6-61ee-4dae-b9f1-01160e20274c"
      },
      "execution_count": null,
      "outputs": [
        {
          "output_type": "stream",
          "name": "stdout",
          "text": [
            "Drive already mounted at /content/drive; to attempt to forcibly remount, call drive.mount(\"/content/drive\", force_remount=True).\n"
          ]
        }
      ]
    },
    {
      "cell_type": "code",
      "execution_count": null,
      "metadata": {
        "colab": {
          "base_uri": "https://localhost:8080/",
          "height": 365
        },
        "id": "ApDNffcGsNje",
        "outputId": "2a3b71c0-5bdf-4226-ca9b-11a7a63bba8c"
      },
      "outputs": [
        {
          "output_type": "execute_result",
          "data": {
            "text/plain": [
              "         Movie Name Release Period Whether Remake Whether Franchise     Genre  \\\n",
              "0       Golden Boys         Normal             No                No  suspense   \n",
              "1     Kaccha Limboo        Holiday             No                No     drama   \n",
              "2  Not A Love Story        Holiday             No                No  thriller   \n",
              "3        Qaidi Band        Holiday             No                No     drama   \n",
              "4         Chaatwali        Holiday             No                No     adult   \n",
              "\n",
              "  New Actor New Director New Music Director         Lead Star  \\\n",
              "0       Yes           No                 No      Jeet Goswami   \n",
              "1       Yes           No                Yes  Karan Bhanushali   \n",
              "2        No           No                 No        Mahie Gill   \n",
              "3       Yes           No                 No        Aadar Jain   \n",
              "4       Yes          Yes                Yes        Aadil Khan   \n",
              "\n",
              "          Director   Music Director  Number of Screens  Budget(INR)  \\\n",
              "0       Ravi Varma    Baba Jagirdar                  5      5000000   \n",
              "1    Sagar Ballary  Amardeep Nijjer                 75     15000000   \n",
              "2  Ram Gopal Verma   Sandeep Chowta                525     75000000   \n",
              "3     Habib Faisal     Amit Trivedi                800    210000000   \n",
              "4       Aadil Khan     Babloo Ustad                  1      1000000   \n",
              "\n",
              "   Revenue(INR)  Unnamed: 14  \n",
              "0         85000          NaN  \n",
              "1        825000          NaN  \n",
              "2      56700000          NaN  \n",
              "3       4500000          NaN  \n",
              "4       1075000          NaN  "
            ],
            "text/html": [
              "\n",
              "  <div id=\"df-30dc64d7-3602-4b94-a99d-c422755a5dda\" class=\"colab-df-container\">\n",
              "    <div>\n",
              "<style scoped>\n",
              "    .dataframe tbody tr th:only-of-type {\n",
              "        vertical-align: middle;\n",
              "    }\n",
              "\n",
              "    .dataframe tbody tr th {\n",
              "        vertical-align: top;\n",
              "    }\n",
              "\n",
              "    .dataframe thead th {\n",
              "        text-align: right;\n",
              "    }\n",
              "</style>\n",
              "<table border=\"1\" class=\"dataframe\">\n",
              "  <thead>\n",
              "    <tr style=\"text-align: right;\">\n",
              "      <th></th>\n",
              "      <th>Movie Name</th>\n",
              "      <th>Release Period</th>\n",
              "      <th>Whether Remake</th>\n",
              "      <th>Whether Franchise</th>\n",
              "      <th>Genre</th>\n",
              "      <th>New Actor</th>\n",
              "      <th>New Director</th>\n",
              "      <th>New Music Director</th>\n",
              "      <th>Lead Star</th>\n",
              "      <th>Director</th>\n",
              "      <th>Music Director</th>\n",
              "      <th>Number of Screens</th>\n",
              "      <th>Budget(INR)</th>\n",
              "      <th>Revenue(INR)</th>\n",
              "      <th>Unnamed: 14</th>\n",
              "    </tr>\n",
              "  </thead>\n",
              "  <tbody>\n",
              "    <tr>\n",
              "      <th>0</th>\n",
              "      <td>Golden Boys</td>\n",
              "      <td>Normal</td>\n",
              "      <td>No</td>\n",
              "      <td>No</td>\n",
              "      <td>suspense</td>\n",
              "      <td>Yes</td>\n",
              "      <td>No</td>\n",
              "      <td>No</td>\n",
              "      <td>Jeet Goswami</td>\n",
              "      <td>Ravi Varma</td>\n",
              "      <td>Baba Jagirdar</td>\n",
              "      <td>5</td>\n",
              "      <td>5000000</td>\n",
              "      <td>85000</td>\n",
              "      <td>NaN</td>\n",
              "    </tr>\n",
              "    <tr>\n",
              "      <th>1</th>\n",
              "      <td>Kaccha Limboo</td>\n",
              "      <td>Holiday</td>\n",
              "      <td>No</td>\n",
              "      <td>No</td>\n",
              "      <td>drama</td>\n",
              "      <td>Yes</td>\n",
              "      <td>No</td>\n",
              "      <td>Yes</td>\n",
              "      <td>Karan Bhanushali</td>\n",
              "      <td>Sagar Ballary</td>\n",
              "      <td>Amardeep Nijjer</td>\n",
              "      <td>75</td>\n",
              "      <td>15000000</td>\n",
              "      <td>825000</td>\n",
              "      <td>NaN</td>\n",
              "    </tr>\n",
              "    <tr>\n",
              "      <th>2</th>\n",
              "      <td>Not A Love Story</td>\n",
              "      <td>Holiday</td>\n",
              "      <td>No</td>\n",
              "      <td>No</td>\n",
              "      <td>thriller</td>\n",
              "      <td>No</td>\n",
              "      <td>No</td>\n",
              "      <td>No</td>\n",
              "      <td>Mahie Gill</td>\n",
              "      <td>Ram Gopal Verma</td>\n",
              "      <td>Sandeep Chowta</td>\n",
              "      <td>525</td>\n",
              "      <td>75000000</td>\n",
              "      <td>56700000</td>\n",
              "      <td>NaN</td>\n",
              "    </tr>\n",
              "    <tr>\n",
              "      <th>3</th>\n",
              "      <td>Qaidi Band</td>\n",
              "      <td>Holiday</td>\n",
              "      <td>No</td>\n",
              "      <td>No</td>\n",
              "      <td>drama</td>\n",
              "      <td>Yes</td>\n",
              "      <td>No</td>\n",
              "      <td>No</td>\n",
              "      <td>Aadar Jain</td>\n",
              "      <td>Habib Faisal</td>\n",
              "      <td>Amit Trivedi</td>\n",
              "      <td>800</td>\n",
              "      <td>210000000</td>\n",
              "      <td>4500000</td>\n",
              "      <td>NaN</td>\n",
              "    </tr>\n",
              "    <tr>\n",
              "      <th>4</th>\n",
              "      <td>Chaatwali</td>\n",
              "      <td>Holiday</td>\n",
              "      <td>No</td>\n",
              "      <td>No</td>\n",
              "      <td>adult</td>\n",
              "      <td>Yes</td>\n",
              "      <td>Yes</td>\n",
              "      <td>Yes</td>\n",
              "      <td>Aadil Khan</td>\n",
              "      <td>Aadil Khan</td>\n",
              "      <td>Babloo Ustad</td>\n",
              "      <td>1</td>\n",
              "      <td>1000000</td>\n",
              "      <td>1075000</td>\n",
              "      <td>NaN</td>\n",
              "    </tr>\n",
              "  </tbody>\n",
              "</table>\n",
              "</div>\n",
              "    <div class=\"colab-df-buttons\">\n",
              "\n",
              "  <div class=\"colab-df-container\">\n",
              "    <button class=\"colab-df-convert\" onclick=\"convertToInteractive('df-30dc64d7-3602-4b94-a99d-c422755a5dda')\"\n",
              "            title=\"Convert this dataframe to an interactive table.\"\n",
              "            style=\"display:none;\">\n",
              "\n",
              "  <svg xmlns=\"http://www.w3.org/2000/svg\" height=\"24px\" viewBox=\"0 -960 960 960\">\n",
              "    <path d=\"M120-120v-720h720v720H120Zm60-500h600v-160H180v160Zm220 220h160v-160H400v160Zm0 220h160v-160H400v160ZM180-400h160v-160H180v160Zm440 0h160v-160H620v160ZM180-180h160v-160H180v160Zm440 0h160v-160H620v160Z\"/>\n",
              "  </svg>\n",
              "    </button>\n",
              "\n",
              "  <style>\n",
              "    .colab-df-container {\n",
              "      display:flex;\n",
              "      gap: 12px;\n",
              "    }\n",
              "\n",
              "    .colab-df-convert {\n",
              "      background-color: #E8F0FE;\n",
              "      border: none;\n",
              "      border-radius: 50%;\n",
              "      cursor: pointer;\n",
              "      display: none;\n",
              "      fill: #1967D2;\n",
              "      height: 32px;\n",
              "      padding: 0 0 0 0;\n",
              "      width: 32px;\n",
              "    }\n",
              "\n",
              "    .colab-df-convert:hover {\n",
              "      background-color: #E2EBFA;\n",
              "      box-shadow: 0px 1px 2px rgba(60, 64, 67, 0.3), 0px 1px 3px 1px rgba(60, 64, 67, 0.15);\n",
              "      fill: #174EA6;\n",
              "    }\n",
              "\n",
              "    .colab-df-buttons div {\n",
              "      margin-bottom: 4px;\n",
              "    }\n",
              "\n",
              "    [theme=dark] .colab-df-convert {\n",
              "      background-color: #3B4455;\n",
              "      fill: #D2E3FC;\n",
              "    }\n",
              "\n",
              "    [theme=dark] .colab-df-convert:hover {\n",
              "      background-color: #434B5C;\n",
              "      box-shadow: 0px 1px 3px 1px rgba(0, 0, 0, 0.15);\n",
              "      filter: drop-shadow(0px 1px 2px rgba(0, 0, 0, 0.3));\n",
              "      fill: #FFFFFF;\n",
              "    }\n",
              "  </style>\n",
              "\n",
              "    <script>\n",
              "      const buttonEl =\n",
              "        document.querySelector('#df-30dc64d7-3602-4b94-a99d-c422755a5dda button.colab-df-convert');\n",
              "      buttonEl.style.display =\n",
              "        google.colab.kernel.accessAllowed ? 'block' : 'none';\n",
              "\n",
              "      async function convertToInteractive(key) {\n",
              "        const element = document.querySelector('#df-30dc64d7-3602-4b94-a99d-c422755a5dda');\n",
              "        const dataTable =\n",
              "          await google.colab.kernel.invokeFunction('convertToInteractive',\n",
              "                                                    [key], {});\n",
              "        if (!dataTable) return;\n",
              "\n",
              "        const docLinkHtml = 'Like what you see? Visit the ' +\n",
              "          '<a target=\"_blank\" href=https://colab.research.google.com/notebooks/data_table.ipynb>data table notebook</a>'\n",
              "          + ' to learn more about interactive tables.';\n",
              "        element.innerHTML = '';\n",
              "        dataTable['output_type'] = 'display_data';\n",
              "        await google.colab.output.renderOutput(dataTable, element);\n",
              "        const docLink = document.createElement('div');\n",
              "        docLink.innerHTML = docLinkHtml;\n",
              "        element.appendChild(docLink);\n",
              "      }\n",
              "    </script>\n",
              "  </div>\n",
              "\n",
              "\n",
              "<div id=\"df-84225438-013a-42f0-8b73-235f5023d093\">\n",
              "  <button class=\"colab-df-quickchart\" onclick=\"quickchart('df-84225438-013a-42f0-8b73-235f5023d093')\"\n",
              "            title=\"Suggest charts\"\n",
              "            style=\"display:none;\">\n",
              "\n",
              "<svg xmlns=\"http://www.w3.org/2000/svg\" height=\"24px\"viewBox=\"0 0 24 24\"\n",
              "     width=\"24px\">\n",
              "    <g>\n",
              "        <path d=\"M19 3H5c-1.1 0-2 .9-2 2v14c0 1.1.9 2 2 2h14c1.1 0 2-.9 2-2V5c0-1.1-.9-2-2-2zM9 17H7v-7h2v7zm4 0h-2V7h2v10zm4 0h-2v-4h2v4z\"/>\n",
              "    </g>\n",
              "</svg>\n",
              "  </button>\n",
              "\n",
              "<style>\n",
              "  .colab-df-quickchart {\n",
              "      --bg-color: #E8F0FE;\n",
              "      --fill-color: #1967D2;\n",
              "      --hover-bg-color: #E2EBFA;\n",
              "      --hover-fill-color: #174EA6;\n",
              "      --disabled-fill-color: #AAA;\n",
              "      --disabled-bg-color: #DDD;\n",
              "  }\n",
              "\n",
              "  [theme=dark] .colab-df-quickchart {\n",
              "      --bg-color: #3B4455;\n",
              "      --fill-color: #D2E3FC;\n",
              "      --hover-bg-color: #434B5C;\n",
              "      --hover-fill-color: #FFFFFF;\n",
              "      --disabled-bg-color: #3B4455;\n",
              "      --disabled-fill-color: #666;\n",
              "  }\n",
              "\n",
              "  .colab-df-quickchart {\n",
              "    background-color: var(--bg-color);\n",
              "    border: none;\n",
              "    border-radius: 50%;\n",
              "    cursor: pointer;\n",
              "    display: none;\n",
              "    fill: var(--fill-color);\n",
              "    height: 32px;\n",
              "    padding: 0;\n",
              "    width: 32px;\n",
              "  }\n",
              "\n",
              "  .colab-df-quickchart:hover {\n",
              "    background-color: var(--hover-bg-color);\n",
              "    box-shadow: 0 1px 2px rgba(60, 64, 67, 0.3), 0 1px 3px 1px rgba(60, 64, 67, 0.15);\n",
              "    fill: var(--button-hover-fill-color);\n",
              "  }\n",
              "\n",
              "  .colab-df-quickchart-complete:disabled,\n",
              "  .colab-df-quickchart-complete:disabled:hover {\n",
              "    background-color: var(--disabled-bg-color);\n",
              "    fill: var(--disabled-fill-color);\n",
              "    box-shadow: none;\n",
              "  }\n",
              "\n",
              "  .colab-df-spinner {\n",
              "    border: 2px solid var(--fill-color);\n",
              "    border-color: transparent;\n",
              "    border-bottom-color: var(--fill-color);\n",
              "    animation:\n",
              "      spin 1s steps(1) infinite;\n",
              "  }\n",
              "\n",
              "  @keyframes spin {\n",
              "    0% {\n",
              "      border-color: transparent;\n",
              "      border-bottom-color: var(--fill-color);\n",
              "      border-left-color: var(--fill-color);\n",
              "    }\n",
              "    20% {\n",
              "      border-color: transparent;\n",
              "      border-left-color: var(--fill-color);\n",
              "      border-top-color: var(--fill-color);\n",
              "    }\n",
              "    30% {\n",
              "      border-color: transparent;\n",
              "      border-left-color: var(--fill-color);\n",
              "      border-top-color: var(--fill-color);\n",
              "      border-right-color: var(--fill-color);\n",
              "    }\n",
              "    40% {\n",
              "      border-color: transparent;\n",
              "      border-right-color: var(--fill-color);\n",
              "      border-top-color: var(--fill-color);\n",
              "    }\n",
              "    60% {\n",
              "      border-color: transparent;\n",
              "      border-right-color: var(--fill-color);\n",
              "    }\n",
              "    80% {\n",
              "      border-color: transparent;\n",
              "      border-right-color: var(--fill-color);\n",
              "      border-bottom-color: var(--fill-color);\n",
              "    }\n",
              "    90% {\n",
              "      border-color: transparent;\n",
              "      border-bottom-color: var(--fill-color);\n",
              "    }\n",
              "  }\n",
              "</style>\n",
              "\n",
              "  <script>\n",
              "    async function quickchart(key) {\n",
              "      const quickchartButtonEl =\n",
              "        document.querySelector('#' + key + ' button');\n",
              "      quickchartButtonEl.disabled = true;  // To prevent multiple clicks.\n",
              "      quickchartButtonEl.classList.add('colab-df-spinner');\n",
              "      try {\n",
              "        const charts = await google.colab.kernel.invokeFunction(\n",
              "            'suggestCharts', [key], {});\n",
              "      } catch (error) {\n",
              "        console.error('Error during call to suggestCharts:', error);\n",
              "      }\n",
              "      quickchartButtonEl.classList.remove('colab-df-spinner');\n",
              "      quickchartButtonEl.classList.add('colab-df-quickchart-complete');\n",
              "    }\n",
              "    (() => {\n",
              "      let quickchartButtonEl =\n",
              "        document.querySelector('#df-84225438-013a-42f0-8b73-235f5023d093 button');\n",
              "      quickchartButtonEl.style.display =\n",
              "        google.colab.kernel.accessAllowed ? 'block' : 'none';\n",
              "    })();\n",
              "  </script>\n",
              "</div>\n",
              "\n",
              "    </div>\n",
              "  </div>\n"
            ],
            "application/vnd.google.colaboratory.intrinsic+json": {
              "type": "dataframe",
              "variable_name": "movies_df",
              "summary": "{\n  \"name\": \"movies_df\",\n  \"rows\": 1698,\n  \"fields\": [\n    {\n      \"column\": \"Movie Name\",\n      \"properties\": {\n        \"dtype\": \"string\",\n        \"num_unique_values\": 1695,\n        \"samples\": [\n          \"Husn - Love & Betrayal\",\n          \"Red Swastik\",\n          \"A Flying Jatt\"\n        ],\n        \"semantic_type\": \"\",\n        \"description\": \"\"\n      }\n    },\n    {\n      \"column\": \"Release Period\",\n      \"properties\": {\n        \"dtype\": \"category\",\n        \"num_unique_values\": 2,\n        \"samples\": [\n          \"Holiday\",\n          \"Normal\"\n        ],\n        \"semantic_type\": \"\",\n        \"description\": \"\"\n      }\n    },\n    {\n      \"column\": \"Whether Remake\",\n      \"properties\": {\n        \"dtype\": \"category\",\n        \"num_unique_values\": 2,\n        \"samples\": [\n          \"Yes\",\n          \"No\"\n        ],\n        \"semantic_type\": \"\",\n        \"description\": \"\"\n      }\n    },\n    {\n      \"column\": \"Whether Franchise\",\n      \"properties\": {\n        \"dtype\": \"category\",\n        \"num_unique_values\": 2,\n        \"samples\": [\n          \"Yes\",\n          \"No\"\n        ],\n        \"semantic_type\": \"\",\n        \"description\": \"\"\n      }\n    },\n    {\n      \"column\": \"Genre\",\n      \"properties\": {\n        \"dtype\": \"category\",\n        \"num_unique_values\": 14,\n        \"samples\": [\n          \"fantasy\",\n          \"mythological\"\n        ],\n        \"semantic_type\": \"\",\n        \"description\": \"\"\n      }\n    },\n    {\n      \"column\": \"New Actor\",\n      \"properties\": {\n        \"dtype\": \"category\",\n        \"num_unique_values\": 2,\n        \"samples\": [\n          \"No\",\n          \"Yes\"\n        ],\n        \"semantic_type\": \"\",\n        \"description\": \"\"\n      }\n    },\n    {\n      \"column\": \"New Director\",\n      \"properties\": {\n        \"dtype\": \"category\",\n        \"num_unique_values\": 2,\n        \"samples\": [\n          \"Yes\",\n          \"No\"\n        ],\n        \"semantic_type\": \"\",\n        \"description\": \"\"\n      }\n    },\n    {\n      \"column\": \"New Music Director\",\n      \"properties\": {\n        \"dtype\": \"category\",\n        \"num_unique_values\": 2,\n        \"samples\": [\n          \"Yes\",\n          \"No\"\n        ],\n        \"semantic_type\": \"\",\n        \"description\": \"\"\n      }\n    },\n    {\n      \"column\": \"Lead Star\",\n      \"properties\": {\n        \"dtype\": \"category\",\n        \"num_unique_values\": 764,\n        \"samples\": [\n          \"Mohammad Iqbal Khan\",\n          \"Jason Lewis\"\n        ],\n        \"semantic_type\": \"\",\n        \"description\": \"\"\n      }\n    },\n    {\n      \"column\": \"Director\",\n      \"properties\": {\n        \"dtype\": \"string\",\n        \"num_unique_values\": 1048,\n        \"samples\": [\n          \"Jaganath S.R.\",\n          \"Deepesh Shah\"\n        ],\n        \"semantic_type\": \"\",\n        \"description\": \"\"\n      }\n    },\n    {\n      \"column\": \"Music Director\",\n      \"properties\": {\n        \"dtype\": \"category\",\n        \"num_unique_values\": 630,\n        \"samples\": [\n          \"DJ Aqeel\",\n          \"Sony Chandy\"\n        ],\n        \"semantic_type\": \"\",\n        \"description\": \"\"\n      }\n    },\n    {\n      \"column\": \"Number of Screens\",\n      \"properties\": {\n        \"dtype\": \"number\",\n        \"std\": 782,\n        \"min\": 1,\n        \"max\": 4600,\n        \"num_unique_values\": 147,\n        \"samples\": [\n          115,\n          275\n        ],\n        \"semantic_type\": \"\",\n        \"description\": \"\"\n      }\n    },\n    {\n      \"column\": \"Budget(INR)\",\n      \"properties\": {\n        \"dtype\": \"number\",\n        \"std\": 243483827,\n        \"min\": 325000,\n        \"max\": 2100000000,\n        \"num_unique_values\": 184,\n        \"samples\": [\n          12500000,\n          60000000\n        ],\n        \"semantic_type\": \"\",\n        \"description\": \"\"\n      }\n    },\n    {\n      \"column\": \"Revenue(INR)\",\n      \"properties\": {\n        \"dtype\": \"number\",\n        \"std\": 613439812,\n        \"min\": 7250,\n        \"max\": 8016120000,\n        \"num_unique_values\": 1104,\n        \"samples\": [\n          6325000,\n          515300000\n        ],\n        \"semantic_type\": \"\",\n        \"description\": \"\"\n      }\n    },\n    {\n      \"column\": \"Unnamed: 14\",\n      \"properties\": {\n        \"dtype\": \"number\",\n        \"std\": null,\n        \"min\": null,\n        \"max\": null,\n        \"num_unique_values\": 0,\n        \"samples\": [],\n        \"semantic_type\": \"\",\n        \"description\": \"\"\n      }\n    }\n  ]\n}"
            }
          },
          "metadata": {},
          "execution_count": 4
        }
      ],
      "source": [
        "file_path = '/content/drive/MyDrive/IS517Finalproject/Originaldata.csv'\n",
        "movies_df = pd.read_csv(file_path)\n",
        "movies_df.head()\n"
      ]
    },
    {
      "cell_type": "code",
      "source": [
        "print(movies_df.info())\n",
        "print(movies_df.describe())\n",
        "print(movies_df.isnull().sum())\n",
        "print(f\"Number of duplicate rows: {movies_df.duplicated().sum()}\")"
      ],
      "metadata": {
        "colab": {
          "base_uri": "https://localhost:8080/"
        },
        "id": "zGar6Hrs0XA9",
        "outputId": "564fe2dd-74d2-43b1-e58c-20d370db2e8c"
      },
      "execution_count": null,
      "outputs": [
        {
          "output_type": "stream",
          "name": "stdout",
          "text": [
            "<class 'pandas.core.frame.DataFrame'>\n",
            "RangeIndex: 1698 entries, 0 to 1697\n",
            "Data columns (total 15 columns):\n",
            " #   Column              Non-Null Count  Dtype  \n",
            "---  ------              --------------  -----  \n",
            " 0   Movie Name          1698 non-null   object \n",
            " 1   Release Period      1698 non-null   object \n",
            " 2   Whether Remake      1698 non-null   object \n",
            " 3   Whether Franchise   1698 non-null   object \n",
            " 4   Genre               1698 non-null   object \n",
            " 5   New Actor           1698 non-null   object \n",
            " 6   New Director        1698 non-null   object \n",
            " 7   New Music Director  1698 non-null   object \n",
            " 8   Lead Star           1698 non-null   object \n",
            " 9   Director            1698 non-null   object \n",
            " 10  Music Director      1698 non-null   object \n",
            " 11  Number of Screens   1698 non-null   int64  \n",
            " 12  Budget(INR)         1698 non-null   int64  \n",
            " 13  Revenue(INR)        1698 non-null   int64  \n",
            " 14  Unnamed: 14         0 non-null      float64\n",
            "dtypes: float64(1), int64(3), object(11)\n",
            "memory usage: 199.1+ KB\n",
            "None\n",
            "       Number of Screens   Budget(INR)  Revenue(INR)  Unnamed: 14\n",
            "count        1698.000000  1.698000e+03  1.698000e+03          0.0\n",
            "mean          553.831567  1.501674e+08  2.377287e+08          NaN\n",
            "std           782.951839  2.434838e+08  6.134398e+08          NaN\n",
            "min             1.000000  3.250000e+05  7.250000e+03          NaN\n",
            "25%            30.000000  1.500000e+07  1.150000e+06          NaN\n",
            "50%           200.000000  5.500000e+07  1.240000e+07          NaN\n",
            "75%           800.000000  1.900000e+08  1.778325e+08          NaN\n",
            "max          4600.000000  2.100000e+09  8.016120e+09          NaN\n",
            "Movie Name               0\n",
            "Release Period           0\n",
            "Whether Remake           0\n",
            "Whether Franchise        0\n",
            "Genre                    0\n",
            "New Actor                0\n",
            "New Director             0\n",
            "New Music Director       0\n",
            "Lead Star                0\n",
            "Director                 0\n",
            "Music Director           0\n",
            "Number of Screens        0\n",
            "Budget(INR)              0\n",
            "Revenue(INR)             0\n",
            "Unnamed: 14           1698\n",
            "dtype: int64\n",
            "Number of duplicate rows: 2\n"
          ]
        }
      ]
    },
    {
      "cell_type": "code",
      "source": [
        "movies_df = movies_df.drop_duplicates()\n",
        "print(f\"Number of duplicate rows after removal: {movies_df.duplicated().sum()}\")"
      ],
      "metadata": {
        "colab": {
          "base_uri": "https://localhost:8080/"
        },
        "id": "v7CW_Xso1FoC",
        "outputId": "9180b1cd-e4bc-43b3-f97b-53fea6ebb066"
      },
      "execution_count": null,
      "outputs": [
        {
          "output_type": "stream",
          "name": "stdout",
          "text": [
            "Number of duplicate rows after removal: 0\n"
          ]
        }
      ]
    },
    {
      "cell_type": "markdown",
      "source": [
        "Now we connect to the TMDB database and retrieve data to augment columns related to directors actors and  actress  like popularity scores,gender etc (parts of below code are taken from [TMDB api documentation](https://developer.themoviedb.org/docs/search-and-query-for-details)\n"
      ],
      "metadata": {
        "id": "jJ9A-Yqu3zvH"
      }
    },
    {
      "cell_type": "code",
      "source": [
        "import requests\n",
        "import csv\n",
        "\n",
        "# TMDb API key\n",
        "API_KEY = \"fceca576b67a8b12435ca405a17f7842\"\n",
        "\n",
        "# Base URLs\n",
        "BASE_URL = \"https://api.themoviedb.org/3\"\n",
        "SEARCH_MOVIE_URL = f\"{BASE_URL}/search/movie\"\n",
        "MOVIE_DETAILS_URL = f\"{BASE_URL}/movie/{{movie_id}}\"\n",
        "MOVIE_CREDITS_URL = f\"{BASE_URL}/movie/{{movie_id}}/credits\"\n",
        "\n",
        "# Extract movie names from the dataset\n",
        "movie_names = movies_df['Movie Name'].tolist()\n",
        "\n",
        "# List to keep track of not-found and filtered-out movies\n",
        "not_found_movies = []\n",
        "filtered_out_movies = []\n",
        "\n",
        "# Function to get movie ID\n",
        "def get_movie_id(movie_name):\n",
        "    try:\n",
        "        params = {\n",
        "            \"api_key\": API_KEY,\n",
        "            \"query\": movie_name,\n",
        "        }\n",
        "        response = requests.get(SEARCH_MOVIE_URL, params=params)\n",
        "        response.raise_for_status()\n",
        "        data = response.json()\n",
        "        if data.get(\"results\"):\n",
        "            return data[\"results\"][0][\"id\"]\n",
        "        return None\n",
        "    except Exception as e:\n",
        "        print(f\"Error fetching ID for movie '{movie_name}': {e}\")\n",
        "        return None\n",
        "\n",
        "# Function to get all movie details\n",
        "def get_movie_details(movie_id):\n",
        "    try:\n",
        "        url = MOVIE_DETAILS_URL.format(movie_id=movie_id)\n",
        "        params = {\"api_key\": API_KEY}\n",
        "        response = requests.get(url, params=params)\n",
        "        response.raise_for_status()\n",
        "        return response.json()\n",
        "    except Exception as e:\n",
        "        print(f\"Error fetching details for movie ID '{movie_id}': {e}\")\n",
        "        return {}\n",
        "\n",
        "# Function to get movie credits (cast and crew)\n",
        "def get_movie_credits(movie_id):\n",
        "    try:\n",
        "        url = MOVIE_CREDITS_URL.format(movie_id=movie_id)\n",
        "        params = {\"api_key\": API_KEY}\n",
        "        response = requests.get(url, params=params)\n",
        "        response.raise_for_status()\n",
        "        return response.json()\n",
        "    except Exception as e:\n",
        "        print(f\"Error fetching credits for movie ID '{movie_id}': {e}\")\n",
        "        return {\"cast\": [], \"crew\": []}\n",
        "\n",
        "# Prepare data for CSV\n",
        "csv_data = []\n",
        "for movie in movie_names:\n",
        "    try:\n",
        "        movie_id = get_movie_id(movie)\n",
        "        if not movie_id:\n",
        "            not_found_movies.append(movie)  # Add to not-found list\n",
        "            continue\n",
        "\n",
        "        # Fetch movie details\n",
        "        details = get_movie_details(movie_id)\n",
        "\n",
        "        # Check for Hindi language and Indian origin\n",
        "        if details.get('original_language') != 'hi' or 'IN' not in details.get('origin_country', []):\n",
        "            filtered_out_movies.append(movie)  # Add to filtered-out list\n",
        "            continue\n",
        "\n",
        "        # Fetch movie credits\n",
        "        credits = get_movie_credits(movie_id)\n",
        "\n",
        "        # Add cast data\n",
        "        for actor in credits.get(\"cast\", []):\n",
        "            csv_data.append({\n",
        "                \"Movie Name\": movie,\n",
        "                \"Actor Name\": actor.get(\"name\"),\n",
        "                \"Character\": actor.get(\"character\"),\n",
        "                \"Actor ID\": actor.get(\"id\"),\n",
        "                \"Gender\": actor.get(\"gender\"),\n",
        "                \"Is Adult\": actor.get(\"adult\"),\n",
        "                \"Popularity\": actor.get(\"popularity\"),\n",
        "                \"Profile Path\": actor.get(\"profile_path\"),\n",
        "                \"Movie Details\": details\n",
        "            })\n",
        "\n",
        "        # Add crew data\n",
        "        for crew_member in credits.get(\"crew\", []):\n",
        "            csv_data.append({\n",
        "                \"Movie Name\": movie,\n",
        "                \"Crew Member Name\": crew_member.get(\"name\"),\n",
        "                \"Job\": crew_member.get(\"job\"),\n",
        "                \"Department\": crew_member.get(\"department\"),\n",
        "                \"Crew Member ID\": crew_member.get(\"id\"),\n",
        "                \"Gender\": crew_member.get(\"gender\"),\n",
        "                \"Is Adult\": crew_member.get(\"adult\"),\n",
        "                \"Popularity\": crew_member.get(\"popularity\"),\n",
        "                \"Profile Path\": crew_member.get(\"profile_path\"),\n",
        "                \"Movie Details\": details\n",
        "            })\n",
        "    except Exception as e:\n",
        "        print(f\"Error processing movie '{movie}': {e}\")\n",
        "\n",
        "# Save to CSV\n",
        "csv_file = \"bollywood_movies_full_details.csv\"\n",
        "fieldnames = [\n",
        "    \"Movie Name\", \"Actor Name\", \"Character\", \"Actor ID\", \"Gender\", \"Is Adult\",\n",
        "    \"Crew Member Name\", \"Job\", \"Department\", \"Crew Member ID\",\n",
        "    \"Popularity\", \"Profile Path\", \"Movie Details\"\n",
        "]\n",
        "\n",
        "try:\n",
        "    with open(csv_file, mode=\"w\", newline=\"\", encoding=\"utf-8\") as file:\n",
        "        writer = csv.DictWriter(file, fieldnames=fieldnames)\n",
        "        writer.writeheader()\n",
        "        writer.writerows(csv_data)\n",
        "    print(f\"Data saved to {csv_file}\")\n",
        "except Exception as e:\n",
        "    print(f\"Error saving to CSV: {e}\")\n",
        "\n",
        "# Save not-found movies to a file\n",
        "not_found_file = \"not_found_movies.csv\"\n",
        "try:\n",
        "    with open(not_found_file, mode=\"w\", newline=\"\", encoding=\"utf-8\") as file:\n",
        "        writer = csv.writer(file)\n",
        "        writer.writerow([\"Movie Name\"])\n",
        "        for movie in not_found_movies:\n",
        "            writer.writerow([movie])\n",
        "    print(f\"Not-found movies saved to {not_found_file}\")\n",
        "except Exception as e:\n",
        "    print(f\"Error saving not-found movies: {e}\")\n",
        "\n",
        "# Save filtered-out movies to a file\n",
        "filtered_out_file = \"filtered_out_movies.csv\"\n",
        "try:\n",
        "    with open(filtered_out_file, mode=\"w\", newline=\"\", encoding=\"utf-8\") as file:\n",
        "        writer = csv.writer(file)\n",
        "        writer.writerow([\"Movie Name\"])\n",
        "        for movie in filtered_out_movies:\n",
        "            writer.writerow([movie])\n",
        "    print(f\"Filtered-out movies saved to {filtered_out_file}\")\n",
        "except Exception as e:\n",
        "    print(f\"Error saving filtered-out movies: {e}\")\n"
      ],
      "metadata": {
        "colab": {
          "base_uri": "https://localhost:8080/"
        },
        "id": "uh4Epnmyxj6E",
        "outputId": "bc1e2994-9214-4790-b530-7a8d7c388046"
      },
      "execution_count": null,
      "outputs": [
        {
          "output_type": "stream",
          "name": "stdout",
          "text": [
            "Data saved to bollywood_movies_full_details.csv\n",
            "Not-found movies saved to not_found_movies.csv\n",
            "Filtered-out movies saved to filtered_out_movies.csv\n"
          ]
        }
      ]
    },
    {
      "cell_type": "code",
      "source": [
        "tmdb=pd.read_csv(csv_file)\n",
        "tmdb.head()"
      ],
      "metadata": {
        "id": "Jjd4HeTL3X1J"
      },
      "execution_count": null,
      "outputs": []
    },
    {
      "cell_type": "markdown",
      "source": [
        "As can be seen above the data has been retrieved in as json/dictionary and needs preprocessing before augmentation.\n"
      ],
      "metadata": {
        "id": "uzsizgJrB8tG"
      }
    },
    {
      "cell_type": "code",
      "source": [
        "import json\n",
        "import ast\n",
        "normalized_data = []\n",
        "\n",
        "tmdb_copy = tmdb.copy()\n",
        "tmdb_copy[\"Movie Details\"] = tmdb_copy[\"Movie Details\"].apply(lambda x: ast.literal_eval(x) if pd.notnull(x) else {})\n",
        "\n",
        "# Flatten the structure\n",
        "normalized_data = []\n",
        "for _, row in tmdb_copy.iterrows():\n",
        "    row_dict = row.to_dict()\n",
        "    movie_details = row_dict.pop(\"Movie Details\", {})\n",
        "    row_dict.update(movie_details)\n",
        "    # Flatten genres, production_companies, and spoken_languages into strings\n",
        "    row_dict[\"genres\"] = \", \".join([genre[\"name\"] for genre in movie_details.get(\"genres\", [])])\n",
        "    row_dict[\"production_companies\"] = \", \".join([company[\"name\"] for company in movie_details.get(\"production_companies\", [])])\n",
        "    row_dict[\"production_countries\"] = \", \".join([country[\"name\"] for country in movie_details.get(\"production_countries\", [])])\n",
        "    row_dict[\"spoken_languages\"] = \", \".join([language[\"english_name\"] for language in movie_details.get(\"spoken_languages\", [])])\n",
        "    normalized_data.append(row_dict)\n",
        "\n",
        "flattened_tmdb = pd.DataFrame(normalized_data)  # Renamed to flattened_tmdb\n",
        "output_path = \"/content/drive/MyDrive/IS517Finalproject/flattened_movies_fixed.csv\"\n",
        "flattened_tmdb.to_csv(output_path, index=False)  # Use flattened_tmdb\n",
        "\n"
      ],
      "metadata": {
        "id": "Du41oo1u1UQD"
      },
      "execution_count": null,
      "outputs": []
    },
    {
      "cell_type": "code",
      "source": [
        "flattened_tmdb.head()"
      ],
      "metadata": {
        "id": "UDHXlGin33SR"
      },
      "execution_count": null,
      "outputs": []
    },
    {
      "cell_type": "markdown",
      "source": [
        "As can be seen above tmdb dataframe has been sufficiently flattened.Now we will combine it  with ou orignal dataset longitutadnally to augment information about actresses,reviews, sub genres,run time etc.\n",
        "\n",
        "To join the tables longitutinally we will use the movie name(string) as we dont have a common id between the two tables.In order to do so we will use the rapid fuzz function which is just an otimized version of the fuzzy matching library.\n"
      ],
      "metadata": {
        "id": "r77EWSiF8_VB"
      }
    },
    {
      "cell_type": "code",
      "source": [
        "flattened_tmdb.rename(columns={'Movie Name': 'Movie','popularity':'Movie Popularity'}, inplace=True)\n",
        "movies_df.rename(columns={'Lead Star': 'Actor'}, inplace=True)"
      ],
      "metadata": {
        "id": "UFmkAjLUgG1v"
      },
      "execution_count": null,
      "outputs": []
    },
    {
      "cell_type": "code",
      "source": [
        "!pip install rapidfuzz\n"
      ],
      "metadata": {
        "id": "mGnCZL5kAMQ3"
      },
      "execution_count": null,
      "outputs": []
    },
    {
      "cell_type": "code",
      "source": [
        "from rapidfuzz import fuzz, process\n",
        "import pandas as pd\n",
        "\n",
        "# Fuzzy matching function to join data based on movie names\n",
        "def fuzzy_merge(df1, df2, key1, key2, threshold=80, limit=1):\n",
        "    matches = []\n",
        "    for i, name in enumerate(df1[key1]):\n",
        "        match = process.extractOne(name, df2[key2], scorer=fuzz.ratio)\n",
        "        if match and match[1] >= threshold:\n",
        "            best_match = df2[df2[key2] == match[0]].iloc[0]\n",
        "            matches.append([df1.iloc[i], best_match])\n",
        "    if matches:\n",
        "        left = pd.DataFrame([x[0] for x in matches])\n",
        "        right = pd.DataFrame([x[1] for x in matches])\n",
        "        return pd.concat([left.reset_index(drop=True), right.reset_index(drop=True)], axis=1)\n",
        "    else:\n",
        "        return pd.DataFrame()  # Return an empty DataFrame if no matches found\n",
        "\n",
        "# Fuzzy matching function for individual value matching (actor, director, music director)\n",
        "def fuzzy_match(value, choices, threshold=85):\n",
        "    results = process.extractOne(value, choices)\n",
        "    if results is not None and len(results) >= 2:\n",
        "        best_match, score = results[:2]\n",
        "        return best_match if score >= threshold else None\n",
        "    else:\n",
        "        return None\n",
        "\n",
        "# Function to add popularity scores for actor, director, and music director\n",
        "def add_popularity_scores(row, flattened_tmdb):\n",
        "    actor_name = row['Actor']\n",
        "    director_name = row['Director']\n",
        "    music_director_name = row['Music Director']\n",
        "\n",
        "    # Fuzzy match Actor Popularity\n",
        "    actor_match = fuzzy_match(actor_name, flattened_tmdb['Actor Name'].dropna().unique())\n",
        "    row['Actor Popularity Score'] = flattened_tmdb[flattened_tmdb['Actor Name'] == actor_match]['Popularity'].values[0] if actor_match else None\n",
        "\n",
        "    # Fuzzy match Director Popularity Score\n",
        "    director_match = fuzzy_match(director_name, flattened_tmdb[flattened_tmdb['Job'] == 'Director']['Crew Member Name'].dropna().unique())\n",
        "    row['Director Popularity Score'] = flattened_tmdb[flattened_tmdb['Crew Member Name'] == director_match]['Popularity'].values[0] if director_match else None\n",
        "\n",
        "    # Fuzzy match Music Director Popularity Score\n",
        "    music_director_match = fuzzy_match(music_director_name, flattened_tmdb['Crew Member Name'].dropna().unique())\n",
        "    row['Music Director Popularity Score'] = flattened_tmdb[flattened_tmdb['Crew Member Name'] == music_director_match]['Popularity'].values[0] if music_director_match else None\n",
        "\n",
        "    return row\n",
        "\n",
        "# Perform fuzzy matching and merging to add actress-related variables\n",
        "filtered_df = flattened_tmdb[(flattened_tmdb[\"Gender\"] == 1) & (flattened_tmdb[\"Actor ID\"].notna())]\n",
        "filtered_df.rename(columns={'Actor Name':'Actress','Popularity': 'Actress Popularity Score'}, inplace=True)\n",
        "sorted_df = filtered_df.sort_values(by='Actress Popularity Score', ascending=False)\n",
        "\n",
        "# Step 1: Perform fuzzy merge\n",
        "result = fuzzy_merge(movies_df, sorted_df, 'Movie Name', 'Movie', threshold=80)\n",
        "\n",
        "# Step 2: Apply popularity scores after merging\n",
        "popularity= result.apply(add_popularity_scores, axis=1, flattened_tmdb=flattened_tmdb)\n",
        "\n",
        "\n",
        "\n"
      ],
      "metadata": {
        "id": "VZfJAvKsVBJx"
      },
      "execution_count": null,
      "outputs": []
    },
    {
      "cell_type": "code",
      "source": [
        "popularity.head()"
      ],
      "metadata": {
        "id": "0EpS-iyOunJx"
      },
      "execution_count": null,
      "outputs": []
    },
    {
      "cell_type": "code",
      "source": [
        "\"\"\"from rapidfuzz import fuzz, process\n",
        "\n",
        "# Fuzzy matgching and joing function\n",
        "def fuzzy_merge(df1, df2, key1, key2, threshold=80, limit=1):\n",
        "\n",
        "  matches = []\n",
        "  for i, name in enumerate(df1[key1]):\n",
        "      match = process.extractOne(name, df2[key2], scorer=fuzz.ratio)\n",
        "      if match and match[1] >= threshold:\n",
        "          best_match = df2[df2[key2] == match[0]].iloc[0]\n",
        "          matches.append([df1.iloc[i], best_match])\n",
        "  if matches:\n",
        "      left = pd.DataFrame([x[0] for x in matches])\n",
        "      right = pd.DataFrame([x[1] for x in matches])\n",
        "      return pd.concat([left.reset_index(drop=True), right.reset_index(drop=True)], axis=1)\n",
        "  else:\n",
        "      return pd.DataFrame()  # Return an empty DataFrame if no matches found\n",
        "\n",
        "filtered_df = flattened_tmdb[(flattened_tmdb[\"Gender\"] == 1) & (flattened_tmdb[\"Actor ID\"].notna())]\n",
        "sorted_df=filtered_df.sort_values(by='Popularity', ascending=False)\n",
        "result = fuzzy_merge(movies_df, sorted_df, 'Movie Name', 'Movie Name', threshold=80)\n",
        "\n",
        "# Save to csv\n",
        "output_path = \"/content/drive/MyDrive/IS517Finalproject/actress_fuzzy_matched_cleaned.csv\"\n",
        "result.to_csv(output_path)\"\"\"\n"
      ],
      "metadata": {
        "collapsed": true,
        "id": "lj3wH8ebCqOt"
      },
      "execution_count": null,
      "outputs": []
    },
    {
      "cell_type": "code",
      "source": [
        "\"\"\"# function to perform fuzzy matching\n",
        "def fuzzy_match(value, choices, threshold=85):\n",
        "\n",
        "    # Extract the matched string, score, and index\n",
        "    results = process.extractOne(value, choices)\n",
        "\n",
        "    # Checks if resultsis empty or not\n",
        "    if results is not None and len(results) >= 2:\n",
        "        best_match, score = results[:2]  # Unpack the first two values\n",
        "\n",
        "        return best_match if score >= threshold else None\n",
        "    else:\n",
        "        return None  # Handle cases where no match was found\n",
        "\n",
        "# Prepare the data for fuzzy matching\n",
        "actor_names = flattened_tmdb['Actor Name'].dropna().unique()\n",
        "director_names = flattened_tmdb[flattened_tmdb['Job'] == 'Director']['Crew Member Name'].dropna().unique()\n",
        "music_director_names = flattened_tmdb['Crew Member Name'].dropna().unique()\n",
        "\n",
        "# Function to apply fuzzy matching for the relevant columns\n",
        "def add_popularity_scores(row):\n",
        "    actor_name = row['Lead Star']\n",
        "    director_name = row['Director']\n",
        "    music_director_name = row['Music Director']\n",
        "\n",
        "    # Fuzzy match Actor Popularity\n",
        "    actor_match = fuzzy_match(actor_name, actor_names)\n",
        "    # Check if a fuzzy match was found before accessing Popularity\n",
        "    row['Actor Popularity Score'] = flattened_tmdb[flattened_tmdb['Actor Name'] == actor_match]['Popularity'].values[0] if actor_match is not None and len(flattened_tmdb[flattened_tmdb['Actor Name'] == actor_match]) > 0 else None\n",
        "    # Fuzzy match Director Popularity Score\n",
        "    director_match = fuzzy_match(director_name, director_names)\n",
        "    # Check if a fuzzy match was found before accessing Popularity\n",
        "    row['Director Popularity Score'] = flattened_tmdb[flattened_tmdb['Crew Member Name'] == director_match]['Popularity'].values[0] if director_match is not None and len(flattened_tmdb[flattened_tmdb['Crew Member Name'] == director_match]) > 0 else None\n",
        "\n",
        "    # Fuzzy match Music Director Popularity Score\n",
        "    music_director_match = fuzzy_match(music_director_name, music_director_names)\n",
        "    # Check if a fuzzy match was found before accessing Popularity\n",
        "    row['Music Director Popularity Score'] = flattened_tmdb[flattened_tmdb['Crew Member Name'] == music_director_match]['Popularity'].values[0] if music_director_match is not None and len(flattened_tmdb[flattened_tmdb['Crew Member Name'] == music_director_match]) > 0 else None\n",
        "\n",
        "    return row\n",
        "\n",
        "actress_fuzzy_popularity = result.apply(add_popularity_scores, axis=1)\"\"\""
      ],
      "metadata": {
        "id": "HiVlVVDyHifO"
      },
      "execution_count": null,
      "outputs": []
    },
    {
      "cell_type": "markdown",
      "source": [
        "We have a scraped data about the major awards of the actors,actresses and Directors from Wikipedia:There three awards considered here: National awards,Filmfare awards and IFFA awards. We used the following Formula to create Points:  **1.5 X National awards, 1 X Filmare/IFFA, 1/Number\n",
        "of Nominees for Nominations** (Based on the importance of these awards in india and bollywood)\n",
        "\n",
        "Now  we will add this data to our popularity DF\n"
      ],
      "metadata": {
        "id": "MdY2x_edrmcl"
      }
    },
    {
      "cell_type": "code",
      "source": [
        "award_path = \"/content/drive/MyDrive/IS517Finalproject/awards.csv\"\n",
        "\n",
        "award=pd.read_csv(award_path)\n",
        "award"
      ],
      "metadata": {
        "id": "JYrctNiZQfpm"
      },
      "execution_count": null,
      "outputs": []
    },
    {
      "cell_type": "markdown",
      "source": [
        "Now we augment the award points data to our main dataframe using fuzzy."
      ],
      "metadata": {
        "id": "fsXdkb-rWcvM"
      }
    },
    {
      "cell_type": "code",
      "source": [
        "# Prepare the data for fuzzy matching\n",
        "actor_names = award[award['Role']=='Actor']['Name'].dropna().unique()\n",
        "director_names = award[award['Role']=='Director']['Name'].dropna().unique()\n",
        "actress_names = award[award['Role']=='Actress']['Name'].dropna().unique()\n",
        "\n",
        "def add_award_scores(row):\n",
        "    actor_name = row['Actor']\n",
        "    director_name = row['Director']\n",
        "    actress_name = row['Actress']\n",
        "\n",
        "    # Fuzzy match Actor names and joinining award points\n",
        "    actor_match = fuzzy_match(actor_name, actor_names)\n",
        "    row['Actor Award Score'] = award[award['Name'] == actor_match]['Points'].values[0] if actor_match is not None and len(award[award['Name'] == actor_match]) > 0 else None\n",
        "\n",
        "    #Fuzzy match Director names  and joinining award points\n",
        "    director_match = fuzzy_match(director_name, director_names)\n",
        "    row['Director Award Score'] = award[award['Name'] == actor_match]['Points'].values[0] if actor_match is not None and len(award[award['Name'] == director_match]) > 0 else None\n",
        "\n",
        "    # Fuzzy match Actress names  and joinining award points\n",
        "    actress_match = fuzzy_match(actress_name, actress_names)\n",
        "    row['Actress Award Score'] = award[award['Name'] == actress_match]['Points'].values[0] if actress_match is not None and len(award[award['Name'] == actress_match]) > 0 else None\n",
        "    return row\n",
        "\n",
        "# Apply the function to each row\n",
        "awards = popularity.apply(add_award_scores, axis=1)"
      ],
      "metadata": {
        "id": "K7sjvtWfd3qc"
      },
      "execution_count": null,
      "outputs": []
    },
    {
      "cell_type": "code",
      "source": [
        "awards.head()"
      ],
      "metadata": {
        "colab": {
          "base_uri": "https://localhost:8080/"
        },
        "id": "NdaVBV5Uv7SV",
        "outputId": "2b1d282e-636b-4b43-f788-3ef3825218e1"
      },
      "execution_count": null,
      "outputs": [
        {
          "output_type": "error",
          "ename": "NameError",
          "evalue": "name 'awards' is not defined",
          "traceback": [
            "\u001b[0;31m---------------------------------------------------------------------------\u001b[0m",
            "\u001b[0;31mNameError\u001b[0m                                 Traceback (most recent call last)",
            "\u001b[0;32m<ipython-input-9-3d9c87b9ae82>\u001b[0m in \u001b[0;36m<cell line: 1>\u001b[0;34m()\u001b[0m\n\u001b[0;32m----> 1\u001b[0;31m \u001b[0mawards\u001b[0m\u001b[0;34m.\u001b[0m\u001b[0mhead\u001b[0m\u001b[0;34m(\u001b[0m\u001b[0;34m)\u001b[0m\u001b[0;34m\u001b[0m\u001b[0;34m\u001b[0m\u001b[0m\n\u001b[0m",
            "\u001b[0;31mNameError\u001b[0m: name 'awards' is not defined"
          ]
        }
      ]
    },
    {
      "cell_type": "markdown",
      "source": [
        "Lets try and clean it up a bit since there is a significant increase in number of columns after the merge."
      ],
      "metadata": {
        "id": "5IDymUaM6ug9"
      }
    },
    {
      "cell_type": "code",
      "source": [
        "\n",
        "import numpy as np\n",
        "import pandas as pd\n",
        "\n",
        "\n",
        "# flattening data\n",
        "for column in awards.columns:\n",
        "    if awards[column].apply(isinstance, args=(list,)).any():\n",
        "        awards[column] = awards[column].apply(lambda x: tuple(x) if isinstance(x, list) else x)\n",
        "\n",
        "\n",
        "# Check for missing values\n",
        "missing_values = awards.isnull().sum()\n",
        "print(\"Missing values count per column:\\n\", missing_values)\n",
        "\n",
        "# Dropping unnecessary columns\n",
        "columns_to_remove = [\n",
        "    'Unnamed: 0', 'Movie', 'Character', 'Actor ID', 'Gender',\n",
        "    'Crew Member Name', 'Job', 'Department', 'Crew Member ID', 'Profile Path',\n",
        "    'backdrop_path', 'belongs_to_collection', 'budget', 'homepage', 'id',\n",
        "    'original_language', 'original_title', 'overview', 'poster_path',\n",
        "    'revenue', 'spoken_languages', 'status', 'tagline', 'title', 'video', 'genres',\n",
        "    'Unnamed: 14'\n",
        "]\n",
        "valid_columns_to_remove = list(set(columns_to_remove) & set(awards.columns))\n",
        "awards = awards.drop(columns=valid_columns_to_remove)\n",
        "\n",
        "# Encoding boolean columns\n",
        "awards['Whether Remake'] = awards['Whether Remake'].map({\"Yes\": 1, \"No\": 0})\n",
        "awards['Whether Franchise'] = awards['Whether Franchise'].map({\"Yes\": 1, \"No\": 0})\n",
        "awards['New Actor'] = awards['New Actor'].map({\"Yes\": 1, \"No\": 0})\n",
        "awards['New Director'] = awards['New Director'].map({\"Yes\": 1, \"No\": 0})\n",
        "awards['New Music Director'] = awards['New Music Director'].map({\"Yes\": 1, \"No\": 0})\n",
        "awards['Release Period'] = awards['Release Period'].map({\"Holiday\": 1, \"Normal\": 0})\n",
        "\n",
        "\n",
        "\n",
        "if 'genres' in awards.columns:\n",
        "    awards['genres'] = awards['genres'].apply(\n",
        "        lambda x: \", \".join(eval(x)) if isinstance(x, str) and x.startswith('[') else x\n",
        "    )\n",
        "if 'production_countries' in awards.columns:\n",
        "    awards['production_countries'] = awards['production_countries'].apply(\n",
        "        lambda x: \", \".join(eval(x)) if isinstance(x, str) and x.startswith('[') else x\n",
        "    )\n",
        "\n",
        "\n",
        "\n",
        "# Convert newly added numerical columns to numeric type\n",
        "awards['Budget(INR)'] = pd.to_numeric(awards['Budget(INR)'], errors='coerce')\n",
        "awards['Revenue(INR)'] = pd.to_numeric(awards['Revenue(INR)'], errors='coerce')\n",
        "awards['Actress Popularity Score'] = pd.to_numeric(awards['Actress Popularity Score'], errors='coerce')\n",
        "awards['Actor Popularity Score'] = pd.to_numeric(awards['Actor Popularity Score'], errors='coerce')\n",
        "awards['Director Popularity Score'] = pd.to_numeric(awards['Director Popularity Score'], errors='coerce')\n",
        "awards['Popularity'] = pd.to_numeric(awards['Movie Popularity'], errors='coerce')\n",
        "awards['Music Director Popularity Score'] = pd.to_numeric(awards['Music Director Popularity Score'], errors='coerce')\n",
        "awards['Actor Award Score'] = pd.to_numeric(awards['Actor Award Score'],errors='coerce')\n",
        "\n",
        "# Handle missing values in popularity columns\n",
        "awards['Actress Popularity Score'].fillna(0, inplace=True)\n",
        "awards['Actor Popularity Score'].fillna(0, inplace=True)\n",
        "awards['Director Popularity Score'].fillna(0, inplace=True)\n",
        "awards['Music Director Popularity Score'].fillna(0, inplace=True)\n",
        "awards['Actor Award Score'].fillna(0, inplace=True)\n",
        "awards['Director Award Score'].fillna(0, inplace=True)\n",
        "awards['Actress Award Score'].fillna(0, inplace=True)\n",
        "awards['Popularity'].fillna(0, inplace=True)\n",
        "\n",
        "# Ensure date columns are in the correct format\n",
        "awards['release_date'] = pd.to_datetime(awards['release_date'], errors='coerce')\n",
        "\n",
        "\n",
        "\n",
        "# Display the first few rows of the resulting DataFrame\n",
        "awards.head()\n"
      ],
      "metadata": {
        "id": "O0sXDxSa0-zH"
      },
      "execution_count": null,
      "outputs": []
    },
    {
      "cell_type": "code",
      "source": [
        "missing_values = awards.isnull().sum()\n",
        "print(\"Missing values count per column:\\n\", missing_values)\n"
      ],
      "metadata": {
        "id": "Fov5K2p-7Mx0"
      },
      "execution_count": null,
      "outputs": []
    },
    {
      "cell_type": "code",
      "source": [
        "awards['release_year'] = pd.to_datetime(awards['release_date'], errors='coerce').dt.year\n",
        "awards['release_year'] = pd.to_numeric(awards['release_year'], errors='coerce')\n",
        "awards['release_year'] = awards['release_year'].fillna(0).astype(int)\n",
        "awards = awards.drop(columns=['release_date'])\n",
        "\n",
        "awards.head()"
      ],
      "metadata": {
        "id": "mGaoiEHCuho7"
      },
      "execution_count": null,
      "outputs": []
    },
    {
      "cell_type": "code",
      "source": [
        "\n",
        "awards['imdb_id'] = awards['imdb_id'].fillna('Unknown')\n",
        "missing_values_after_cleaning = awards.isnull().sum()\n",
        "missing_values_after_cleaning\n"
      ],
      "metadata": {
        "id": "d1yA7xNexPCi"
      },
      "execution_count": null,
      "outputs": []
    },
    {
      "cell_type": "markdown",
      "source": [
        "Now I will normalise and transform numeric variables"
      ],
      "metadata": {
        "id": "aHKsG4AAycCX"
      }
    },
    {
      "cell_type": "code",
      "source": [
        "from sklearn.preprocessing import MinMaxScaler, StandardScaler\n",
        "\n",
        "\n",
        "# Separate numeric features for normalization and standardization\n",
        "popularity_features = ['Actress Popularity Score', 'Actor Popularity Score', 'Popularity','Director Popularity Score', 'Music Director Popularity Score']\n",
        "award_features = ['Actor Award Score', 'Director Award Score', 'Actress Award Score']\n",
        "\n",
        "scaler_popularity = MinMaxScaler()  # For normalization\n",
        "scaler_award = StandardScaler()     # For standardization\n",
        "\n",
        "# Normalize the popularity features\n",
        "awards[popularity_features] = scaler_popularity.fit_transform(awards[popularity_features])\n",
        "\n",
        "# Standardize the award features\n",
        "awards[award_features] = scaler_award.fit_transform(awards[award_features])\n",
        "\n",
        "awards.head()\n"
      ],
      "metadata": {
        "id": "9U03cZUkyoGP"
      },
      "execution_count": null,
      "outputs": []
    },
    {
      "cell_type": "markdown",
      "source": [
        "**Important Transformations**\n",
        "\n",
        "RBR: Revenue/Budget\n",
        "\n",
        "RBR Category: (RBR<1: Loss, 1≤RBR<3 : Profit, RBR≥3:Blockbuster)\n",
        "\n",
        "Vote Score: Vote_Avg x Vote_Count\n",
        "\n",
        "Runtime Categories"
      ],
      "metadata": {
        "id": "HjVbmlkmCarv"
      }
    },
    {
      "source": [
        "\n",
        "#  vote_score\n",
        "awards['vote_score'] = awards['vote_count'] * awards['vote_average']\n",
        "\n",
        "# Calculate RBR and categorize it\n",
        "awards['RBR'] = awards['Revenue(INR)'] / awards['Budget(INR)']\n",
        "awards['RBR Category'] = pd.cut(awards['RBR'],\n",
        "                                bins=[-float('inf'), 1, 3, float('inf')],\n",
        "                                labels=['Loss', 'Profit', 'Blockbuster'],\n",
        "                                include_lowest=True)\n",
        "\n",
        "# Categorize runtime\n",
        "awards['Runtime Category'] = pd.cut(awards['runtime'],\n",
        "                                    bins=[0, 90, 135, 160, float('inf')],\n",
        "                                    labels=['Short', 'Medium', 'Long', 'Very Long'],\n",
        "                                    include_lowest=True)\n",
        "\n",
        "awards.head()\n"
      ],
      "cell_type": "code",
      "metadata": {
        "id": "eiLCJQ335S1N"
      },
      "execution_count": null,
      "outputs": []
    },
    {
      "cell_type": "code",
      "source": [
        "output_path = \"/content/drive/MyDrive/IS517Finalproject/cleaned_data.csv\"\n",
        "awards.to_csv(output_path)"
      ],
      "metadata": {
        "id": "euTaexAA7WAb"
      },
      "execution_count": null,
      "outputs": []
    },
    {
      "cell_type": "markdown",
      "source": [
        "Now to analyse the data we create a variariety of visualizations:\n",
        "\n",
        "These include:\n",
        "\n",
        "1.  Release Periods: Shows movie count for holiday vs. normal releases.\n",
        "2.  Remakes: Shows movie count for remakes vs. originals.\n",
        "3.   Movie Genres: Shows movie count per genre.\n",
        "4.  Franchises: Shows movie count for franchise vs. standalone movies.\n",
        "5.  New Actors: Shows movie count with new vs. established actors.\n",
        "6.  New Directors: Shows movie count with new vs. established directors.\n",
        "7.  New Music Directors: Shows movie count with new vs. established music directors.\n",
        "7.  Movie Runtimes: Shows movie count by runtime category.\n",
        "8.  RBR Categories: Shows movie count by financial performance (loss, profit, blockbuster).\n",
        "\n",
        "\n",
        "\n"
      ],
      "metadata": {
        "id": "ASh7PNw6318A"
      }
    },
    {
      "cell_type": "code",
      "source": [
        "import matplotlib.pyplot as plt\n",
        "\n",
        "categorical_columns = [\n",
        "    'Genre',\n",
        "    'Release Period',\n",
        "    'Whether Remake',\n",
        "    'Whether Franchise',\n",
        "    'New Actor',\n",
        "    'New Director',\n",
        "    'New Music Director',\n",
        "    'Runtime Category',\n",
        "    'RBR Category'\n",
        "]\n",
        "\n",
        "colors = ['skyblue', 'lightcoral', 'lightgreen', 'lightyellow', 'lightpink', 'lightseagreen']\n",
        "\n",
        "for idx, column in enumerate(categorical_columns):\n",
        "    plt.figure(figsize=(10, 6))\n",
        "    ax = awards[column].value_counts().plot(kind='bar', title=f'Distribution of {column}', color=colors[idx % len(colors)])\n",
        "\n",
        "    for p in ax.patches:\n",
        "        ax.annotate(f'{p.get_height()}', (p.get_x() + p.get_width() / 2., p.get_height()),\n",
        "                    ha='center', va='center',\n",
        "                    fontsize=10, color='black',\n",
        "                    xytext=(0, 5), textcoords='offset points')\n",
        "\n",
        "    plt.xlabel(column)\n",
        "    plt.ylabel('Frequency')\n",
        "    plt.xticks(rotation=45, ha='right')\n",
        "    plt.tight_layout()\n",
        "    plt.show()\n"
      ],
      "metadata": {
        "id": "fmO_V2Un8qjq"
      },
      "execution_count": null,
      "outputs": []
    },
    {
      "cell_type": "markdown",
      "source": [
        "We also create the following Tables:\n",
        "\n",
        "1.**actor_movie_count**: Ranks actors by the number of movies they've appeared in, to identify the most prolific actors.\n",
        "\n",
        "2.**director_movie_count**: Ranks directors by their movie count, to identify the most active directors.\n",
        "\n",
        "3.**music_director_movie_count**: Ranks music directors by their movie count, to identify the most frequent music directors.\n",
        "\n",
        "4.**actress_movie_count**: Ranks actresses by their movie count, to identify the most prolific actresses.\n",
        "\n",
        "\n",
        "These tables are used to identify the most frequently appearing individuals in each role (actor, director, music director, and actress) within the movie dataset, which can be useful for understanding industry trends and prominence."
      ],
      "metadata": {
        "id": "0e19IYr49AIB"
      }
    },
    {
      "source": [
        "from IPython.display import display\n",
        "\n",
        "# Counting the number of movies for each actor, director, music director, and actress\n",
        "actor_movie_count = awards['Actor'].value_counts().reset_index()\n",
        "director_movie_count = awards['Director'].value_counts().reset_index()\n",
        "music_director_movie_count = awards['Music Director'].value_counts().reset_index()\n",
        "actress_movie_count = awards['Actress'].value_counts().reset_index()\n",
        "\n",
        "actor_movie_count.columns = ['Actor', 'Number of Movies']\n",
        "director_movie_count.columns = ['Director', 'Number of Movies']\n",
        "music_director_movie_count.columns = ['Music Director', 'Number of Movies']\n",
        "actress_movie_count.columns = ['Actress', 'Number of Movies']\n",
        "\n",
        "print(\"Actor Movie Count:\")\n",
        "display(actor_movie_count.head())  # Display the first few rows using .head()\n",
        "\n",
        "print(\"\\nDirector Movie Count:\")\n",
        "display(director_movie_count.head())\n",
        "\n",
        "print(\"\\nMusic Director Movie Count:\")\n",
        "display(music_director_movie_count.head())\n",
        "\n",
        "print(\"\\nActress Movie Count:\")\n",
        "display(actress_movie_count.head())\n"
      ],
      "cell_type": "code",
      "metadata": {
        "id": "N9_P3NIHANxK"
      },
      "execution_count": null,
      "outputs": []
    },
    {
      "cell_type": "markdown",
      "source": [
        "Then we visualize how many actors, actresses, and directors are needed to cover a certain percentage of the movie dataset, showing their individual coverage and overall contribution."
      ],
      "metadata": {
        "id": "Kjdox9WB97gE"
      }
    },
    {
      "cell_type": "code",
      "source": [
        "\n",
        "\n",
        "actors = awards['Actor'].dropna().unique()\n",
        "directors = awards['Director'].dropna().unique()\n",
        "actresses = awards['Actress'].dropna().unique()\n",
        "total_movies = len(awards)\n",
        "\n",
        "# Create a function to calculate percentage coverage\n",
        "def calculate_percentage(people, column_name):\n",
        "    coverage = {}\n",
        "    for person in people:\n",
        "        coverage[person] = len(awards[awards[column_name] == person]) / total_movies * 100\n",
        "    return coverage\n",
        "\n",
        "# Get percentage coverage for actors, actresses, and directors\n",
        "actor_coverage = calculate_percentage(actors, 'Actor')\n",
        "director_coverage = calculate_percentage(directors, 'Director')\n",
        "actress_coverage = calculate_percentage(actresses, 'Actress')\n",
        "\n",
        "def cumulative_distribution(coverage):\n",
        "    sorted_coverage = np.sort(list(coverage.values()))\n",
        "    cumulative_percentage = np.cumsum(sorted_coverage)\n",
        "    return cumulative_percentage, range(1, len(sorted_coverage) + 1)\n",
        "\n",
        "# Calculate cumulative distrbutions\n",
        "actor_cumulative, actor_counts = cumulative_distribution(actor_coverage)\n",
        "actress_cumulative, actress_counts = cumulative_distribution(actress_coverage)\n",
        "director_cumulative, director_counts = cumulative_distribution(director_coverage)\n",
        "\n",
        "# Plot the cumulative distribution\n",
        "plt.figure(figsize=(10, 6))\n",
        "\n",
        "plt.plot(actor_cumulative, actor_counts, label='Actors', marker='o')\n",
        "plt.plot(actress_cumulative, actress_counts, label='Actresses', marker='x')\n",
        "plt.plot(director_cumulative, director_counts, label='Directors', marker='s')\n",
        "plt.xlabel('Percentage of Data Covered')\n",
        "plt.ylabel('Number of Unique Individuals')\n",
        "plt.title('Cumulative Coverage of Actors, Actresses, and Directors')\n",
        "plt.legend()\n",
        "plt.grid(True)\n",
        "plt.tight_layout()\n",
        "\n",
        "plt.show()\n"
      ],
      "metadata": {
        "id": "Fh1qTy40BJnG"
      },
      "execution_count": null,
      "outputs": []
    },
    {
      "cell_type": "markdown",
      "source": [
        "The graph illustrates that directors (green line) have a significantly larger pool of unique individuals, with their numbers grows rapidly and surpasses the total for actors and actresses even when only 40% of the dataset is covered. In contrast, actors (blue line) and actresses (orange line) follow similar trends, with actresses slightly outpacing actors at higher coverage percentages.\n",
        "\n",
        "\n",
        "\n",
        "\n",
        "\n"
      ],
      "metadata": {
        "id": "uFop4sVU-uQ4"
      }
    },
    {
      "cell_type": "markdown",
      "source": [
        "Finally we make the correlation matrix to see the correlation between variable but befor we temporarily remove certain columns because of cardinality to simplify the correlation plot\n",
        "\n",
        "\n",
        "\n",
        "\n",
        "\n",
        "\n",
        "\n"
      ],
      "metadata": {
        "id": "A4eFMkfG--59"
      }
    },
    {
      "cell_type": "code",
      "source": [
        "import seaborn as sns\n",
        "existing_columns = awards.columns\n",
        "print(existing_columns)\n",
        "columns_to_remove = ['RBR Category', 'origin_country', 'Popularity','Movie','Runtime Category','Revenue(INR)','Genre' ,'adult','vote_average','vote_count', 'Unnamed: 0', 'Movie Name','release_year','production_countries','production_companies','imdb_id','Music Director','Director','Actor','Actress','']\n",
        "valid_columns_to_remove = list(set(columns_to_remove) & set(existing_columns))\n",
        "X = awards.drop(columns=valid_columns_to_remove)\n",
        "X = pd.get_dummies(X, drop_first=True)\n"
      ],
      "metadata": {
        "id": "Br4ifED8dJRR"
      },
      "execution_count": null,
      "outputs": []
    },
    {
      "cell_type": "code",
      "source": [
        "X"
      ],
      "metadata": {
        "id": "_AaGCfoddSX6"
      },
      "execution_count": null,
      "outputs": []
    },
    {
      "cell_type": "code",
      "source": [
        "correlation_matrix = X.corr()\n",
        "plt.figure(figsize=(12, 8))\n",
        "sns.heatmap(correlation_matrix, annot=True, cmap='coolwarm', fmt='.2f', linewidths=0.5)\n",
        "plt.title('Correlation Matrix of Features')\n",
        "plt.show()"
      ],
      "metadata": {
        "id": "dPAGozdtlb0A"
      },
      "execution_count": null,
      "outputs": []
    },
    {
      "cell_type": "markdown",
      "source": [
        "**Strong Positive Correlations:**\n",
        "\n",
        "\n",
        "*Budget(INR) and Number of Screens (+0.88):* Higher budgets are strongly\n",
        "associated with movies being released on more screens.\n",
        "\n",
        "*Budget(INR) and Actor Popularity Score(+0.55):* Higher budgets are strongly\n",
        "associated with movies having actors with higher popularity.\n",
        "\n",
        "*Actor Popularity Score and Movie Popularity (+0.42):* A strong association suggests that movies with popular actors tend to be more popular.\n",
        "\n",
        "*Runtime and Movie Popularity (+0.31):* Longer movies appear to have a slight association with higher popularity.\n",
        "\n",
        "*RBR and Budget(INR) (+0.37):* Revenue-Budget Ratio (RBR) is moderately positively correlated with the budget.\n",
        "\n",
        "*RBR and Vote Score  (+0.44):* Revenue-Budget Ratio (RBR) is moderately positively correlated with the critic vote score.\n",
        "\n",
        "*Vote Score and Movie Popularity (+0.57):* Critic vote scores are strongly related with movie popularity.\n",
        "\n",
        "\n",
        "\n",
        "\n",
        "**Strong Negative Correlations:**\n",
        "\n",
        "*Actor Popularity Score and New Actor (-0.21):* New actors have low popularity scores.\n",
        "\n",
        "*Actor Popularity Score and Whether Remake (-0.21):* Movies that are remakes seem to have lower associations with actor popularity.\n",
        "\n",
        "*New Music Director and Director Award Score (-0.26)*: New music directors tend to correlate negatively with director award scores.\n",
        "\n",
        "\n",
        "We dont eliminate any columns for now as I n want to see how they\n"
      ],
      "metadata": {
        "id": "VgLNbrNTAU1o"
      }
    },
    {
      "cell_type": "code",
      "source": [
        "awards.columns.tolist()\n"
      ],
      "metadata": {
        "id": "AiOrlSXHJkSD"
      },
      "execution_count": null,
      "outputs": []
    },
    {
      "cell_type": "code",
      "source": [
        "#Some more extra colums to get rid of\n",
        "awards=awards.drop(columns=[ 'origin_country', 'Popularity','adult','vote_average','vote_count', 'production_countries','production_companies','imdb_id'])\n"
      ],
      "metadata": {
        "id": "08Oq9wKaLb33"
      },
      "execution_count": null,
      "outputs": []
    },
    {
      "cell_type": "code",
      "source": [
        "awards.columns.tolist()\n"
      ],
      "metadata": {
        "id": "KV33JV_eJLc6"
      },
      "execution_count": null,
      "outputs": []
    },
    {
      "cell_type": "markdown",
      "source": [
        "Now we create a Bankablity score table which contains the relevant points for all actors,actresses and directors throughout the years (2004-2017).This would help us in calculating the yearwise bankablity score for all three members attached to a movie eventually.It would look like this:\n",
        "![download.png](data:image/png;base64,iVBORw0KGgoAAAANSUhEUgAABEYAAACcCAYAAAByUq5PAAAAAXNSR0IArs4c6QAAAARnQU1BAACxjwv8YQUAAAAJcEhZcwAAFiUAABYlAUlSJPAAAHLVSURBVHhe7b0HdFTV2v+fMsmk9957L0PokBAInQAhSO8SKaEnJIGQGAugYMeCilcRsGMXkav3vjZsr1xEmvLS8QJCFP2pLOQPrO9/nzNnkkkymZmEBObJPN+1vgsm+5wz55w9Z+9nf84uNmCxWCwWi8VisVgsFovFslIxGGGxWCwWi8VisVgsFotltWoWjPy///f/8OOPP+LcuXNsAj527BiOHj1qMI1tef6///s/nDhxwmAa2/J88OBBnD592mAa27J85swZ7N+/32Aa2/J86tQpHDp0yGAa2/LMsQYtS7HGyZMnDaaxLc8HDhzgWIOIpVhDyi9DaWzLs1QOSvWXKTULRhYtWgQbGxs2m81ms9lsNpvNZrPZbJJ2dXVVKEfzahaMbNmyBXG+ahwqTWMTcFEXP4xK8TKYxrY8dw9zRXVesME0tuXZ1cEWr0yMMZjGtizvuDVergAPLDGczrYsrx0ShpQAJ4NpbMvzVI0vxqV7G0xjW541wS5YOSDEYBrb8qyytcFbk2MNprEty+9OjZNjDUNpbMvz6kGhyMrKUihH82oWjLzyyitI8nfCr7d3YhPwgp4BmJDhYzCNbXnOjnTDGtEgMJTGtjy7OdqJBneCwTS2ZfmbeclysHKuSmMwnW1ZXl8QiYwgZ4NpbMvz7K7+mJblazCNbXnuGuaKh/PDDaaxLc8Odrb4+LZEg2lsy/Lns5NgK2INQ2lsy/OjIyLQrVs3hXI0LwYjHcQMRmiZwQgtMxihYwYjtMxghJYZjNAygxFaZjBCxwxGaJnBiJWZwQgtMxihZQYjdMxghJYZjNAygxFaZjBCywxG6JjBCC0zGLEyMxihZQYjtMxghI4ZjNAygxFaZjBCywxGaJnBCB0zGKFlBiNWZgYjtMxghJYZjNAxgxFaZjBCywxGaJnBCC0zGKFjBiO0zGDEysxghJYZjNAygxE6ZjBCywxGaJnBCC0zGKFlBiN0zGCElhmMWJkZjNAygxFaZjBCxwxGaJnBCC0zGKFlBiO0zGCEjhmM0DKDESszgxFaZjBCywxG6JjBCC0zGKFlBiO0zGCElhmM0DGDEVpmMGJlZjBCywxGaJnBCB0zGKFlBiO0zGCElhmM0DKDETpmMELLDEaszAxGaJnBCC0zGKFjBiO0zGCElhmM0DKDEVpmMELHDEZomcGIlZnBCC0zGKFlBiN0zGCElhmM0DKDEVpmMELLDEbomMEILTMYsTIzGKFlBiO0zGCEjhmM0DKDEVpmMELLDEZomcEIHTMYoWUGI1ZmBiO0zGCElhmM0DGDEVpmMELLDEZomcEILTMYoWMGI7TMYMTKzGCElhmM0DKDETpmMELLDEZomcEILTMYoWUGI3TMYISWGYxYmRmM0DKDEVpmMELHDEZomcEILTMYoWUGI7TMYISOGYzQMoMRKzODEVpmMELLDEbomMEILTMYoWUGI7TMYISWGYzQMYMRWmYwYmVmMELLDEZomcEIHTMYoWUGI7TMYISWGYzQMoMROmYwQssMRqzMDEZomcEILTMYoWMGI7TMYISWGYzQMoMRWmYwQscMRmiZwYiVmcEILTMYMdcanFiajp+qDaXpW4PT5ek4VJqG75ZkoNbgNq03gxE6ZjBCywxGaJnBCC23CRipysSxpWn4cUkK9pdzudqeZjBCxwxGaJnBiJWZwQgttw8Y0eDI7Bg8mBeEZbnBuGdUPL6dHYvX5mYa2NbyXbs4GrMi3DEpyw0R/n54qdRYQJaBj0cFoK+7DRwTIvGTwW1abwYjdMxghJYZjNAygxFaNgeM1JYl4JlBQZgU54m5eaFYOVDrO/v4Y1yW2Lc8EU/3dEewrS2GFtzYeKJ2cSzW5EXh8+WG05t1dTo+LKy/FsnPz75R556BPbMS5JihzjOTcLDS0LYNzWCEjhmM0DKDESszgxFabnswosHeQm/E+Hjh0bkZqK1Kx2ej/NDZxR5DRmQY2N7SnYkdPdVwjgzDPhGUPTc4HG8tMtXQTccjcbZwTmQwYs1mMELLDEZomcEILZvVY6Q6EydLY1HkbYvwrBgcKk/HMeGvC30Q7aHkdXk4BtjbIn/UjQUjpyf6ItTJDffMb2l5rsGZZenY1tMJDuIatpRk4NQKQ9u1xhocnBWLV2am4ryh9MpYTPO2h6+Lqt7uHrhvoelrYDBCxwxGaJnBiJWZwQgttzkYqU7FqghbBGlicKbu75n4ONsFw0iCkQysT7CFU4sgB4MRNoMRamYwQssMRmjZ7KE0VUmoCLJFZNe4+hiiKhGVSf7a/98kMHJ91uCzPs5w9PLDO2b01jDfJmKNZVGYoolqVRzCYISOGYzQMoMRKzODEVpuezCShodj7WDv5Y0N8w0HLufmRqE0zhFuvgF4WwoSViThuRxPxDg4YtYkZZ9lyXg+LwDF4vc0u2sQHpuZVj9fh9G0JGwSafN6BaK4RzCem6MPYzQ4NDMCFSKtPFvsnxOOHSW6RquBtCVp2JYfiHxfG6j8vVDaJwxvLdGYcf4MRtgMRqiZwQgtMxih5esCI/puDEYqU/DaoEAs6B2Ekp5BuGdiirbelYawjAzEMF8VUnvF4NMxwZiZ5oXRWUHYOFcvLhAxyz9HBGGR2L+0hz/Khyfgh0ZziZ2bG41lGS7wdnbHmmINasvi8WB3d0Q6qjF3YjJeG+iPsclemJQdiZ3LGu6rtWkwUrs0AetzA8R1BOC2LH+sFNehvf5m4hZx3g3ik5wgrC9q+PKpdnEYpvRo5j6aMIMROmYwQssMRqzMDEZouT3mGDk2LQjdnW1go3JAp0Q/VA6PxVcNJkrT4OBQdziqPPGUbrxueQQGimBnkNSrpCoZa2NUSOkej+NSUDDeF5FqV9w5RxzDRNp9sQ7Iyk7ACXHM49MDkOLmgQeVrq+1pZEY4eaGVXI30kx8O9gdwVGh+LbKWJohyGHi/BmMsIUZjNAygxFaZjBCyy0FIxGdY3FsWQZOCf9UmVn/8kMfjFSl4JEEB6R2j8NRkVZbFofiQAcMGJasHVpSnYb7om1h7+mOijFJOFaZhvdzXOHh4YON8lxhIoYY5YmgyFB8J+KAX1ek4N5oB+QMSml4TsJnJvkixE6NBbdqgYwEHbLtbBAd7Y+aUTF4fXQgeqhtkdknCeca7WsSjIjruD9WhV55STgtPp+Y5o8EB2eU36YxGreYijXOzQrClN6ReKJ/ECpyAlHcNRBrp6YaOL+mZjBCxwxGaJnBiJWZwQgtt8/kq6JCLknAM3n+KIhQw0MED/ZOzrj1lvpxsMeGezQEC8sjMUwBC2dvDUCcvTMqZisNysoE3CsC4FXTM42nzQxAosoF1cVK2ooELPKzRVY/bZBUuyQMfR0cMDAvFrsqRMBRnowPZiTjSLWxNMOBh7HzZzDClsxghJYZjNAygxFabikY8Q73xYp+wagWrhkSqwUXUroeGJHq/AQRDyyXXozI+2vwVT8XqH38sV2ex0NbF0tDYU/qjl8WgWGiHh06Ml3efv9Qd7i6e6BmcgpOVGtwbF48thdLacr2is/ODESifT0YqT8PXS8N8V2x4rsS9L6rzibASHUadtwSjQ91PVhFPJGvshXnmGE0bjEJRm4LxS0pQXh1ifa4Z+aGIsdFjZmTml5fYzMYoWMGI7TMYMTKzGCEltsLjOj7xNwoTA+UhtfUBwXGwMKpUZ5wtvfAuvL6Y+hsLO0nkeZip0Z+ryCU50gOwJREd4wenKi8IcnAp8N90dPTDiqVCskxvlg1NU2BNc2lMRhht84MRmiZwQgtMxih5fYYSnOqwBNOIh54VC8eaPg3A3VxZRxmetqiU98kbd2/LBGPZLkizMEGTq5O6JcVincUkKDv5sGI8vn2TDyZaAvH+Agc19tPa1NDaUT8URCIMYlemNItACW9vZBoZ4vBcjxhLG5pYaxRnYb7o23hkx5tOF3PDEbomMEILTMYsTIzGKHlNgcjVSl4okcw3mtU+R/K1w49Wa+Mv9WBhSd143H1wMLpcT7wsXfH/XXzf3TCiQWJ+KpUY0aaG1brrRpTW56KXSXKG52qDBxfJnXJzcSBWTFYm+UCLydxTlKX2mbT0oyCEUPnz2CELZnBCC0zGKFlBiO03B5g5PRYb3iLOn+tHsg4NMwdarUXnpNfWhgCIzGY4GKLXgNT5eE556ThOivE/svT8MmEMEwLtoen2L7u+xS3Bxg5vzAaD41Nxelp/oiyd8K8GUqsIuKJ4Q4KGDEWtxiNNTT4YmwoVo5Jwtm6v4ntY23hmtT0+hqbwQgdMxihZQYjVmYGI7Tc9mAkCcuDVcgbmqxXGWfi4xxneISH4EulO6wEMfzsnFF2mxRUaHBgop/8hqR/fjpqS0RQ4KLC2DG67p7p2JDihBmTRXBgLG1pFEa72WPoCN1krBp8N9ANXXO1Y36l7wz0D8A/dUvllUdgiFoLUppPMwxGjJ2/8WDl+myRYKQqE8eWpuHHJSnY32AuGet2xwUj4nkpT8eh0jR8tyRDedbom8EILTMYoeX2ACO1pVEodFNhXF08kIHNGQ7wFw1/7QSq2rrYITQYXyl1+0/T/BGr0s7fIcUmL2SokNgroS5eOT7SAx6RofL/9d32YETEJ4Pd0btvEk6N8YaHvStWKsvoHp8RgDQRTwwcrn1R1FzcIl2v/J0x4fix0YSx0vH/LeIuZ78AfKD7zmUxmOppj9whTedQaWwGI3TMYISWGYxYmRmM0HJ7gJEVCe4YneyB/KwgrBTHvr2HN/onBmDzAr0G4rIELA9XwdlZjfRgVxT0CcWsQDt4Bvth44JMfD/WH9mhHijuH4o7e/qgsEc09shQRWM07eCkIOQFu2FKbihW9fXHeE0ItpUp31uZhEcz3dAnIxB3DQ5FWaYHCvrG4bAUUBhKy43GS8MCMcTHBipfTyzpH42vdeOcmzv/IB8sF987wNMG9j6eKBkah/1NApbW22wwUpWKt4aHYuVAw76nsA3hSnkinu7pjmBbWwwt0AWJWteWJeCZQUGYFOeJuXna7149JBwbJiXhkO5edlC3FxjRv6fF0j0dJPJzaAQ235ra5iDOsDPw8agA9HW3gWPCdcK/6lS8MSQEz8xu+Lu5GW4ZGNHg6MworOrjg4FJ/rhdeq5EPqzJj8TWObpu7sLSyhiFoagQ5cnwbsHy73/V4DCsuyUOXynlUoufkapkvCDKqLpneYxoWMl/T8U7umd+UATeXdzS350G+yaHoaYw6Qb9jq7PDEZo2RwwUlsaj4dzvJBgJ+pcP095Jbi39XqHSukP9fBAuK0NYhMDcd+UVBwQdf6QSE/MF/HAHT28kJMQiFfqepBowYhjqA9KOvvhti7e6OmrxuD+CXXw4szcCEwUcdD43iG4d6B4DhO8sGJqwzk4zs6KRHmyGipRnickB2PjjLi684gR3yetBrN7QgiGi1jB3tsDi8QzVLe/KAO2Dw/GzEgV7NXOKBC/2zndhDt7IdNZGdJTEY/lkQ4IDvbEFHGeJcPCMTvAFoHRQXhjvpG4RTyzu4d7IthRjYHdg/HsrEbl6HKxbyc39EgUZdSgEMxLckNe92jsNqPubSswIpdveuXVQ5NT5PLx/OI4rBNlpvS3NeOTDe7b/tbgyOwYPJgXhGW5wbhnVDy+nR2L1+bq7iONMpHBCC0zGLEyMxih5bafY0SDY6Xp8pue2sp0HFychsPLmwvQM3FsiV66tH1pRv2M6dWZOCzSjxja31iaOO7RJan4ocJwY+v8snTsW5SGEwaCA2NpTW3i/NvBZoORyljM8FJjfGEyDpenYX2SHRyjw/BdWRo+HeKB4NBgw/spPl+SiDcmJOB7c+FFk7dnikU+nSyNRZG3LcKzYnCoPB1HFiVgXboaQRHB2GFwacOO4XbrMaLc09v07un3RZGYFqhCbHqkWUHv9buNekVVxmCahz36DJaCZQ0OzorFKzPrJ2m+kW5pj5HaygwcmuSHaDtHzJiQhmMiH/bOjMA4XxV69U3QwgpxTWeWpWFrF0eoPH3xiigbj5WmYEe+NxLcXVF5a0YrnhENTpXGYY6vDTyTIrBvWX0Qf7o8BWuTPbG2OAOnW/w7yMSrWQ7wjArFrhvyG7o+MxihZbN7jLTKGpwoTcOPFY3LWv1yStTXJWk4WmmoPBbP1NJU7C1p3/rbuDNxXP/8RDxxoCS9rieLsdjkrKjX94i047peJY2si8WaSzfkNusxIsq3I7eFoI/aBsGZ0fhBFy9ViRhukj/6ZkTgizLDsVr7WoO9hd6I8fHCo3MzUFuVjs9G+aGziz2GyEOipW1olIkMRmiZwYiVmcEILd+IyVfZbWfzwUgcipOC8blcmWfiuRR7qGPDcVhOi8HM5JCm++i5yeSyptwcGJFsoGt07cJQ9LC3x7ixNyMgujFu16E0Bu7p8UIveNg6omjKjbin7TFcrD2Oab5bM5Tm3OwgZNg7YtbUejjx3UBXODp7Y7Nel/km3eirU7EqUjsJorQ8Z8ufEQ0+znaCg6sPtuiBk9rSCEzSRGqf8w5uBiO03L5gxLDPlCfjbvGcOUSH4T9lNxN60HPbDqXJxKd9XeCidsd9up7DVSl4qJM/NslzpTTe/gZYKoMjbBGkidEbspUpylUXDKsDIzTMYISWGYxYmRmM0DKDEVpu3RwjjcCI4tPzY7E6OwAlOYFYmBOK1+ZLDTANDk0PR2miGio7JxRkB2F5QSJOib8fLorEcvF8L+nphxndQ/HqAr0GW0vByJIw5IhG3xj9Rt+yJGzKC8C8XoEo7hGM5+ZIb9PT8F5/D4TZ2iAyLgBrJqehVhzvuT7e0AR44M5pydg5NgQLewRicfcArLglCSekY0ndl4f5o5+XHWK7xeDriaGYk+6FgsxAbJCOK67ni1sCMVCkx/fQntfZOVEoT1DD1dsPW/WA0Mm50agR1724lz/m9Y3Czor6NGO+0WDkzGRfhNraYUSh9p4azl9x78sT8ES2J+JdnLFoQiKe7+uHW5K9MT03Gl8qjexzc6NQGucIN98AvC015leIe57jiRgHR8yaJB3HAMQQ9/yjgiBRB4jv6+KL4oEx2F2pwZEZ4ZgXI47l449XZkVicYY3Zg4TvylxDRtzfdDJ2R59B8fj3fxA5PvaQOXvhdKcIKwvSsenI70Qb2eDwEhfVI1JFvcyFVsH+SHbxwVFY02Pk2+J2wqM7B/iBkcnb2wyA4wEiqC8WTBi6BnR87k5Qci0V2H8WF0Qr8HBET6YMUb7uXZpAtbnBmBB7wDcluWPlRNT5GPXlsXj4R7uiHRUY67I/w29fDC6cxieHRWECcH28BGNyK90b0cN5qn2GA92V44xMRmvDfTH2GQvTMqOxM4GPVwy8OWYECwQz+aCrv4oH5GAQ3VDCzPwhaFn10wzGKHlGw9GNPhqfCiK4pyRFi9+/yPi23RYa0d3m88xskzq5WaLMFHmHRN588Mt/rh1hHYCXON1rOHYw3A5Fo5/SeWPiBv+OSIIi3oHobSHKHeGJyhzzuhZbPNwrLRaojc2KHVjQ4sYYUx9mfhF6c0v85ozgxFaZjBiZWYwQssMRmi5rcDI+QXhGOrhjGJ5LLUGR6f6I9XdAw/M0zbiG/cYOb8wDHlubqiZIwUQGXivmxouQUH4WNeAagkYEY2t93u7wMffH2/qllmsSsZ9sQ7Iyk6QA4Xj0wOQ4uaBB+eL86lKwBJ/G7jGR9Sd/7nbgjCyVxx2DnVHSEggdkiBVHk85gWoMGCYdgyz1Pi8VzQ+Vd7umJMXiVcnR2FxuLgPwUH4TDpvERjdF92wcX9cum695R/PzxPX7e6CpdKQB3Hd23o4ITAu3KxutTcWjGjwdZ4r1A5uWCny0FT+1paEIdfOBuGxQdg4Nx2nRdBXHmaPkIxoJYgTjWxxbxv0GiqPwECRx4ZXXtLgO7F9UEQIvpAa/xXxmOtnh4wcaalsLSxwsFNjQHYY1nV2hoOzD7ZI21XGYpq7LeJ7SpMfGoItqbhHysOwEHyr3PPaRaEYmByBI7pt2shtAUakYL1EBNJJ3eP0JmBUwIinL15ckoZDJSn4IN8byd4eWCs/T2Ibc56RxhbPTHWoLfzToxUYmIZHNP54WQrSq1Jwf6wKvfKSZPByYpo/Ehx0E06K85Sgi8j/2LhA3D/cD6l29hg/Lh1bsxzg4BuAHXKXe2N5Ko6xOAzZ4hjR0f6oGRWD10cHoofaFpl9tJNdS/t/NcQdgQH+eE9cQ21pDKZ42aN7fyldg2+MPbtmmMEILd+MHiPs1rvtJ1/V4NAYb4SIcqhieixKs0LlyfhN1bHGYg/D5VgGDo3yRFBkKL6TjrEiBfdGOyBnUFOQfmxaELo728BG5YBOiX6oHB6LrxpMIJ/ZoEy82WVec2YwQssMRqzMDEZomcEILbcNGMnEP3uqZUDwhRJ8SI2sqhBbxHaPlz83BiO1SxLw3Jj6ty4/icDD2d4TT+jelJgBRrxCfVGWE4RFma4IcXVF+bT6Ce7OzgxAosoF1cVKULIiAYv8bJHVL1mee+LQKC/4qt3xgDwTfya29/HHuoXx8jad5W2k44jr6uUEp5BgZfWj+oa2dr6HTjiSr70u7bLRTRviPxV4Ql0HRuqPp3uDrjvPqrn6wZNh3wgw4hPpj7sHhqCyuyc6Bbij+JYUEYCZzl9dfg0r0PU26ISjIz3h7uiJx8u0n5sMpzK6JLUGB26NwvMzdStCZeKpRFuoEyJwsu5YHnhcChbLU7FzdgqOSr8lkc+L/Y2AEeEztwYgwd4JJUXSfdTg64G+WC7/v36btnCrwYgIxrtoglCeE4BJ4Q4ICAuSg+L67bRgxMHZDbMHSJMNhqC8sye6h3uhZqpyv8x4Rppag10DXOHs6o3nRaBduygcU3vGaXugVKdhxy3R+FA3caXIu3yVLYaOVPJbyf8h0ufqdOyZk4TdZRn4UPzeHfXAiLE8rX/mdb8hkX+xtnBKiNSmi7yd76vfaMjEjsG+mDooHqeV57v5Z9e0GYzQMoMRWm57MCIsDZ+Js4e7m5sow6VYwXQdazT2MFiOZWL/UHe4unugZnIKTlRrcGxePLYXGy5Lz5Uk4Jk8fxREqOFhZwN7J2fceotunqvMhmXiTS7zmjODEVpmMGJlZjBCywxGaLltwIiyxF+DZQUzsF5q9Ii/SZ+bNIorEvFkL2/kJ/tiTs9ALEl2gsreA4/purzWBQzNg5H63g2Z+Ki3M5x8/LFNGVogBTsudmrk95IamNpG5pREd4werH07/evyOMz0koIKEXAsi8XSnlE4Ihp7wx20qxNo9xENyk6e6Jsaik/kQMMU+DCVnomnk+yg8vHEYuX45b18kR/tjXtmmW6Y3wgwIk3WeWBpOo7WTcAp2XT+GsqvM1P8EGbvgkolIG0ZGOmEE9IwmTRPFGj8sbB3IEb628jnIPVmaHIsnc0AI1IwvTLCDmGdYnGqKhFVXULxzXUGkobcJkNpKhNQEqgFUNrfumTDS3XuHuwGN3cfvCA9Q2Y8I4ZcuzAMOQ4qjBmTju+G+qJ0ui4/M/BpQSDGJHphSrcAlPT2kpcTH6wbO2/weW3UCBB/M5anTY/RaLnSZVoYIy05Wv8dik0+u6bNYISWGYzQcruAEVHuSXMwqd188YpcrplRxxqLPZqLO5Yl4pEsV4SJMsbJ1Qn9skLxTt1KRc37xNwoTA+UhtfoyurmwMjNKfOaM4MRWmYwYmWmA0akGfzTcag0Dd8tyVDeiFmfrQuMZOLggtQ2GdN5s9xWPUY2p4vPUWE4UDf2NQ0PxtjCIzVK/tywIZuJd7s6wtE/ANuVHiIyyGg1GKlvUM6ept3+9Dgf+Ni7YbXcI0S7jdSzYFeJLsDQ4FPRuHQSAcpro0VgMVn8vTIa451tkT1IO05Z3q46A3vnpyk9REyDkXUi3Umk63qUNAYjWzLs4RgZir1190mD44tScFDXU8aIb/QcI/U2nb+G8kvKAz+RBysXNgQjT+qu1RgYWRGH2d62SOwRr31zJs5BCnglEHPdYETc80OFXvBz9sSj44Iwd7iuB0Pbuq3mGPlcgiDe/nhXgQvS35qCEWVOGHsX3C4NbzLjGTHo6lSRr3bwSwnF7V2C8JESYJ+d5o8oeyfMm6E8P3JQ3kIwYiJPTTYSlOczd6heflWk4ONi8dnks2vaHQaMVGXg6NI0ORZpyaoh1GxtYORMSQq+19WPBH2jwIjxOtZE7NFM3HFuWQZOrRDl6vI0fDIhDNOC7eEp6hX9bSTg/kSPYLzXCDwfytcOIdX2Km0hGGnnMq85Mxih5Q4GRjQ4OjMKq/r4oG+sHzYUNwwqdo4NxV1dvVDQIxSPT0vTS7MeXxcYqUrFW8Pr1ztv7HsKW9ogNOYMfDwqAH3dbeCY0CgQr07Hh4WhqMh0R17PGL3Ghc4Z+GiYL/om+uOuwVH41IxGUvO+ueukmwVGOsT90ODwBD/kdo7Gd8ozPDDJH7dLv61BoViTH4mtc9KULo71z7lum1Vim/uGR+Ht4nTtNnX3xAPDuwXLv89Vg8LwcGEsdrbjLOttA0ZEQ3O0F4LcvPG8rst/eTQmuKswokBbbp0skLqruuMB+VoysTFVBC8Rodgj530GPujpLL+1WVe3v+EARbahRvyKeMwRja4Mpctp7dIojHazx9ARuoBCCqDc0DVX1yVVGioQhn7i+r1DA7VBisiDZ1NV8E6IqPtNSit59AkLwk6zeoxk4oUMFRwCg/CxdLyqNLzWWfs26hF5OIn4zYz2RqDUINe9bapOwcooVyyfYzqPbx4YMZ2/uvzq0i9ZWQ4yUx677aw3b4wMSuycUXablKcaHJjoJ/c66J8vdUludG9F0DdabYueA5WgrzweCwNF2RqnDRjNAyNKT5eYcPzYuIypjMMs8XsJDPDDc8pQn7Z224CRTjg73R/R9s6omK3Ld0NgJBOf5brAxcdf+zcznhHd8Rtagx/EvXUXvzP97U6P8YaHvWsd5Do+IwBpIu/q3mQafF4bNQJM5KnJRkJ1Gp5MUiEoPRrH5PROOFrohZSsWJwx+eya9vWDEQ2OiHL+uduUe3KTfH5xHO5NlSa7Fs9ao55otWUJeGZQECbFeaI4T1tX3TM0AptvTTW/fqxOxRtDQvDMbANl8w20eWBEP8YOwMsG3vIfLwrHlGhPeVjac7OuM+/a6d7ULo3BzGg/vFJmOk7Qz+O5enn83NRkHJWfhabxSNOYpe19Y8CIqTrWROzRTDkm1euJvaQ6Rfu34yM94BEZqreNsChzlwerkDdUVwdKzsTHOc7wCA9Rhre0EIy0c5nXnEmAESVm1rXnVuXHYrd03aLd947S7ls1JKZ+4u8O7A7XY6S2MgOHJvoiwtZGBJGBdRRT8tll6dgzxAPDhqXhhMG10ju+rwuMVMZihpca4wuTcbg8DeuT7OAYHYbvytLwqbivwaHBhvfTWTRsPp0cg3/qvXU27ubfUJ5ZloZXshxhZ6fGvLruyVqfLw5BDwcRIMaGYW95hl6h2hrf3HXSzesx0gHuR0UcivxcUCkqW/kZnuSHaDtHzJiQhmPl6dg7MwLjfFXo1TdBpve6baLqtknD7lvDMdbPAT3FNieVe7K1iyMcPEUlX5qOY2Wp+HC4N+Ld3LBCnkjMwHlcp1sKRmpL4vBAn0CM9LOFvbcH5uVG4lMZKohzz/FAdlIA7hwcgnnJbhiSHVM3a//5BRHId7dDTJw/qkYn4ocZQch2d0Bmki9u7RqIB4b5I1mlQm5OLGpL4/FQDw+EizJR6iZ635R6KCylPZzjhQQ7G6j8PFHaN0o78akIcDalq2Dv6oaZ+dK8FxocnBSEvGA3TMkVFWRff4zXhGBbmf6znI6NaQ7olJtUFwzWlsSiLNYZ2ZogEXAGozjDF3dMT0etuL5t+QEY4GkDex9PlBQk4sSCGNQkqWFv64hBvSLl8zh1axB6uNjCx8cZncK9UDHID2kO9ujUJRr/kc5Tvk/u0ET6YpkIRld098GU/vE40rjhbsDtBUaa3NPcCOzQARCdTeRvHRjJCMTMzn4oSndFnK8H7tD/3S5LwPJwFZyd1UgPdkVBn1DMCrSDZ5APlov8qbu3Q+PEcTOwPdcNwe7OGK7xw6ze4XigqxOc3dyxWDQ8FsQ5ivuuxpCewdiom59lRSI21F2HF6rGJmH3cE8EO6oxsHswnp2lX85o8EVfF8SKAPN6364155aBEY28elN5smjQijxOSApEZaECJpZFY6yLDfwj/PDw9GTxOwwSz58NbJ1cMEXuQh2IeVIX6jhfPCIa5eY/I/rfr+elkRju6oLbdfPzSK6Ix/JIBwQHe2KKyN+SYeGYHWCLwOggvFGcgMd7ap/XmIQA3C6t9iPK3U8LtedpI8r4kf2i8XVV83ladktU3TMfkxCI9UUZ2D0hBMN9xG9ClDOLxL2QzuP8omgUR7pgcPcQ3NM/AONTA7BJgTXNPru6azDh6wYjolEsLdfpIRoqTUDcDbYOpjUGI79WZ+JkaSxu89YOmzsk6qrviyIxLVCF2PRIbcNCf3tDrozBNA979Bls5iSPLY6jzLO5PUbkuneCNsaO7xGvnTNH56pk3BVuBxt7d9y/KB2npLpMP72lbum9McsZeLOLE7r0lcoDM+IEJY+LvG3q8vjQggQ8nK5GcEQwdog2hjkxi+Fzab3bHoxk4F8FQZgd4wB7B2eMzg7FS9LSvSbq2BPNxR69Qg2UY9p9zsyNwEQR247vHYJ7BwZhUoIXVsgTkeudT1USViS4Y3SyB/KzgrBSxMG39/BG/8QAbJaXFG5YJo7oHYzl3W9umdecafQYEc9CWSLuirKHvbsPni/JVPJLg9NLYzEn2gePz0m/zvYDDXfIoTTnZgdjXKcADHGzFYFaDA7rVaonC3wxdVzDhqM1+frASByKk4LxuVzZN3rLLSqwmckhTffRt0F6bMzNgRHJGnyW64EUX3t4xYfrdfPLwNbevhgS1tx+tGz+UBrK90ODPUPd4R0WUjc3gaEu8NKbDEdnb2xW3uoa2ub7QW562xh4Eyy97QgXDe306IYBnWIJOMxI9sPaqakG0025dT1GjFg0fn5ckoYThgLsFenYvzAVB8uV61+RgR9K0nFGyfszZWn1aW3mTBxdkoofKlp2XOlc9pW0EsqJ6zywJB0/6V3XjxWNGgWV4l4sFvepBYF4u/YYMdfN5a9+WSmu/6BevjZ0Jo6J/Q8vV65B3IeDpRl1AWhjny0Xv4myTCXQk/JSBPEtbLycFfd/z6JGwwqq0/FClgfK5An79P7ehm4ZGKHgTBwvScNR3UsakXcHRD639Bm5/jzV4Keladhfd4yGbu2ze71g5Pz8MBTFusJf7YGHzZh/oD3dLBiRbKA30fFCL3jYOqJoSjs8Dy2Oo8xzS4bSSHXvoAA1PJ088IgeoDkxKRDTElzhYKj3mYVYmvenn7Mr7lBWADMrTjCQx9LqW73t7TFOWa7bnJjFuDU4VBSJkjRv3DnTdN62T48RIzZWx7Yq9tDg1NJU7BVli+H6SoNjpeKY4v+1Ur0mvruunrtut0+Z15wpDaU5OysYWQ726DdUByM1+E++L2aP1Rt+1MHdYcHIhJwE7Bvrg0h7BxQW1o8ZawhGDK+/LaVJy/o92MsXo+K9cNe0JGzp54fRyd4oHpaAw1Xp2JEfgEkpXpicHYUv9CuAZUnYlBeAeb0CUdwjGM/NaZ830611280x0rj7v9an58didXYASnICsTAnFK8p64/Lb92yPRFnZ4PE5ECU50bK65nXLk3A+twALOgdgNuy/LFyYope13MTYKSvD0pEPiSr6ntJSMtg3tYnFg8nNN4vE7smhqK0ZyDKxHeVDY7Ft1K+Vafhvf4eCLO1QWRcANZMFg+/qASf6+MNTYA75olzG6+sk67rQmZsTffa0gQ82kf8nqS3jt2D8Mit11eYtAiMXPf9EBXztBDtm2YvD8wfEov91Rp8cUsQxgQ7YWD/WLwv/q9bN97k/RD31uRa9fJ2KVgdaYcEubu+9m+GggxpSVFHJ29sMgFGpG6gLzcLRtKwJsoWXmmGwYjks0vi8UhPL+Ql+sm/x5a87WlzMMJuN1sEGDFo0WAuDkG2CHz7Dk7B0WWWdn76Fg3xhYl4oa8nemiicNAgvGkbdzww0rF9fWBEgy8H+OOu26Ixwc0OuUOUGE6/vo6X6utU7Cz0QYq9DXxCfVBemIizYpt3h/kjz8cZk29JxrnqdHxUECRiHxGTdPFF8cAY7FbqhyMzwjEvxhFuPv54RZrINsMbM4cl4pTUrXxEIKaIRurEbiF4sdCvRWBEnp/G1g4jCrV1U3NxkbTvxlwfdHK2R98hyTgvvne7OPd+XnaI7RaDr0UdPSfdCwWZgdggYknDcZSot2dGoELEnOXiO4pzwrFDt9pRC9wyMCJi7N7hWBBgiwRdr5GqFDzQJQhv5HtA3QiMGLp+6VrujHOQewgO7BGGN5ZocG5OFCrSnJEcF4J3lzS6N9Kxmo2vzb0HGnwnYgRXvwD8s66Bb0ac0CwYUWHKBG1emhOzGHYmDojf4YIUD+R3lu6NeW2GGw5G2K02rTlGMvBON7W8fP3L5eJ3XhKFOZ0j8L1Ut5to3xpsz4ky7QPRLtGVaZ8WBmJ8qh8eLLKstrG+OzAYkVZLSMfb3Z3g7OKB+5VurPpgxNj623L6vBB0EYVPTIw/7h4di5eHeCHCzgE9UnyxJD8GW0cHoIujLXoOUMhaVTLui3VAVnaCPPnZ8ekBSHHzwIPzLSewbU8wIjXCh3o4o1juEqfB0an+SHX3wAM6Mt/4TYeoSO+PVaFXXpJc+ZyY5o8EB2eU36a7X6bBSHlRKtYnqrS9JKoysS3HHw8vzMDjDUCABv8Z7omQQH+8I41/Fw/qO92dERwXru2hUJWAJf42cI2PqLuWc7cFYWSveNFQb7hOutE13UVl+lSSCtmDtL+Hs/PD0NfdDauvI/9bCkau/35o8FFvJ6gcPPDoUuXYVYkoTw7AB3IgYe79EIHKKPPWqv91WRQK1Hb1S1UKNw4yJFBZEmyPpO5x2rGiettMG6+dGG+XCC7GBjhiyJAkBbA0DnjEb3J6oAi0nFA8xXShfL4sEc/08cGQRF/UjE9WJjg0bgYjdGyxYETUIy8O9MOAQGcM7hqKx6ZZ8JsaUYa/nh+GdWMTcVCpN9vLDEZo+brAiKhzVohGojRcaHOGCi6iHqkbliLSSgNs4J4YgSPy9mkiTrCDKji4fvnr0nAMjpMmNxYN4aHuCIoIwRdSHVARj7l+dsiQ40NpW23j1cFOjQHZ4nfcWVq22Rurcl3h4eOD5xZminogCeuznOFuYI4R7fk0bjRr8HWeK9QOblgpYh+TcVFlLKa56+bxEZ+rU3FvpC1U3u6YkxeJVydHYXG4iLWCg7RDuBrFUbWlkRgh4thV8nCATHw72B3BUaH4toXPY4vBSE4C9hZ4wlfpNfLT9CDMzk+V54vQByPGrv9cUSCS7OwweIRuGIUG/87xwqIZSoyof2+MxNfm34MM/EPEra4JypwTss2IE5Q8llcZE7HGwfnxeCjdCdEJYdipABZzYpaGzsTeaWGYm+KB0T3D8f4S5ZrNNIMROqY2+WptaTTGudtB0yceW7N9cY80vNZU+9ZYe04BjSofD5QOjcDMQFv4ZDT/cvJmu4ODEfF5eSIqQ+3gHhaMj0Whpw9GjK6/LaeHoY+9PQpvqS+kp4pCOlM34aD4IdwtdbdTMli3vne1biyxsi52Vt262Dff7QdGMvHPnmq58q4LTsSDVBWiXRpR/twYjIiHZcct0fhQR/aXa5fSqm8gmwNGNDgzMxApKjWKx4RjTk4cTonKrwEIEPmwUORDXb4Jny8ORpa92EeugKVGvBd81e54QO4WmontffyxTu6+qz+5k4k13cX13B9th5C4ELw+PwO11en4ZkY8vmowD0PL3HIwcv33QwoyRrrYod8w7Vu6MzOCUFy30oS598P8terPzw9BN3sHTJlYHxjIQYadPbpopDH/AZgU7oCAsCC8pzdXg26b3l1D5ImhanL8MCzcFaPy4pQx6dqAx0E3d0AvH/RwV6FrTnzdxFsmvTwFr/XzRHpkMP5lRqDJYISOLbfHCNuQGYzQ8vWAkbMzgzB1oPYFw4mx3vBX6Q996ITD0ipIdfW1Brv6u0Jlq8aCW7X1+f7h/iiXe01qcODWKDw/s77+eirRFmrRMNaBbu3Ewx54XHo7Wp6KnUWRmO7dsH40ZyiNT6Q/7h4YgsrunugU4I7iW1LE/mbERQ0mOJa2qY97dL0Vj+RrJ0eWV+JoDEZEnNrXwQED82Kxq0IjriEZH8xINmueJX23HIyIGLsyAUukXiPdo/FgtyC8Jc7vZAMwYuL6Rcz0dLIK7jHK8N/KeFR0j6ifa0nv3pw0El//bO49EDH7nWG2CO4Uq9cz2Yw4oUEeh2JlXhBmJrqiR0oI3lEmaTUnZmng6lQ8luKM3J5R2Flu4HdlwgxG6JgaGJGeid2izPFWq5CTmyg/Kybbt0bbc9oyzUkGkqItsDAJny+4/rlb2ssdH4xIn4ulMYW2SO0ZhwMj9YbSGFt/W6TrwMjoOjASh9u8RIWpm11eoWCeSnc7eZkqOzXye0kFo7ZwnJLojtGD68/lZrv9wIiyYoFu9mflb+ulIET8Tf7cZGxsBj4tCMSYRC9M6RaAkt5e8qoKdUsWmglGpHxYn2QPO+kNjUwvG4GAZdoHVLuMpbK/+Nsw/b8tj8NMkbed+4m8XRaLpaKy0r6NaggCTK3pfmpWOKZFOMBVXEeACI6mDRK/OTMa1M25NWDk+u9HJt7s7AjnEOkNXAa2ZgforTTRgvth5lr15+cFo4u9A6ZP1v0ulCBDv1uqCMBKArXBlC6gabKN8PkFoch2dMDEcdJ1aAMe/S6yp4sCkSpBo0YT1DZxRTJeyPPF4FhvLB2ViMNm5iGDETpmMELLDEZoufVgJBPvdnNFdpauTvFErK0IwPvWT+qsWwVJI8EL0Wi9S8RcS6PsEKKJwUnR+F3TLRifKmX2CWmITJonCjT+WNg7ECP9beQ4RV7SWLjJikyNYwNhc8CI3JtgaTqOLtOvW8yIi4yAEV3c02C1LkNx1HBf9PQUdbFKheQYX6ya2vLVUFoFRkQde1Ccm4+tHXorIKshGDF9/T9N8UOE8nLp1KRALLxF7+WJ3r05ajS+NvMeVCXj9lBbhEirkNT93Yw4Qclj/aE0EmS5J9IOwZkx8mdzYpamzsA340MwNcEDY7Mj8e8WrJjHYISO6YER0f5dGIqeekPFTLdvjbXnjLXlLM9WAUakgu/7UV4IEYXWmAxPTJHBiIn1t8XnloIRaflEH3s3rNabjEp6A7GrpL6Cvdluzx4jm9PF5yip+6pumzQ8GGMLj9Qo7edGFfrZaf6IsnfCvBnK/VkeieEOrQAj4vOZomAUdI9RKt9GIKAyGuOcbdFniF6X9NJw9NPvDSSO96moHJ1Eg/+10YEon6w7h4YgwPia7qJil1Z9EWk/LUnEy0N80cnJHvm6JThb4VaBEfH5eu/HuVmikpfmKpkYhSU5+itNmH8/zFqrXnJZBAY52GNUXV4YCDLEcT+Xghdvf7zbTNdV2dLKSR626JKXLO/TOODRBThRIsDRzWfSwMuTsSXXB/1jvVExOglHG79xMmEKYORMSQq+15sXp73805IU7FPKVks0gxFavi4wUpmG/yyynHqYklv7HLcajCyPxdyMMO0QTPlvGXguTQWHoKA62CGV7dIqSM4+/nhjShBKRqfhyC3eCHD2xOPTQjB/iDK8eUUcZnvbIrFHvNJDRAvzpUZ5s2BE1I9jnBrWjy2dfLXeZsRF1wtGqjJwfJk0iWQmDsyKwdosF3g5eWJ9C5elbx0YEZ8rE7Ai2R+vKD0jGvcYMXn9VYny/YvvEYt/9A7C6/q/Nb17c9xYfG32PUjHung7eKRE6cWUZsQJBvM4E29kOcBRWY3RnJileWfiPxNDMSPBHQU9I/AvM3oZMxih444ARky1b4235xiM3HQ3BSPC1Wl4OUtauk+F8QoYMbr+ttinpWCkdmkURrvZY+gIXYWqwXcD3dBVr0vmzXb7gRENDo32QpCbN57XdR0sj8YEdxVG6MCA0lOh3zDt/Tk9xhse9q5YqSyVdXxGANJEYT9wuC6ANR+MNHQjECDy6R+pDdcuPz7WB8GunnhSb4Ku2kVh6Ccatt6hgaLRrzuWPggwsaZ7ZQwmuDlhUd2M4tJ52CN7UKryueVuLRhp6Fbcj+pU3B9jBxdnaf4Q3fVINvd+ZJi3Vr1kaQ6TQFto+ta/ETQEPXTBacVs7XcZ3Eb8rZODGrPlvxkIeMT5b+vmCEcRZGtXV2poafncf4xNwrEWAhGdLR2M1C6NwcxoP7y0MAHPDArCxEhndEkNxMqhUfIa9hWZ7sjrGomv6u6XcGUSNg0OwaxkL8wbGIF35sbL+06K88TcPO369quHhGPDpCQc0runp2cEol9apHbSLt2xLMiWDEZqy5LwwrAQLM8NQvXgSLw3PwlbJ+rmzrFOtxqMVKfj5c7umDlBfxhfBnZPi8SqvkGo7BeCtaPi8JV4Jl6ZltriN+0tde3iWKzJi8Lnuoa4hbu1z3FrwciJcX4Yq5tsVfHxW7zhY+eEEr36rXZJOAY52SE4WDTKpcZ0ZTyKfWzh5+ODx3T1WGU0Rqtt0XOgcrzyeCwMtIFjXH0PhiZgRKn7fJMjcUi+5kx8M8Qdno2+v85GwYgZcVFLwUjjOEo0WAL99SYTLY/AEHXDBow5bjUYaeSGYMSM6xfbfD/UHe4O9uiSXR8vyNa7N6eNxNcnzb4HGnya4wwn/floxN9MxgmG8nhFEpYF2yFG/E36bE7MYtqZ+G5KJF7RX9q7Gbc9GNHg6Mwo3CMNFVJ8z5ikG9OQFWV0XfzRM0YPoumcgY+G+aJvoj/uGhyFT6/jhcvNKH87Ahgx1b413p5jMHITLQrh6eEoT1ZD7eeFMnlVDb30ingsDnbABGUoTbPrb+fEyjNmP9TNHSG2NohNDMQTM9OwI98LCXY2cA/2xZOz0vCe2D7X3QYqXy+sniIV8hocnBSEvGA3TMkNFUGXP8ZrQrDtOuaYaGu3BRiRGo8P9AnESD9beX3webmR+FSqkESDe2uOB7KTAnCnaEjNS3bDkOyY+jyoSsG6RAe4+XiguJ8o3ErisTzSQQQ2npjS2Q8lw8IxO8AWgdFBeGNRGrblB2hXSPHxRMnQuPrjiO/Zli+tX26LhOQg3D9V96AKVybi6dwADPLW7rc4NwL/rJCCqFiUJ7hhRA/t2uUjozxQOkFvP9np2JjmgE7iQdcGxw3XSR/ZLxpfrzC2pnsmvhjhg95RPigZEIaVOT4YkhyMd5a2Pv/NAiPtdD+OioIuRH9scAvvh1lr1cvW4BMRrHjEhMur4OieYZWoSBKSAlFZqIDFZdEY62ID/whf0ZAPVbbRjemVVr6RhvF4YEZ+Ik7U3RNljfvsYDyjBCenxnrD11aFXp3D8UEbP5uWDUYy8GYXJ3TpK+5ndSZOlsZgiofUSBD3vSIDZ5al4dUsR9jZ2CKjt+4Nq+RMnCpPxZp4TzywJAOnV0j7xqLIW9t9/FB5Oo4sSsC6dDWCIoKxQxe0iAbGfTFqjB7d+DmzDFsqGKldFIWxPmqMGpGMk+J5ODo7EreGqOAhj881vI81uLVg5MQUPySG6jWEKpPwkCg74pNCsaNExALVGfii0BeZrvZINNi4bVufnuiLUCc33GNyUm4RT8yKxSsz2x/WGHUrn+OWgxHRQBX1y4QQNXplBeHxmdoXJOcXxmJ1dw+Ei1gsONoPqybqXjRk4CWNA+Lqhipo8GWeK0JSo3C07pgZ2J7rhmB3ZwzX+GFW73A80NUJzm7uKJ+cipNFEVgQ5wh7WzWG9AzGRmmuMLHf6dlhGOnrgIxEH0zt5IeKIYHIdbIVsWAotuvVGVKc+HCONi5U+XmiVNSvO3QAQGdRFzUbF61IxIa6/b1QNSa+YdxTIOqyBTGoSVLLq7cM6hWJzyobxVFlSXg00w19MgJFozEUZZkeKOgbh8O6eMlMmwdGGsXYIi6rX4kqE5+MCsL8eO39lLrcy3lo7Pp1xy2Lxhh3F+0LJt3fGt+bsUnNx9fimTb3Hsi9YaX5aaSXOWbECT0zArCop6d8Hl6hviiThhFkB2BqojsGZIXj4wpzYhY/PDzDUOzTerdHj5Haygwcnh6ARDsHTBmXJvfCMbRd62ysPNPI8ccrUvwh8kG3qqLO54tD0MNBxCqxYdgr9crWS2upzS9/287UwMipokhUdJXav3ZIk16cjZd64Jlo34r2teH2XADWDtSVaR5YmBeNL/VeoFmiO2SPkRa5Vetvm3Imji5JxQ8VbVmotI3brseIEVdl4MclaThh8MevvTff160RnonjJWk4Wqk8XJXpOCDyo73ejJ6rSMOB0ubWTW+BxXk2u6a7uP7Di6X8v/6C1/weI61z+98PU2vVa127JBIjPN1xr0KbqdqSwUjtQmmuJb1JDJu8BZN6HXljSg8PBNmrMWOC/uRYGViv8cWWRl2N9d+gSW8YetjbY9xYXbknKtJ8D3gGG+6dc7NtmWBEgz3KktOv6PXaOXtbILISGYy0GIzIjXp7dO2vmwA9E//OcYaLuw821c2bpP37J31cENel/cGI+baUt2yte46vZ/LVtvbZchHXlUlDLaTPUgyShmOG6m59V2fiiNjuuHLN50XD7UDdMVpho3FRS904jpLOLx37FrX++C3pMdIqt9n1Nx9fm3UPqqU52ByRO7hhryRqbq+hNAaHKLeJTZVnIv7I9UCKr712VcU6qJWBrb19MSSMTo+DxqbYY6R5G2vf3tj2XHuZwYiV+YaAEXabub3BiOVYg2+GeiA7O8GCGiYtt+WCEQ2+Ew1uVz+97sYGwYg0HCsVmzWOcPTwwoa6rshmgJElYcixt8eYOjAivekJRheVM8oNjc2/ybZUMPKDaIS62DpibGGKPETT8HYZ+HJMCBZ0D8AC0QAtH5GgdPuXnIldE0NR2jMQZb0DUDY4Ft8q3dqPzAjHvBhHuPn44xVpUsoMb8wcliivXPXF2BAs7BGIxeKYK25JqpuDwVLcGjAiwbpsBzUW6oY3ysNhbeCbEd0kwK5dEofnptS/zTw9PxarswNQkhOIhTmheG2+9hjSMpwPdndHpKMacycm47WB/hib7IVJ2ZHYqfSWqi1NwKN9ArBE7DuvexAeuVXb2+Lc3Ggsy3CBt7M71sjd5TU4NDMCFb0C5bfQxTnh2CENA5HfZAci39cGKn8vlOYEYX2R1IOimXyqTsf2Yf7o52WH2G4x+Frk/5x0LxRkBmLDHG3PC9nLkvF8nvgeEQfM7hqEx6TVWqoS8bj0tttWhd5ZwXh+rgbnF8ViVWc3xIb4YfN88bkVz7ElgRG2abc7GLEgn58XhiGRgfhIf8goMd80MCLKmo8KgkRbQpSLXXxRPDAGu+vuY0vLM73jKvFHSX4AkqX57ZReI9Jyz7f1icXD+sPBZRuq58T3TwvR9k7w8sB8edSABl/cEoQxwU7oL8rihQ3KX+2xTopyuUaUiYt7+WNe3yjsbOM52DoWGOn4ZjBiZWYwQsvWA0aEq1Px3rh4A+NL6dhywUgG/pFiD1f94RjNghERMJTHoTjAFr6xYfhafvtmAoyIYOn93i7w8ffHm/pdyStjMNHFFn2HWt5wGoudY6Q8HhXh9rC3sZW7pc7sG46txfq9dzT4aog7AgP85aUga6UhUV726N5f6r6twX+GeyIk0B/vSD0iRL68090ZwXHh+EbORw32D3ETQbUaA7LDsK6zMxycvXHfIHeEhARihxQQiu+fF6DCgGHKBJYW4taAkVOjveDh4IknlN9k7aJQ9LazkVczMXZtUjA+1MMZxfLQPw2OTvVHqrsHHlB6W9UuDkO2OE50tD9qRsXg9dGB6KFW5h8TjYCnklTIHqS9f2fnh6GvuxtWK123z0zyRYi4/9LSstLS6CPc3LBK7imXiW8HuyM4KhTfynnV+A2rBI+N5JMoP++NtIXK2x1z8iLx6uQoLBa/I2mp1M+k41UlY22MCind40UZIBoQ430RqXbFnXM04npC5evp2l+X5xp8P8gDI0cq3f9b8RwzGKFlawIj0u9737RovG9glTwqvjlgRIPvRBkUFBGCL6RYoCIec/3skKHMN9Oy8qyx61/MrE9UaXuNVGViW44/Hl7YaJ48sW3z9ZwGH/V2gsrBA48uVY4tzWOXHIAPVjQsf6U0CZLluUtz6WnB87YeTggUx9kln3PbmMEILTMYsTIzGKFlqwIjHcAWC0aqUnBnmGhod9JbptAYGBGffyoKRhe1Hbr1S8TpZsCIbsz1okxXhLi6onxao3HUK7Rr3Sf2Trj+4VptbEuefPXXqjR8WBiC2cmuiFHbwMbWHpmdo7BHCtbEPZ3vqzcJuAhAdwz2xdRB8Tgt0haK+52pTIgmHUt6259lr0bxDG0gqJ1s0gOPS1ClPBU7i6IwR+zTuV/9cJN/9nKCU0iwRY0FbjkY0WBXf1c4uvviNeV3K98LOxt0G2AM+ojr76mWgULdvCRVyagK0S69KX+uWxlE99ZTBP2xtnBKiMTJ6jTcH22HkLgQvD4/A7UiaP9mRjy+UsZin50ZiESRHzIYWRKGvg4OGJgXi10VGpEfyfhgRrIyZ1WjhoTyLDWfT/Xb61YRO5KvnVh0/TLxvbcGIE5/IsjKBNyb5YtV8ptZ8RuSrjkgEP+SjiWud2VWkPb/et/dkueYwQgtWxcYoe+bBUYO3BqF56WeZvLnTDwlLb2cECHPSdai8qyJ6+OPM6KMTJGWSx4Tjjk5cXKPxgZgxEQ9JwGakS526DdMO1zqzIwgFA/XnrN++atfhn6llHVnZwYgUVk+uuH5td4MRmiZwYiVmcEILTMYoWXLBSPJuD3UFiFZ5oMR6bPUM8FH5YwF09LwhNGhNJn4qLcznHz8sU23jbxdIkr8bZFQt+KC5diiwYi+K5LxTJazPLzmNilYXaZdlaJ+9S49K2mD6pY81/5tmN7fmqzCIS+rp51kXJrEWPKiTp7omxqKT3QNYwtwa8DIN3kucPTwxeu632RZBAaqbJpp4GtwsixD/J4z8KQI9h3j9ed0ycB6qQEg/iZ/brxkqvj96+9zalY4pkU4wFU0XgIC3DFtUBwO1AXe+oF5Bj4d7ouennZQqVRIjvHFqqlpCvho1JAwmU9NGx76q5mcGuUJZ71V9xr7/PxQ9BSNmqkTM3BuVjBuG6QDMMKteI4ZjNAygxFavllDaU5IQzDTPFGg8cfC3oEY6W8jl3vaoZctKM+aWC/+kOeBsYedgxtWyj3tGoERk/VcJt7s7AjnEGnS7QxszQ7Ac8qcUo3BiLR8t0pamEApU8t7SZP4e+OeNhz+y2CElhmMWJkZjNAygxFattyhNOlYF28Hj5So+qDEJBgRrk7FUykOcPT2xoQk43OM6AKq2dP0AqrKWMzwsEV3o2/ob44tdY6R70YGoEr/HkouDUc/0RAfViCCvspojHe2Ra7+sIaKFHxcLD6LtHEirc8QvTR5X3sUKsvONwEjyvGkZcXr9qnOwN75aXU9DyzBrRlKc0Rcq4vaC8/prrUqGXeGiwA7JqzpkL3lMZgSFYiPqjKxOd0e6ij9bdLwYIwtPFKjtJ+NghENTkkrJ4h9f1qSiJeH+KKTkz3yleVJGwTmImiXVn6oFfsfmBWDtVku8HLyxPpS6TfZqCFhMp+MgxFpWVcfe3fcr7dE/YkFifhK/i7pWGnYkKyCT1IEXsjxxzr9YQateI4ZjNAygxFavqFgpCoFG/Ojsa8yDrO9bZHYQ7dqnRYsSMBYBiMtKc+auGH8caYoGAXdYxQ43QiMmFHPyasPSXOVTIzCkpzYurqsMRjZkmEPx8hQvcleNTi+KAUHr2NJ4MZmMELLDEaszAxGaLnjg5FMHFyY1kxFSc+WPPnqpznOcArWW7bUHDAiLM1hMc3HBrYuPkbByK8r4jFHBE0ZdUM8tF1rc1WOKGrm7dPNtKWCkS9yXRAoze2it2rG2duCkC7NByF17xUN2CeTVAhKj8YxJf1ooRdSpN5AIu0fqQ3Tjo/1QbCrJ55UGsRNwEh1Op4V+3gnRNSBAGnS0j5hQdhJuseINjhOUzmjsq5btAZHJvgi1tEZC6frvW0Uf983ygdD+0lj5TU4NNoLQW7eeF7Xu6I8GhPcVRihwA2jYKQyBhPcnLBIN+GrHNTby0BD+qwfmEuwItBfb0Lk8ggMUbthtTzpsdJzJSYcP0r5YjKfjIOR2pJIDHdRYewY3XC3dGxIccKMyfXP5umpfohWqZDSRX/J29Y9xwxGaNkawMhPJSk4oCv3iPtGghF5RbtIETssi8ZotS16DlTgbHk8FgZKS/5re8q1qDxTjl1vw/GH1o3AiBn1nPRS5/4YO7g4S/OH1F9LQzCiweHR3gh09sSjOhBcnYKVUa4Nl46+TjMYoWUGI1ZmBiO03NHAiLxOfnmm3lvHTGzv5Y5xhbSXztPZcsGI8gZF7Y4HRABQWxqPh3O8kGBnA5WvJ0rzIrAtPwgj/WyRkByEtZP13sQIn5geiEwPLRhpsK+f2LdvlHZyRxG8bEpXwd7VDTPztXMxHBMNTD9vP7yjP7zGQmyxYKSvB3JTvdA/0RdlA8OwJi8Ao2M9sWhsSv146kXRKI50weDuIbinfwDGpwZgk7LUde2SWJQnuGFED23ayCgPlE7Q5ufJoggsiHOEva0aQ3oGY6MCDGpLYlEW64xsTRBWDQpGcYYv7piuP+HrzXdrwIg86V6QPfoN0/89Z+LbMQEYHO6Gcb1CsHZoKKqz/TG7b4x2DhdpGxF4b83xQHZSAO4cHIJ5yW4Ykh2D/SKgl37/D/XwQLitDWISAuXVFXZPCMFwHxvYe3tgUWECvhjhg95RPigZEIaVOT4YkhyMd5ZqcHZWJMqlFWDE7y5B/G2TCJgfzXRDn4xA3DU4FGWZHijoG4fDcsNBg93DPRHsqMbA7sF4dlZm8/kkzndbfoB2NQYfT5QUJOLEghjUJKlFXjtiUK9I8Yxq8P1Yf2SHeqC4fyju7OmDwh7R9dcs368krAhVY/okfWjUuueYwQgtdzgwUp2J40vT8ZPe7/unGQHolx6p1zuArtsejGhweEYEKju7IUCa0yrFD3O6+Qv7oSDYHo7yS5UMbM91Q7C7M4Zr/DCrdzge6OoEZzd3lE9Oxa+VLSvP6r5bLr/q44/7p+qV15WJeDo3AIO8tWXb4twI/LPCeD2nO+7RMd4I0Zsrqkn5K61MI5f17tBE+mLZoFCs6O6DKf3jlXlR2sYMRmiZwYiVmcEILXckMHJmfhRmBNpBFRjUYO4C+W2Ejzee03XpJmxLBiNSALA+yRG5g28UhErHU8kOyNGfq8CCbKlzjJwrT8NRqQEqAvtjJanYv1QfJOpbg5+WpmF/mdR1uWn6uYo0HCjNMDCXRvM+U5aGfSUZFjcfjORWgRFxjw4UeCI8Ogx7mgS64v6VpeL7xaLx1FwQLBoCPy5Jwwl9eGCuxb6HF6fihwrTv6/zy9Kxb5Hh7zkr8mSPSDuu14PouvJJ/K4Oi2s6srzpedUujcG0+CB8pPddrX2OGYzQcocCI5UpeDbLGW52zijTnyuiOhVrYtQYc0vDBjRFt1ePEXN8VtRRB+vqnUwcFeXJMb0yo6Xl2fW4NfWcQVemY/9icc5tdF76ZjBCywxGrMwMRmi5Q4CRqmQ83dMHY7uG4h6NIxwbgRGpwf5grD2y+tYPwaBqiwYjwtLSdEMiA/HRDejBcb44FAOigvEvC+wtIpnM5Kts2a0DI8Ki/Lk/wQ1Li8wfBmJ1XpGOPbNisCLRFZMbNRpb+xwzGKHljgFGNPh6VADGp/th9WBfRNk3AiMSKB3mDq+QYIsaJtga30wwwm6ZGYzQMoMRKzODEVruGD1GMnG6UgpOMrGtmwEwIoKVr/q5wCkoCJ8SD1YsHYxI93rftGi8rz+xYrtYg6NFMXhjgeVCBwYjtNxqMCJcuzgeW6Yr84Owm/j8glg8PDQCm4rSGsHp1j/HDEZouaP0GDlbqe3JcHa6P6KbgBEJ9AWjs8oZ5W246sjNMIMROmYwQssMRqzMDEZouWPNMdIcGNFO2uWncscDeismULTlgxG2zgxGaPl6wAj7xpvBCC13tDlGmgMjv0qTI7vYou8w2sNpGIzQMYMRWmYwYmVmMELL1gJGzs4MQKK9E5YYnJGcjhmM0DGDEVpmMELLDEZo2WrAyIoELPKzRVLvBNJDdxmM0DGDEVpmMGJlZjBCy9YCRs4VBSLJXo2FesuqUTSDETpmMELLDEZomcEILVsNGKlKRIm/LRJ6JljkJNPmmsEIHTMYoWUGI1ZmBiO0bC1g5MxkX4Tau+JuC56TwhwzGKFjBiO0zGCElhmM0LL1DKWJxQwPW/QYkGKRq6WZawYjdMxghJYZjFiZGYzQsnWAEQ0ODHWHs7c/3m2HpdJupBmM0DGDEVpmMELLDEZo2VrASO2SMOSqHDF7Gu3eqQxG6JjBCC0zGLEyMxih5Y4BRjT4YVo4luUEYlKIPexdXDEtJwgrx+ve2KTj2RQVYrvF40yTfWmZwQgdMxihZQYjtMxghJY7ChipLYnDg7lBWJrpAk9bFXpkBaFiYAz+o7yMOTbaC34+/njPQpeRN9cMRuiYwQgtMxixMjMYoeWO1WOkGS+NxEhPN9wzj34DlcEIHTMYoWUGI7TMYISWO1qPEcNOx1PJjugzOJn0MBrJDEbomMEILTMYsTIzGKHljg9GNPh6oAdy+yaS7y0imcEIHTMYoWUGI7TMYISWrQGMnC8OxcDoYHxMvLeIZAYjdMxghJYZjFiZGYzQcocHI9Xp+GhcbF03V+pmMELHDEZomcEILTMYoeWOD0Y0OFoUgzeIT/CuM4MROmYwQssMRqzMDEZo2SqG0nQgMxihYwYjtMxghJYZjNCydQyl6ThmMELHDEZomcGIlZnBCC0zGKFlBiN0zGCElhmM0DKDEVpmMELLDEbomMEILTMYsTIzGKFlBiO0zGCEjhmM0DKDEVpmMELLDEZomcEIHTMYoWUGI1ZmBiO0zGCElhmM0DGDEVpmMELLDEZomcEILTMYoWMGI7TMYMTKzGCElhmM0DKDETpmMELLDEZomcEILTMYoWUGI3TMYISWGYxYmRmM0DKDEVpmMELHDEZomcEILTMYoWUGI7TMYISOGYzQMoMRKzODEVpmMELLDEbomMEILTMYoWUGI7TMYISWGYzQMYMRWmYwYmVmMELLDEZomcEIHTMYoWUGI7TMYISWGYzQMoMROmYwQssMRqzMDEZomcEILTMYoWMGI7TMYISWGYzQMoMRWmYwQscMRmiZwYiVmcEILTMYoWUGI3TMYISWGYzQMoMRWmYwQssMRuiYwQgtMxixMjMYoWUGI7TMYISOGYzQMoMRWmYwQssMRmiZwQgdMxihZQYjVmYGI7TMYISWGYzQMYMRWmYwQssMRmiZwQgtMxihYwYjtMxgxMrMYISWGYzQMoMROmYwQssMRmiZwQgtMxihZQYjdMxghJYZjFiZGYzQMoMRWmYwQscMRmiZwQgtMxihZQYjtMxghI4ZjNAygxErM4MRWmYwQssMRuiYwQgtMxihZQYjtMxghJYZjNAxgxFaZjBiZWYwQssMRmiZwQgdMxihZQYjtMxghJYZjNAygxE6ZjBCy9cNRl5++WUZjPy8QsMm4OLu/hiX7m0wjW157hXhitWDQg2msS3Prg622DY93mAa27L8xZwkGYz8d3mmwXS2ZfkxEaykB3KsQcW3dfbDlE4+BtPYlufOoS54YGiYwTS25Vlla4OPZiYYTGNbliWAJcUahtLYlmcJEHft2lWhHM2rWTCyaNEiOcPZbDabzWaz2Ww2m81msyna1dVVoRzNq1kw8vzzzyM+Ph6HDh1iE3BRURFGjRplMI1tee7evTtuv/12g2lsy7NUmL766qsG09iW5R07dsgV4IEDBwymsy3La9euRUpKisE0tuV56tSpGDdunME0tuW5U6dOWLlypcE0tuXZwcEBb731lsE0tmX53Xffha2trcE0tuX5nnvuQWZmpkI5mpfROUbS0tKUTyxLV3l5OaZPn658Ylm6+vXrh8cee0z5xLJ0ubu746uvvlI+sSxZUgUogZErV64of2FZsjZv3oysrCzlE8vSJfUmnj17tvKJZenq1asXNmzYoHxiWbocHR2xe/du5RPLkrV3717Y2dkpn1iWrueee+76J19lMEJHDEZoicEILTEYoSMGI7TEYISWGIzQEoMRWmIwQkcMRmiJwYiVicEILTEYoSUGI3TEYISWGIzQEoMRWmIwQksMRuiIwQgtMRixMjEYoSUGI7TEYISOGIzQEoMRWmIwQksMRmiJwQgdMRihJQYjViYGI7TEYISWGIzQEYMRWmIwQksMRmiJwQgtMRihIwYjtMRgxMrEYISWGIzQEoMROmIwQksMRmiJwQgtMRihJQYjdMRghJYYjFiZGIzQEoMRWmIwQkcMRmiJwQgtMRihJQYjtMRghI4YjNASgxErE4MRWmIwQksMRuiIwQgtMRihJQYjtMRghJYYjNARgxFaYjBiZWIwQksMRmiJwQgdMRihJQYjtMRghJYYjNASgxE6YjBCSwxGrEwMRmiJwQgtMRihIwYjtMRghJYYjNASgxFaYjBCRwxGaInBiJWJwQgtMRihJQYjdMRghJYYjNASgxFaYjBCSwxG6IjBCC0xGLEyMRihJQYjtMRghI4YjNASgxFaYjBCSwxGaInBCB0xGKElBiNWJgYjtMRghJYYjNARgxFaYjBCSwxGaInBCC0xGKEjBiO0xGDEysRghJYYjNASgxE6YjBCSwxGaInBCC0xGKElBiN0xGCElhiMWJkYjNASgxFaYjBCRwxGaInBCC0xGKElBiO0xGCEjhiM0BKDESsTgxFaYjBCSwxG6IjBCC0xGKElBiO0xGCElhiM0BGDEVpiMNIWunoJv/1yHufPnca5P64pf9STLv38Wfzyp/K3myQGI7TEYISWGIzQEYMRWmIwQksMRmiJwQgtMRihIwYjtEQcjFzDr1+/gq27flc+t17X/vsRHlvzMvZeVP7QEv32LTaXD0CovRoFmw0cQEovzUNIc+k3UAxGaInBCC0xGKEjBiO0xGCElhiM0BKDEVpiMEJHDEZoiTYYuXYSD+eq4VXwPM4Z6KjREl3aPhsR3v2x7shV7R+unsWej97H1yeVz6b02z8wTO2CwheaAR+m0m+QGIzQEoMRWmIwQkcMRmiJwQgtMRihJQYjtMRghI4YjNASaTBy9cijmD+0DwI9h2HDmeskI43VUpDBYITVDmIwQksMRuiIwQgtMRihJQYjtMRghJYYjNARgxFaIgxGruLg/Ytx/643MD3YHQMePwUZjVz7FTufWoY540dgzP2fYP/b96B44lhMKXkSX/5yFb989QyW3ToO42ZW45UDWkhx5cDruGt6V/j6DcRjP1zFtfOfYUNVIRIdHJA6tgo1d2/Gt3+JQ//yv9h8dznKKyuwYG4pHtx+DH/LRxDSgY9nduONVfMwaexEzLn7dRwU+zVI3/gDdjy0GFPGjMPM6pexX5d+g8RghJYYjNASgxE6YjBCSwxGaInBCC0xGKElBiN0xGCEluiCkSvfYdW8B/Hj1T/x1rQguPZ9GMd0o16uHsKano5Qxw/GkgdexY5tj2F8tANCc8ZjduXTeHfHK1jawx0ufR7AYWWfv3fMRphjEsq/uqz9Q+MeHlePY/2QEOSu2Y9L4uMfny5BsmsWanYrQbW8vQpRQ+7A6wd+w6Xzn6OmtxfCp72O8xKxkdMdEDtgEe59YTs+fHU5cryc0PnO73Ejw3IGI7TEYISWGIzQEYMRWmIwQksMRmiJwQgtMRihIwYjtEQWjFz+ugazHjoMiWv88eYUBDr3xtpDCuW4dgaP91fDa8JWaLHG3/hgVijUne/CPjkGvopjD+RA7TcNb0uUQ+jyN8uRqjYCRsQxv9z6Br75WRmyc/EFFLo4oWCTssyMvL0zRm2uX3bmwqZR8HAvwPMXxIe64+m6iPyKZ4aq4VywGTdyoRoGI7TEYISWGIzQEYMRWmIwQksMRmiJwQgtMRihIwYjtEQUjPyNT5b0Qr/Zt6OmpgY1y0YhQeWIbqsOyKCkDoxMrAcj/7MgGurOd2KvHANfw+nH8qD2noTXzQUj+AN7tizH5MKxKFpcgRWVY5DqoMaIjX9ok5tsL7713/MQqe6KlQfEWTVJv4gto5ygHv4crn9NHfPFYISWGIzQEoMROmIwQksMRmiJwQgtMRihJQYjdMRghJZogpGLO7Bk+qM4rnQQAX7H1kn+cOxUgz1SjNsOYOTyJ4sQq07F0p1K/46LL2K0q5NRMHLpnekIUOfioRPXGIywWiUGI7TEYISOGIzQEoMRWmIwQksMRmiJwQgdMRihJZJg5I93ijHl8RPayVYV/f7aRPg5pGHFtyLIbQsw8ucWFLqoMejJc/L3XHp9IrzUfbSQQ+j3LyqgcVAj/1kFa8jgwxE97/kB2iNcxKeLE+DSqQbyNCQMRtpW1y7h919+w8U6OKanaxdx9se9+PHsxQa/EYrqKGDk2qXf8ctvF7U9ugzIVDoVtRsYufwbTv6wH4fO/mX0N33pzEHsPnhWngepWV25gGN7dmHPsV8Nzm905cIx7Nm1B8d+NQwMTKU3kbHvM3EuJtOvQx0FjFy+cAIH9u7D0fOGc91UOhVRAyMtfk4uX8CJA3ux7+j5Bs/vX6f2Y9e33+LbOu/Gj+eUOMWC1VHAiPHn5wouHNuDXXuOwdxstlQxGKGljglGLuOXo3vw7a6DOFP/jpm86ICRy7hw4gD27jsKw+GCGeWdsbaZOP5vJ3/A/kNn8ZcFN86IgZEr+P6lGkzvHo/c2Xfg+a+1vTWunvgAj5QORZTKHqH9b8OChTMxMMweqoRCVG36Bme+3IBxyQ6w8+yKoi3f4cynT2HxgDDYOyRh7CP/wvHdL6FmTDIcbByQPGY13vxR5PjVY3i2MBTu8fkoWf0q9vy8E3f3C0Vo59EoKl6IFU8+iUXpLggeUIOP/it+ARL4cA7C0IWVKC5egPlT+yAxaQTWfvm7vMrN02XDEK1SIbGwGhu/FsH+tjUYnaCCKnY4KjZ8Ll/HjVCHACN/H8GrczPh7pCJ27/Tfzqv4dyHVeiXOQBLntiEp8oGo1O/Knx4ji4e6Qhg5O8jr2JupjscMm9Hg+xSZCqdktoejFzBsa2LMXjgrVj9zD9w77Re6DJpA/YZqrR++xcWJDrAofPd2N/Mffxr1zqMzi5A5TMvYcOy4ehVuA676gKQv7Br3WhkF1TimZc2YNnwXihct0uBy5JMpTeVse8zfi6m069X5MHIlcN4cVZ3dC6owlNbnsXqiT3QdfpGHNS1mU2lExMdMNLS5+QKDr84C907F6DqqS14dvVE9Og6HRvljPobO+bEwNPbG951DsSIJ/9r8dCfPBgx9fz8tQvrRmejoPIZvLRhGYb3KsS6tiygbrA6FBj5cwtu8XaBi0sju/phwit080hfHQ2MXD3+Ohb16Y7Cmmfx8qZ7MKl7FsY9vluUpvRFAYxcOfwiZnXvjIKqp7Dl2dWY2KMrpm88qLzoFzKnvGu2bSaOf2wrFg8eiFtXP4N/3DsNvbpMwgaDgezNF9nJV2+MLuPC6RM4efZ35cdxGb//fBYX/lZCkr8v4MzZ3+p/ODpd/g1nz16AbjNLEm0wchU/vliOaVMW4pF1RYhVN3r4ruxBjcYJCaU7tXly5VusSHOCpuY7EXrSFGkwcvVHvFg+DVMWPoJ1RbFQNwYfptIJqq3ByNUjj2GAX2fUfKeUMhd3YE6kF4Y+/V/tZ52u/YoPlk3HuEHSJNPNgBHxfNzZ2RsD65Y2P4FH83zQffU++fm4sudOdPYeiMdPaQuuayceRZ5Pd6zWzlhtMr2JjH2fiXMxda5tIepg5MLL4+DrNRIbdeD3whYUevlgzEvSbN+m06mJChhp8XNy4WWM8/XCyI3a3qniD9hS6AWfMS+J//2Fl4uKsJVgW446GDH+/FzBnjs7w3vg49Bm8zWceDQPPt1XKxP801OHAiN/bERB3Fg89cU+7N+/X+t9/8adBVOw6YySn8TVscDIL3jhFl94FW4W/9Pqz9cnwc99KJ4+Sz+/LB+MXMDL48T9H7kR9cVdIbx8xkAbLpgq70y0za4ewWMD/NBZtMW0kexF7JgTCa+hT+O/Fpi9DEasTNR7jFy+9LccPF7+bAniGj98lz9HSby6HoRc2Ye7OjshvuTzpvCKiGj3GLmMSzIdvIzPlsQZAB+m0umpbcHIVfxwT3c4pyzD13U/4Gu49PsvuPCX/o26hnPvLkXRuu+wY15Us2Dkyt47kOXcGXdqxxNKf8GeGg2cu63GwatXsPeOLDjXDTeUkiXQ6Ixuqw9KH0ykN5Wx79v7nbFzMb6vlN4Wog1GruHn/3kCNQ9uq59r69I2zAxSo89Dx8UHU+n0RAOMtPw5ufbz/+CJmgexrT6jsG1mENR9HsLxK6fxxG1l+IRgBUYbjJh4fq7sxR1Zzuh8516R41pd2VMDjXM3rG6rAuoGq0OBkcv7sH3HkQZDc//4aBHyKz43PsyUkDoUGLn2C/73tafx4s4z4snT6u8PZiHUuR/WnbTAlnMLZfFg5NrP+J8navDgtuN1z8ylbTMRJE0fcVzcfzPKO2Nts6s/3IPuzilYVh/IaofPX/ir7niWJAYjVqaOMseIQTCCv7HnwQEIS5+NVw+cxMGtc6CJGobH9lHFIh1ljhFT4IPBiGFdwuuTvOE06EmcOvklXl1/P+5/dAs+Ptawc+m1s69j0czHcPDK3/i3ETCinSdpINbrlhwX1Zg815LfVLx1SXzXRC+oB65HffJpPJanht/Ut8QHU+lNZez7Xn3J2LmYOlflT9epjjb56uVdVchw7YSaXYavx1S6pYsGGGn5c9JEl3ehKsMVnWp2yT2rVs6uxqub1sgr8FWXl+L2DTtxlkDbu6NNvtrg+bn0OiZ6qTFw/c9yY0DStdOPIU/th6ltVUDdYHXoOUZEw271wFF4on7FBvLqsJOvXr2Cv858iYdGZaJP1b/wi+4BIyx6k69exq6qDLh2qoEcLrSgvDPUNrv0+iR4Ow3Ck6dO4stX1+P++x/Flo+PWewwKQYjVqaODUau4OT7d6Ewuy8mLq7AovG5yB59N94/SbMhIInBCC21LRj5C5sK1FAlFKDm6e3Ye/oXHHtvCToHdUfNF0qVcu2/eLl4Jp48JAV8xsHIX5tHwUk9HLqFtCRd+McwqF0K8eLFv7BZngx6I+qTL+Afw9RwKXxR/N9UelMZ+75nnzF2LqbOVfnDdapDgZG/duHevlHodcdOvfzRk6l0AqIBRlr+nDTUX9h1b19E9boDO6UDXNmF+yeMw53v/1f7Zu3SPtzfLwCpJf9j8fnYocBI4+fnr80Y5aTG8IYFlHaC/bYqoG6wOi4YuYbTm8agy9wPyJZ9htQxwchV/PffT2LlsiKMHDoZq94/IaJD+qIGRv7adS/6RvXCHXIlJP3B/PLOUNvsr00FUKsSUFDzNLbvPY1fjr2HJZ2D0L3mC4uEIwxGrEwdGYxc2bsK3d1jUfyh7uH9HdtnRcO95z1kx/0yGKGltu4xslV++/xk3bhPXDuLJ/o7wX/a2+LDVZzYNAszN+i6DJvoMfLmZPioB+CJujG71/DfR/vBKWA63rl0CW9O9oF6wBOoT/4vHu3nhIDp74gPptKbytj3bX3F2LmYOlflT9epDgNGfvsK9w3vgvw1O/Gr7nbpy1Q6EVHpMdLS56Rev+Gr+4ajS/4a7Gw2o5TnIOhWvNdGz0F7qcOAEUPPz6U3MdlHjQFPnBU5otW1/z6Kfk4BmN5WBdQNVocFI3/+Gwszc7H2h47TW0RSh+0xoujip4uR4NYNq+rGJNIVJTDy21f3YXiXfKzZ+Wtd2daS8s5gj5Gt2h7AT9YHsjj7RH84+U/D2xZYXFo1GLl66Tf8cv48zp/9BX8qfzNfV3Hpt19wXux/9peW732z1JHByMUXR8NFnY9nf1P+IHT+6cFQu4/ByzRf4jAYIaa2BSNXsP/uznDOqNYu+S3rDzw/0hmuhS9IDwGWJHghODYOcXFah3o5wM7JD9G5dyjb1+vqwVXo6qxBTd1NvoJdVelw6X0fDl+9ioOrusJZU1OfB1d2oSrdBb3vOyw+mEpvKmPf9+M+Y+di6lyVP12nOgIYuXbmAyzPH4ayt0+IOyR09RS+/rp+DhFT6ZREA4y0/DmRde0MPliej2Flb+OENqNw6uuvcXj/u3j00bdxQO+16fmnBkHtOR6vWnid1hHASLPPz9WDWNXVucHE7ld2VSHdpTfua6sC6garY4IRUYeuyUHc1Nfxq/KXjqIOBUb+/gSrCwtQs0OvLXXhGQxVu2MM1eBdTzTAyDWc+WA58oeV4W1tJSSKu6/xtTT8rAXlncGX1vvvRmfnDFTXB7L44/mRcHYtxAsW2GXEosHItQvf4OWH78Ct+aOx5N6H8NDDD2PdE8/itf/5ARfaoO757dvNKM0Lgb26AJtb/Oz9hm83lyIvxB7qgs1Gl6y0JHXoHiOisdXNLRnlX/6t/OUiPlmUALee9+IAzViFwQgxtS0YEfXRoXXIk1al2a20jC7+G/NjvdDvkSPiwzVcvnQRf/31l+IL2D4nEurONdj1p7T9Nfz31Tno2fkWPC51mRKV233ZvujzgNLD5OohrM32Q7+HD8ufrx68D9m+ffDAEe3DcvXQWmT79cPDSsVnKv3af1/FnJ6dccvj++TPRr/PxLmYOte2EHUwcvnwS5gzZBzW/usQTp48KXwU//vUGMQWbjYrnZpogBHpp2viOTm9FfN6ZWH4/d/Kn0VG4aU5QzBu7b9wSM6nkzj6v09hTGwhNu68HZku+nXaH3hvZji8hzyJE3Wv8yxT1MGI8efnKg7elw3fPg9Am81XcWhtNvz6Pdxm4PZGqyOCkWtnX8DYcKn+JB5YGFCHAiOivl/Tyw3Rc3bUvaT++4syJLn1wD37iT5QerJ8MHIZh1+agyHj1uJfh7R10Mmj/4unxsSiUG4cm1/eGWqbSfHbujxpVZrd4pskXcS/58fCq98jyvEsS5bdY+Ta3/jz/A7REHBA1Nz3cf6333D+2JfYMCUZoX1W4ss26KjxmzJu/YVWkY3flLHDLzAYuUG69vMneOquGlTf2h3eqgDkzL4ddz70Ho7KD9dF7Ns4G3l9RqNkzSO4r+wW5Pafi00HLLCvlpmiDUau4edPnsJdNdW4tbs3VAE5mH37nXjovaNK49ZUOj21NRiR3ngdf6MUQ/MmoPKBB1E1IRf95r6IHw0OvG08lOYK9t3bC662agzZoH1fdvmHTSgaMBRzVj2ElbOHYuDsF3Co7liX8cOmIgwYOgerHlqJ2UMHYvYLh5SKTJLx9Cv77kUvV1uoh9QH18a+z/i5mE6/XtEGI39iS6ErbMX5S9egbwnUm06nJypgxLznxAGhM9+VP/+5pVA8o03zyUZ+YXMRe5+bJeq0W1C69hGsXToauUPL8fYJyy8haYMRM56fyz9gU9EADJ2zCg+tnI2hA2fjhbYsoG6wOh4Y+QufLklGYOHz6CAr9DZQRxtKc2n/RszK7YERS9bisYeqMDkvD7Oe20embWVMFg9G/tyCQhG7NS7rbGzUKND1GjBR3hlvm4l67/gbKB2ahwmVD+DBqgnI7TcXLxoOZG+6LH8ozZXvcUeWGjELPxZhv1bXTj6Mvm00+zeDkY6oq7j4y8/45SLV5nW9OkaPEetR24MRRdf+xm9nz+LCpRZGeJe/wrKeg/DIj/rPwhX8ee4Mzv3ZDBC48ifOnTmH5pKbT7+Mr5b1xKBHflQ+62Ts+0yci8n01qtDTb5qBaIDRhQZeY7+/u1X/NmS6kl+/k/j59/pNLw71OSrRnTlz3M4c+5PUVLRVsedfLVjqqPOMfL3b2dw6vQFtDTUsWRRm3zVmK6vvLsm8vcszl64JP5nuaILRpyCUbRNASPSGtib7xaN/kpULJiL0ge345huY1l/4uAba1BeWoFyUVnXbPwa55Vc0YGRjT/swEOLp2DMuJmofnl//Uy5fx7EG2vKUVpRLir6Gmz8+rxehurAyEb8sOMhLJ4yBuNmVuPl/bq9r+GX/92Mu8vLUVmxAHNLH8R25cSu/boTT5UORox7ApZs/xEfPLgYU8aMxa1VL2FfO465sg4w0nHEYISW2g2MtEqXse/lNXjqs/ol1tpTl/e9jDVPfVa/TKmFi8EILZEDI1YuawEjHUUMRmipo0++2pHUkcCINYgMGIma/S7OSBOdHvkCT09JR9zIx7FPfnlyFcfXD0FI7hrslzjJH59iSbIrsmp2K0TrKn54fDCCM0rx6e/AtfPvoijGC9n37ZfTZTDiEIsBi+7FC9s/xKvLc+Dl1Bl3fi9Sr/6AxwcHI6P0U/wumhbn3y1CjFc27qtb8kELRhxiB2DRvS9g+4evYnmOF5w63wl59+PrMSQkF2u0JyZ363PNqqmbSFGe1dfRAXEDF2PNC9vx4avLkePlhM53ft9ubx8YjNASgxFasiwwwjImBiO0xGCElhiM0BKDEVpiMEJHDEZoiQgYcYRf30V44KGH8OCaGswblY2c8Wvwsbz0zzWc+XIr3vhG91b0Il4odIFTwSbtJD6Xv0RZogQb9iqw4W98+ehszHr4c0i4om4oja6Xxq/STMjOKNj8p9i1DIkSJNEtF/X3l3h09iw8/LluCE/9UJr63YdC7VwAsTuunfkSW9/4pu4N6sUXCuHiVIBNurlRflPWga7/cjwzVA3ngs3ac28HMRihJQYjtMRghI4YjNASgxFaYjBCSwxGaInBCB0xGKElkkNpcPUY1vVzR+iMd+SPf+zZguWTCzG2aDEqVlRiTKoD1CM24g8p8a8XUOiiRv6zv8vbNlaTOUYubsEoJzWGP/e72LVQu/yr4V2Fms4xcnHLKDiph0PsLp0YtiyfjMKxRVhcsQKVY1LhoB6BjfKJCdWBkbq9sWWUE9TDn0OzX3mdYjBCSwxGaInBCB0xGKElBiO0xGCElhiM0BKDETpiMEJLNMGI+N9HcyOg7nEvcPkTLIpVI3XpTqWXxUW8ONoVTjowcultTPNzwoD1euPs/ziG3T9o5woxBkYuvT0Nfk4DsF5v0Pwfx3bjB90EJUbByGV8sigW6tSl2Kl0/7j44mi4OjEYYZkvBiO0xGCEjhiM0BKDEVpiMEJLDEZoicEIHTEYoSWaYOTy97irqyviF30MXHodE73U6PPQCS34+P0LVGgcoM5/VgsXrv2MLaP9ETLlDfwmfRa68NI4ZMz9UD6eMTBy7ectGO0fgilv1O2Jl8ZlYO6HujMxBkYu4fWJXlD3eQgntCeGLyo0cNDvgcJghGVCDEZoicEIHTEYoSUGI7TEYISWGIzQEoMROmIwQksWDUaunf8MG2rGINnBDj49i3B7TQ1qqpZiVuFADJv7DHbLPS/+wM67+yE0tDNGFxVj4Yon8eSidLgED0DNR/+Vj3P15Fso6dcDI0ruw7r7KjBtQhnePPH/4fxnT6NsWDRUqkQUVm/E1xeOYdua0UhQqRA7vAIbPj+Hk2+VoF+PESi5bx3uq5iGCWVv4oS0zN618/js6TIMi1ZBlViI6o1f48KxbVgzOkEcLxbDKzbgn+/fiX6hoeg8ugjFC1fgyScXId0lGANqPpKv7emyYYgS3xVfsAKbv/0Dx7atwegEcbzY4Vj20vfyube1GIzQEoMRWmIwQkcMRmiJwQgtMRihJQYjtMRghI4YjNCS5fcYMVOXf/8ZZy/8rQyX+RsXzpzFbw2W/L+Gi7+cxulfL9YPqTFX1y7il9On8evFFu8pnRh+PnsBfyu7/n3hDM42PLEbKgYjtMRghJYYjNARgxFaYjBCSwxGaInBCC0xGKEjBiO01GHACMs8MRihJQYjtMRghI4YjNASgxFaYjBCSwxGaInBCB0xGKElBiNWJgYjtMRghJYYjNARgxFaYjBCSwxGaInBCC0xGKEjBiO0xGDEysRghJYYjNASgxE6YjBCSwxGaInBCC0xGKElBiN0xGCElhiMWJkYjNASgxFaYjBCRwxGaInBCC0xGKElBiO0xGCEjhiM0BKDESsTgxFaYjBCSwxG6IjBCC0xGKElBiO0xGCElhiM0BGDEVpiMGJlYjBCSwxGaInBCB0xGKElBiO0xGCElhiM0BKDETpiMEJLDEasTAxGaInBCC0xGKEjBiO0xGCElhiM0BKDEVpiMEJHDEZoicGIlYnBCC0xGKElBiN0xGCElhiM0BKDEVpiMEJLDEboiMEILTEYsTIxGKElBiO0xGCEjhiM0BKDEVpiMEJLDEZoicEIHTEYoSUGI1YmBiO0xGCElhiM0BGDEVpiMEJLDEZoicEILTEYoSMGI7TEYMTKxGCElhiM0BKDETpiMEJLDEZoicEILTEYoSUGI3TEYISWGIxYmRiM0BKDEVpiMEJHDEZoicEILTEYoSUGI7TEYISOGIzQEoMRKxODEVpiMEJLDEboiMEILTEYoSUGI7TEYISWGIzQEYMRWmIwYmViMEJLDEZoicEIHTEYoSUGI7TEYISWGIzQEoMROmIwQksMRqxMDEZoicEILTEYoSMGI7TEYISWGIzQEoMRWmIwQkcMRmiJwYiVicEILTEYoSUGI3TEYISWGIzQEoMRWmIwQksMRuiIwQgtXTcYKSkpkTNcahCwLd8ODg5QqVQG09iWZ3t7e6jVaoNpbMuz1NB2cXExmMa2LLu6usr55ebmZjCdbVl2cnLiWIOQpVhDsqE0tuVZerY41qBjjjXoWMonKb8MpbEtz1KsIf1rSs2Ckf/7v//Dli1b5LekbMv3W2+9ha1btxpMY1ueX375Zbz//vsG09iWZ4k0//vf/zaYxrYsf/LJJ3jmmWcMprEtzx988AFeeOEFg2lsy/Obb76JN954w2Aa2/L84osvcqxByP/4xz/w8ccfG0xjW5alfJLyy1Aa2/K8fft2vP322wrlaF7NghEWi8VisVgsFovFYrFYrI4uBiMsFovFYrFYLBaLxWKxrFYMRlgsFovFYrFYLBaLxWJZrRiMsFgsFovFYrFYLBaLxbJSAf8/99j3DhH3SPsAAAAASUVORK5CYII=)"
      ],
      "metadata": {
        "id": "rFcsRKKmaSGr"
      }
    },
    {
      "cell_type": "code",
      "source": [
        "from typing_extensions import final\n",
        "# Filtering the relevant columns from the dataset\n",
        "required_columns = [\n",
        "    'Movie Name', 'Release Period', 'release_year', 'Actor', 'Actress', 'Director', 'RBR', 'Revenue(INR)',\n",
        "    'Actor Popularity Score', 'Director Popularity Score', 'Music Director Popularity Score','Budget(INR)',\n",
        "    'Actress Popularity Score', 'Actor Award Score', 'Director Award Score', 'Actress Award Score'\n",
        "]\n",
        "data_filtered = awards[required_columns]\n",
        "\n",
        "# Let's now start processing for each year (2004-2017)\n",
        "years = list(range(2004, 2018))\n",
        "processed_data = []\n",
        "for year in years:\n",
        "    year_data = data_filtered[(data_filtered['release_year'] <= year) & (data_filtered['release_year'] >= 2004)]\n",
        "    Target = ['Actor', 'Actress', 'Director']\n",
        "\n",
        "    for person in Target:\n",
        "        if person == 'Actor':\n",
        "            grouped_data = year_data.groupby('Actor').agg(\n",
        "                total_movies=('Movie Name', 'count'),\n",
        "                successful_movies=('RBR', lambda x: (x > 1).sum()),\n",
        "                total_revenue=('RBR', 'sum'),\n",
        "                avg_popularity_score=('Actor Popularity Score', 'mean'),\n",
        "                award_points=('Actor Award Score', 'mean'),\n",
        "                consistency=('RBR', 'var'),\n",
        "                flops_last_5_movies=('RBR', lambda x: (x.tail(5) < 1).sum()),\n",
        "                years_since_last_movie=('release_year', lambda x: year - x.max())\n",
        "            )\n",
        "            grouped_data['Role'] = 'Actor'\n",
        "            grouped_data['Name'] = grouped_data.index\n",
        "\n",
        "        elif person == 'Actress':\n",
        "            grouped_data = year_data.groupby('Actress').agg(\n",
        "                total_movies=('Movie Name', 'count'),\n",
        "                successful_movies=('RBR', lambda x: (x > 1).sum()),\n",
        "                total_revenue=('RBR', 'sum'),\n",
        "                avg_popularity_score=('Actress Popularity Score', 'mean'),\n",
        "                award_points=('Actress Award Score', 'mean'),\n",
        "                consistency=('RBR', 'var'),\n",
        "                flops_last_5_movies=('RBR', lambda x: (x.tail(5) < 1).sum()),\n",
        "                years_since_last_movie=('release_year', lambda x: year - x.max())\n",
        "            )\n",
        "            grouped_data['Role'] = 'Actress'\n",
        "            grouped_data['Name'] = grouped_data.index\n",
        "\n",
        "        else:\n",
        "            grouped_data = year_data.groupby('Director').agg(\n",
        "                total_movies=('Movie Name', 'count'),\n",
        "                successful_movies=('RBR', lambda x: (x > 1).sum()),\n",
        "                total_revenue=('RBR', 'sum'),\n",
        "                avg_popularity_score=('Director Popularity Score', 'mean'),\n",
        "                award_points=('Director Award Score', 'mean'),\n",
        "                consistency=('RBR', 'var'),\n",
        "                flops_last_5_movies=('RBR', lambda x: (x.tail(5) < 1).sum()),\n",
        "                years_since_last_movie=('release_year', lambda x: year - x.max())\n",
        "            )\n",
        "            grouped_data['Role'] = 'Director'\n",
        "            grouped_data['Name'] = grouped_data.index\n",
        "\n",
        "        # Reset index after grouping to avoid issues with indexes\n",
        "        grouped_data.reset_index(inplace=True)\n",
        "        grouped_data['release_year'] = year\n",
        "        processed_data.append(grouped_data)\n",
        "\n",
        "# Combine all processed data\n",
        "Bankability_data = pd.concat(processed_data, ignore_index=True)\n",
        "Bankability_data=Bankability_data.drop(columns=['Actor','Director','Actress'])\n",
        "\n",
        "# Display the final processed data\n",
        "Bankability_data\n"
      ],
      "metadata": {
        "id": "1IF6_aATYL5F"
      },
      "execution_count": null,
      "outputs": []
    },
    {
      "cell_type": "code",
      "source": [
        "missing_values = Bankability_data.isnull().sum()\n",
        "\n",
        "missing_values\n"
      ],
      "metadata": {
        "id": "gizppRvaXA9f"
      },
      "execution_count": null,
      "outputs": []
    },
    {
      "cell_type": "code",
      "source": [
        "# Fill missing values in the 'consistency' column with 0\n",
        "Bankability_data['consistency'] = Bankability_data['consistency'].fillna(0)"
      ],
      "metadata": {
        "id": "4jR16hb3aJCs"
      },
      "execution_count": null,
      "outputs": []
    },
    {
      "cell_type": "code",
      "source": [
        "missing_values = Bankability_data.isnull().sum()\n",
        "\n",
        "missing_values"
      ],
      "metadata": {
        "id": "OHYpxOCeaZQn"
      },
      "execution_count": null,
      "outputs": []
    },
    {
      "cell_type": "markdown",
      "source": [
        "Now we calculate the bankablity score based on the following formula:\n",
        "\n",
        "**Bankability Score= (α × Success Ratio)+(β×Popularity Score)+(γ × Consistency)+(δ ×\n",
        "Awards Score)−(λ × Penalty Factor)**\n",
        "\n",
        "\n",
        "Where,\n",
        "\n",
        " α,β,γ,δ,λ are weights attached to different factors\n",
        "\n",
        " Based on my domain knowledge I intuitively created these weights as:\n",
        "\n",
        " ![image.png](data:image/png;base64,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)\n"
      ],
      "metadata": {
        "id": "zbojkIu7cNUS"
      }
    },
    {
      "cell_type": "code",
      "source": [
        "# Assign the weights for each role\n",
        "weights = {\n",
        "    'Actor': {'α': 0.9, 'β': 20, 'γ': 50, 'δ': 5, 'λ1': 0.5,'λ2': 0.2},\n",
        "    'Actress': {'α': 0.6, 'β': 18, 'γ': 20, 'δ': 4, 'λ1': 0.2,'λ2':0.7},\n",
        "    'Director': {'α': 0.95, 'β': 30, 'γ': 35, 'δ': 2, 'λ1': 0.7,'λ2':0.1}\n",
        "}\n",
        "\n",
        "# Calculate Success Ratio and Penalty Factor\n",
        "Bankability_data['Success Ratio'] = Bankability_data['successful_movies'] / Bankability_data['total_movies']\n",
        "Bankability_data['Penalty Factor'] = Bankability_data.apply(lambda row: weights[row['Role']]['λ1'] * row['flops_last_5_movies'] + weights[row['Role']]['λ2'] * row['years_since_last_movie'], axis=1)\n",
        "Bankability_data['Popularity Score'] = Bankability_data['avg_popularity_score']  # Use the relevant popularity score here\n",
        "Bankability_data['Consistency'] = Bankability_data['consistency']  # RBR Variance\n",
        "Bankability_data['Awards Score'] = Bankability_data['award_points']  # Average of award scores\n",
        "\n",
        "# Function to apply weights based on role\n",
        "def calculate_bankability(row):\n",
        "    role = row['Role']\n",
        "    weights_role = weights.get(role, {})\n",
        "    bankability_score = (\n",
        "        weights_role['α'] * row['Success Ratio'] +\n",
        "        weights_role['β'] * row['Popularity Score'] +\n",
        "        weights_role['γ'] * row['Consistency'] +\n",
        "        weights_role['δ'] * row['Awards Score'] -row['Penalty Factor']    )\n",
        "\n",
        "    return bankability_score\n",
        "\n",
        "# Apply the function to calculate the Bankability Score for each individual\n",
        "Bankability_data['Bankability Score'] = Bankability_data.apply(calculate_bankability, axis=1)\n",
        "Bankability_data.head()\n"
      ],
      "metadata": {
        "id": "Iwbr6ubbdijp"
      },
      "execution_count": null,
      "outputs": []
    },
    {
      "cell_type": "markdown",
      "source": [
        "Now we standardise the Bankablity scores to bring them toa comman scale."
      ],
      "metadata": {
        "id": "ECBuR15MiOvV"
      }
    },
    {
      "cell_type": "code",
      "source": [
        "# Find the minimum and maximum Bankability Scores\n",
        "min_score = Bankability_data['Bankability Score'].min()\n",
        "max_score = Bankability_data['Bankability Score'].max()\n",
        "\n",
        "# Standardize the Bankability Score to a 0-100 scale\n",
        "Bankability_data['Standardized Bankability Score'] = (\n",
        "    (Bankability_data['Bankability Score'] - min_score) / (max_score - min_score)\n",
        ") * 100\n",
        "\n",
        "# Display the DataFrame with the standardized score\n",
        "Bankability_data.head()"
      ],
      "metadata": {
        "id": "PNxf7CCLfAk_"
      },
      "execution_count": null,
      "outputs": []
    },
    {
      "cell_type": "markdown",
      "source": [
        "Merging the standardised bankablity to main dataset as actor,actress and director bankablity scores"
      ],
      "metadata": {
        "id": "G-k_7Gr7idAM"
      }
    },
    {
      "cell_type": "code",
      "source": [
        "actors_data = Bankability_data[Bankability_data['Role'] == 'Actor']\n",
        "actresses_data = Bankability_data[Bankability_data['Role'] == 'Actress']\n",
        "directors_data = Bankability_data[Bankability_data['Role'] == 'Director']\n",
        "\n",
        "# Rename the standardized bankability by role\n",
        "actors_data = actors_data.rename(columns={'Standardized Bankability Score': 'Actor Bankability'})\n",
        "actresses_data = actresses_data.rename(columns={'Standardized Bankability Score': 'Actress Bankability'})\n",
        "directors_data = directors_data.rename(columns={'Standardized Bankability Score': 'Director Bankability'})\n",
        "final_dataset = awards.copy()\n",
        "\n",
        "final_dataset = final_dataset.merge(\n",
        "    actors_data[['Name', 'release_year', 'Actor Bankability']],\n",
        "    left_on=['Actor', 'release_year'],\n",
        "    right_on=['Name', 'release_year'],\n",
        "    how='left'\n",
        ").drop(columns=['Name'])\n",
        "\n",
        "final_dataset = final_dataset.merge(\n",
        "    actresses_data[['Name', 'release_year', 'Actress Bankability']],\n",
        "    left_on=['Actress', 'release_year'],\n",
        "    right_on=['Name', 'release_year'],\n",
        "    how='left'\n",
        ").drop(columns=['Name'])\n",
        "\n",
        "final_dataset = final_dataset.merge(\n",
        "    directors_data[['Name', 'release_year', 'Director Bankability']],\n",
        "    left_on=['Director', 'release_year'],\n",
        "    right_on=['Name', 'release_year'],\n",
        "    how='left'\n",
        ").drop(columns=['Name'])\n",
        "\n",
        "\n",
        "final_dataset.columns.tolist()\n"
      ],
      "metadata": {
        "id": "WCGwljU8gE89"
      },
      "execution_count": null,
      "outputs": []
    },
    {
      "cell_type": "markdown",
      "source": [
        "Now we start with the classification Task.As you already know the classification is going to basis the RBR category and we are trying a variety of Methods:\n",
        "\n",
        "\n",
        "*   Logistic Regression\n",
        "*   Logistic Regression (with lasso)\n",
        "*   Random Forest\n",
        "*   Enhanced Rf models(GridCV,Gradient Boost,XG Boost)\n",
        "*   SVM\n",
        "*   Ensemble(Voting Based)\n",
        "\n",
        "\n",
        "Before we get going lets do some last steps for the classification\n",
        "\n",
        "\n",
        "\n",
        "\n",
        "\n",
        "\n",
        "\n",
        "\n",
        "\n",
        "\n",
        "\n"
      ],
      "metadata": {
        "id": "cquWKU1si6iw"
      }
    },
    {
      "cell_type": "code",
      "source": [
        "# Drop high cardinality, related and correlated columns\n",
        "columns_to_drop = ['Revenue(INR)', 'Runtime Category','Budget(INR)' ,'RBR', 'Movie Name', 'Actor', 'Actress', 'Director' ,'Music Director']\n",
        "data_cleaned = final_dataset.drop(columns=columns_to_drop)\n",
        "\n",
        "# Check for high cardinality categorical variables\n",
        "categorical_columns = data_cleaned.select_dtypes(include=['object']).columns\n",
        "cardinality_info = {col: data_cleaned[col].nunique() for col in categorical_columns}\n",
        "high_cardinality_columns = {col: cardinality_info[col] for col in cardinality_info if cardinality_info[col] > 50}\n",
        "\n",
        "# Check correlation between numeric variables\n",
        "numerical_columns = data_cleaned.select_dtypes(include=['number']).columns\n",
        "correlation_matrix = data_cleaned[numerical_columns].corr()\n",
        "\n",
        "# Show the cardinality info and correlation matrix\n",
        "high_cardinality_columns, correlation_matrix.head()\n"
      ],
      "metadata": {
        "id": "XDOkGulNCO_b"
      },
      "execution_count": null,
      "outputs": []
    },
    {
      "cell_type": "code",
      "source": [
        "# Remove highly correlated features (correlation > 0.9) while keeping \"Actor Bankability\", \"Actress Bankability\", and \"Director Bankability\"\n",
        "corr_threshold = 0.9\n",
        "correlated_features = set()\n",
        "\n",
        "# Check the correlation matrix for highly correlated pairs\n",
        "for i in range(len(correlation_matrix.columns)):\n",
        "    for j in range(i):\n",
        "        if abs(correlation_matrix.iloc[i, j]) > corr_threshold:\n",
        "            colname = correlation_matrix.columns[i]\n",
        "            correlated_features.add(colname)\n",
        "\n",
        "# Ensure key features are kept\n",
        "key_features = ['Actor Bankability', 'Actress Bankability', 'Director Bankability']\n",
        "correlated_features = correlated_features.difference(key_features)\n",
        "\n",
        "# Drop the correlated features from the dataset\n",
        "data_cleaned = data_cleaned.drop(columns=correlated_features)\n",
        "\n",
        "# Check the target class distribution (\"RBR Category\")\n",
        "target_class_distribution = data_cleaned['RBR Category'].value_counts()\n",
        "\n",
        "# Display the class distribution\n",
        "target_class_distribution\n"
      ],
      "metadata": {
        "id": "X9fuOiE6CcbZ"
      },
      "execution_count": null,
      "outputs": []
    },
    {
      "cell_type": "code",
      "source": [
        "\n",
        "data_cleaned = pd.get_dummies(data_cleaned, columns=['Genre'], prefix='Genre')"
      ],
      "metadata": {
        "id": "d73_TFsdkyKn"
      },
      "execution_count": null,
      "outputs": []
    },
    {
      "cell_type": "code",
      "source": [
        "data_cleaned.columns.tolist()"
      ],
      "metadata": {
        "id": "D-SQKDBdffHu"
      },
      "execution_count": null,
      "outputs": []
    },
    {
      "cell_type": "code",
      "source": [
        "#LOGISTIC REGRESSION(BASE MODEL)\n",
        "from imblearn.over_sampling import SMOTE\n",
        "from sklearn.model_selection import train_test_split\n",
        "from sklearn.linear_model import LogisticRegression\n",
        "from sklearn.metrics import classification_report, confusion_matrix,auc,roc_curve\n",
        "import matplotlib.pyplot as plt\n",
        "import seaborn as sns\n",
        "\n",
        "import numpy as np\n",
        "\n",
        "# Convert the 'RBR Category' to numeric for model compatibility\n",
        "data_cleaned['RBR Category'] = data_cleaned['RBR Category'].map({'Loss':0, 'Profit':1, 'Blockbuster':2})\n",
        "\n",
        "#filtering to years 2004-2017 and encoding\n",
        "data_cleaned = data_cleaned[data_cleaned['release_year']>=2004]\n",
        "data_cleaned = data_cleaned[data_cleaned['release_year']<=2017]\n",
        "data_cleaned['release_year'].value_counts()\n",
        "data_cleaned['release_year'] = data_cleaned['release_year'].map({2004: 0, 2005: 1, 2006: 2, 2007: 3, 2008: 4, 2009: 5, 2010: 6, 2011: 7, 2012: 8, 2013: 9, 2014: 10, 2015: 11, 2016: 12, 2017: 13,})\n",
        "print(data_cleaned['release_year'].isnull().sum())\n",
        "\n",
        "#filling missing values for newly crteated bankablity scores with 0\n",
        "data_cleaned['Actor Bankability'] = data_cleaned['Actor Bankability'].fillna(0)\n",
        "data_cleaned['Actress Bankability'] = data_cleaned['Actress Bankability'].fillna(0)\n",
        "data_cleaned['Director Bankability'] = data_cleaned['Director Bankability'].fillna(0)\n",
        "\n",
        "#Creating Target and deciding variables\n",
        "X = data_cleaned.drop(columns=['RBR Category'])\n",
        "y = data_cleaned['RBR Category']\n",
        "\n",
        "\n",
        "#Target class balancing using SMOTE\n",
        "smote = SMOTE(random_state=42)\n",
        "X_res, y_res = smote.fit_resample(X, y)\n",
        "y_res.value_counts()\n",
        "\n",
        "# Split the data into training and testing sets\n",
        "X_train, X_test, y_train, y_test = train_test_split(X_res, y_res, test_size=0.2, random_state=42)\n",
        "\n",
        "# Initialize logistic regression model\n",
        "log_reg = LogisticRegression(max_iter=1000)\n",
        "\n",
        "# Train the logistic regression model\n",
        "log_reg.fit(X_train, y_train)\n",
        "\n",
        "# Predict on the test set\n",
        "y_pred = log_reg.predict(X_test)\n",
        "classification_report_result = classification_report(y_test, y_pred)\n",
        "accuracy = log_reg.score(X_test, y_test)\n",
        "conf_matrix = confusion_matrix(y_test, y_pred)\n",
        "\n",
        "#Classification report\n",
        "classification_report = classification_report(y_test, y_pred, output_dict=True)\n",
        "coefficients = log_reg.coef_\n",
        "print(classification_report_result)\n",
        "\n"
      ],
      "metadata": {
        "id": "4qC5xSQVgAHj"
      },
      "execution_count": null,
      "outputs": []
    },
    {
      "cell_type": "code",
      "source": [
        "\n",
        "from sklearn.metrics import roc_auc_score\n",
        "\n",
        "\n",
        "try:\n",
        "  y_pred_proba = log_reg.predict_proba(X_test)\n",
        "  auc_score = roc_auc_score(y_test, y_pred_proba, multi_class='ovr')\n",
        "  print(f\"Multiclass AUC Score: {auc_score}\")\n",
        "except ValueError as e:\n",
        "  print(f\"Error calculating AUC score: {e}\")"
      ],
      "metadata": {
        "id": "oe3nipQ1c_mX"
      },
      "execution_count": null,
      "outputs": []
    },
    {
      "cell_type": "code",
      "source": [
        "\n",
        "feature_importance = pd.DataFrame({'Feature': X_res.columns, 'Coefficient': log_reg.coef_[0]})\n",
        "feature_importance = feature_importance.sort_values(by='Coefficient', ascending=False)\n",
        "feature_importance"
      ],
      "metadata": {
        "collapsed": true,
        "id": "Xgml31wf_xGy"
      },
      "execution_count": null,
      "outputs": []
    },
    {
      "cell_type": "code",
      "source": [
        "#Confusion Matrix\n",
        "plt.figure(figsize=(6, 4))\n",
        "sns.heatmap(conf_matrix, annot=True, fmt='d', cmap='Blues',\n",
        "            xticklabels=['Loss', 'Profit','Blockbuster'],\n",
        "            yticklabels=['Loss', 'Profit','Blockbuster'])\n",
        "plt.title('Confusion Matrix - Logistic Regression ')\n",
        "plt.xlabel('Predicted Labels')\n",
        "plt.ylabel('True Labels')\n",
        "plt.show()\n"
      ],
      "metadata": {
        "id": "ig25Zb4rL7ff"
      },
      "execution_count": null,
      "outputs": []
    },
    {
      "cell_type": "code",
      "source": [
        "#Lasso logistic regression for RBR category\n",
        "from sklearn.linear_model import LogisticRegression\n",
        "from sklearn.metrics import classification_report, confusion_matrix\n",
        "import matplotlib.pyplot as plt\n",
        "import seaborn as sns\n",
        "\n",
        "log_reg_l1 = LogisticRegression(penalty='l1', solver='liblinear', max_iter=1000)\n",
        "log_reg_l1.fit(X_train, y_train)\n",
        "y_pred_l1 = log_reg_l1.predict(X_test)\n",
        "\n",
        "\n",
        "classification_report_l1 = classification_report(y_test, y_pred_l1)\n",
        "accuracy_l1 = log_reg_l1.score(X_test, y_test)\n",
        "conf_matrix_l1 = confusion_matrix(y_test, y_pred_l1)\n",
        "print(\"Logistic Regression with L1 Penalty (Lasso):\")\n",
        "print(classification_report_l1)\n",
        "print(\"Accuracy:\", accuracy_l1)\n",
        "print(conf_matrix_l1)\n",
        "# Confusion Matrix\n",
        "plt.figure(figsize=(6, 4))\n",
        "sns.heatmap(conf_matrix_l1, annot=True, fmt='d', cmap='Blues',\n",
        "            xticklabels=['Loss', 'Profit','Blockbuster'],\n",
        "            yticklabels=['Loss', 'Profit','Blockbuster'])\n",
        "plt.title('Confusion Matrix - Logistic Regression (Lasso)')\n",
        "plt.xlabel('Predicted Labels')\n",
        "plt.ylabel('True Labels')\n",
        "plt.show()\n"
      ],
      "metadata": {
        "id": "vVQnggqjSHkf"
      },
      "execution_count": null,
      "outputs": []
    },
    {
      "cell_type": "code",
      "source": [
        "\n",
        "try:\n",
        "  y_pred_proba_l1 = log_reg_l1.predict_proba(X_test)\n",
        "  auc_score_l1 = roc_auc_score(y_test, y_pred_proba_l1, multi_class='ovr') # or 'ovo'\n",
        "  print(f\"Multiclass AUC Score (Lasso): {auc_score_l1}\")\n",
        "except ValueError as e:\n",
        "  print(f\"Error calculating AUC score (Lasso): {e}\")\n",
        "\n",
        "# Coefficients with high importance for Lasso\n",
        "feature_importance_l1 = pd.DataFrame({'Feature': X_res.columns, 'Coefficient': log_reg_l1.coef_[0]})\n",
        "feature_importance_l1 = feature_importance_l1.sort_values(by='Coefficient', ascending=False)\n",
        "print(\"\\nCoefficients with high importance (Lasso):\")\n",
        "feature_importance_l1"
      ],
      "metadata": {
        "id": "9t8lx7t1C3i1"
      },
      "execution_count": null,
      "outputs": []
    },
    {
      "cell_type": "code",
      "source": [
        "data_cleaned['Success/Failure'] = data_cleaned['RBR Category'].map({0:0,1:1, 2: 1})\n",
        "\n",
        "\n",
        "X_new = data_cleaned.drop(columns=['Success/Failure','RBR Category'])\n",
        "y_new = data_cleaned['Success/Failure']\n",
        "\n",
        "smote = SMOTE(random_state=42)\n",
        "X_new_res, y_new_res = smote.fit_resample(X_new, y_new)\n",
        "y_new_res.value_counts()\n"
      ],
      "metadata": {
        "id": "uHIDtXGRL2yZ"
      },
      "execution_count": null,
      "outputs": []
    },
    {
      "cell_type": "code",
      "source": [
        "X_new_res.isnull().sum()\n"
      ],
      "metadata": {
        "id": "mESmDgmqkhmP"
      },
      "execution_count": null,
      "outputs": []
    },
    {
      "cell_type": "code",
      "source": [
        "data_cleaned['Success/Failure']"
      ],
      "metadata": {
        "id": "0I4h36LQlSga"
      },
      "execution_count": null,
      "outputs": []
    },
    {
      "cell_type": "code",
      "source": [
        "#Logistic Regression on Success/Failure\n",
        "from imblearn.over_sampling import SMOTE\n",
        "from sklearn.model_selection import train_test_split\n",
        "from sklearn.linear_model import LogisticRegression\n",
        "from sklearn.metrics import classification_report, confusion_matrix\n",
        "\n",
        "import numpy as np\n",
        "X_new_train, X_new_test, y_new_train, y_new_test = train_test_split(X_new_res, y_new_res, test_size=0.2, random_state=42)\n",
        "\n",
        "log_reg = LogisticRegression(max_iter=1000)\n",
        "log_reg.fit(X_new_train, y_new_train)\n",
        "y_new_pred = log_reg.predict(X_new_test)\n",
        "\n",
        "#  classification report\n",
        "classification_report_result = classification_report(y_new_test, y_new_pred)\n",
        "accuracy = log_reg.score(X_new_test, y_new_test)\n",
        "conf_matrix = confusion_matrix(y_new_test, y_new_pred)\n",
        "\n",
        "#Classification report\n",
        "classification_report = classification_report(y_new_test, y_new_pred, output_dict=True)\n",
        "coefficients = log_reg.coef_\n",
        "print(classification_report_result)\n"
      ],
      "metadata": {
        "id": "rl_VHRQakJWH"
      },
      "execution_count": null,
      "outputs": []
    },
    {
      "cell_type": "code",
      "source": [
        "coefficients, accuracy, conf_matrix, classification_report\n",
        "plt.figure(figsize=(6, 4))\n",
        "sns.heatmap(conf_matrix, annot=True, fmt='d', cmap='Blues',\n",
        "            xticklabels=['Failure','Success'],\n",
        "            yticklabels=['Failure','Success'])\n",
        "plt.title('Confusion Matrix - Logistic Regression ')\n",
        "plt.xlabel('Predicted Labels')\n",
        "plt.ylabel('True Labels')\n",
        "plt.show()"
      ],
      "metadata": {
        "id": "m-fe32a2mQW7"
      },
      "execution_count": null,
      "outputs": []
    },
    {
      "cell_type": "code",
      "source": [
        "#Lasso Regression for Success/failure\n",
        "from sklearn.metrics import classification_report\n",
        "log_reg_l1_new = LogisticRegression(penalty='l1', solver='liblinear', max_iter=1000)\n",
        "log_reg_l1_new.fit(X_new_train, y_new_train)\n",
        "y_new_pred_l1 = log_reg_l1_new.predict(X_new_test)\n",
        "classification_report_l1_new = classification_report(y_new_test, y_new_pred_l1)\n",
        "accuracy_l1_new = log_reg_l1_new.score(X_new_test, y_new_test)\n",
        "conf_matrix_l1_new = confusion_matrix(y_new_test, y_new_pred_l1)\n",
        "print(\"Logistic Regression with L1 Penalty (Lasso) - Success/Failure:\")\n",
        "print(classification_report_l1_new)\n",
        "print(\"Accuracy:\", accuracy_l1_new)\n",
        "\n",
        "# Confusion Matrix Visualization for Lasso\n",
        "plt.figure(figsize=(6, 4))\n",
        "sns.heatmap(conf_matrix_l1_new, annot=True, fmt='d', cmap='Blues',\n",
        "            xticklabels=['Failure', 'Success'],\n",
        "            yticklabels=['Failure', 'Success'])\n",
        "plt.title('Confusion Matrix - Logistic Regression (Lasso) - Success/Failure')\n",
        "plt.xlabel('Predicted Labels')\n",
        "plt.ylabel('True Labels')\n",
        "plt.show()"
      ],
      "metadata": {
        "id": "0yjbb776o9WS"
      },
      "execution_count": null,
      "outputs": []
    },
    {
      "cell_type": "code",
      "source": [
        "# Random Forest Classifier For RBR category\n",
        "from sklearn.ensemble import RandomForestClassifier\n",
        "from sklearn.model_selection import GridSearchCV\n",
        "from sklearn.metrics import classification_report, confusion_matrix\n",
        "import matplotlib.pyplot as plt\n",
        "import seaborn as sns\n",
        "\n",
        "\n",
        "\n",
        "\n",
        "rf_classifier1 = RandomForestClassifier(random_state=42,n_estimators=100, max_depth=10)\n",
        "rf_classifier1.fit(X_train, y_train)\n",
        "y_pred1 = rf_classifier1.predict(X_test)\n",
        "\n",
        "rf_classifier2 = RandomForestClassifier(random_state=42,n_estimators=200, max_depth=20)\n",
        "rf_classifier2.fit(X_train, y_train)\n",
        "y_pred2 = rf_classifier2.predict(X_test)\n",
        "\n",
        "rf_classifier3 = RandomForestClassifier(random_state=42,n_estimators=120, max_depth=15)\n",
        "rf_classifier3.fit(X_train, y_train)\n",
        "y_pred3 = rf_classifier3.predict(X_test)\n",
        "\n",
        "preds=[y_pred1,y_pred2,y_pred3]\n",
        "classifiers = [rf_classifier1, rf_classifier2, rf_classifier3]\n",
        "\n",
        "for i, pred in enumerate(preds):\n",
        "    print(f\"Results for classifier {i + 1}:\")\n",
        "    print(classification_report(y_test, pred))\n",
        "    #Confusion Matrixfor the current classifier\n",
        "    conf_matrix = confusion_matrix(y_test, pred)\n",
        "    print(conf_matrix)\n",
        "    plt.figure(figsize=(6, 4))\n",
        "    sns.heatmap(conf_matrix, annot=True, fmt='d', cmap='Blues',\n",
        "                xticklabels=['Loss', 'Profit', 'Blockbuster'],\n",
        "                yticklabels=['Loss', 'Profit', 'Blockbuster'])\n",
        "    plt.title(f'Confusion Matrix for Classifier {i + 1}')\n",
        "    plt.xlabel('Predicted Labels')\n",
        "    plt.ylabel('True Labels')\n",
        "    plt.show()\n",
        "\n",
        "    # Feature importance for the current classifier\n",
        "    feature_importances = classifiers[i].feature_importances_\n",
        "    feature_names = X_train.columns\n",
        "    importances_df = pd.DataFrame({'Feature': feature_names, 'Importance': feature_importances})\n",
        "    importances_df = importances_df.sort_values(by='Importance', ascending=False)\n",
        "    print(f\"Feature Importance for Classifier {i + 1}:\")\n",
        "    plt.figure(figsize=(10, 6))\n",
        "    plt.barh(importances_df['Feature'], importances_df['Importance'])\n",
        "    plt.xlabel('Feature Importance')\n",
        "    plt.ylabel('Features')\n",
        "    plt.title(f'Feature Importance for Classifier {i + 1}')\n",
        "    plt.show()"
      ],
      "metadata": {
        "id": "NMtabutBPYp8"
      },
      "execution_count": null,
      "outputs": []
    },
    {
      "cell_type": "code",
      "source": [
        "try:\n",
        "  y_pred_proba1 = rf_classifier1.predict_proba(X_test)\n",
        "  auc_score1 = roc_auc_score(y_test, y_pred_proba1, multi_class='ovr')\n",
        "  print(f\"Multiclass AUC Score for classifier 1: {auc_score1}\")\n",
        "except ValueError as e:\n",
        "  print(f\"Error calculating AUC score for classifier 1: {e}\")\n",
        "\n",
        "try:\n",
        "  y_pred_proba2 = rf_classifier2.predict_proba(X_test)\n",
        "  auc_score2 = roc_auc_score(y_test, y_pred_proba2, multi_class='ovr')\n",
        "  print(f\"Multiclass AUC Score for classifier 2: {auc_score2}\")\n",
        "except ValueError as e:\n",
        "  print(f\"Error calculating AUC score for classifier 2: {e}\")\n",
        "\n",
        "try:\n",
        "  y_pred_proba3 = rf_classifier3.predict_proba(X_test)\n",
        "  auc_score3 = roc_auc_score(y_test, y_pred_proba3, multi_class='ovr')\n",
        "  print(f\"Multiclass AUC Score for classifier 3: {auc_score3}\")\n",
        "except ValueError as e:\n",
        "  print(f\"Error calculating AUC score for classifier 3: {e}\")"
      ],
      "metadata": {
        "id": "0UrmSW4jJuGh"
      },
      "execution_count": null,
      "outputs": []
    },
    {
      "cell_type": "code",
      "source": [
        "final_dataset.columns.tolist()"
      ],
      "metadata": {
        "id": "akKx66r77jZJ"
      },
      "execution_count": null,
      "outputs": []
    },
    {
      "cell_type": "code",
      "source": [
        "!pip install lime\n",
        "import lime\n",
        "import lime.lime_tabular\n",
        "\n",
        "\n",
        "explainer = lime.lime_tabular.LimeTabularExplainer(\n",
        "    X_train.values,  # Training data\n",
        "    feature_names=X_train.columns.tolist(),\n",
        "    class_names=['Loss', 'Profit', 'Blockbuster'],\n",
        "    discretize_continuous=True  )\n",
        "\n",
        "instance_to_explain =[ X_test.iloc[110],X_test.iloc[200],X_test.iloc[35]]\n",
        "\n",
        "\n",
        "# Explain the prediction for the chosen instance\n",
        "for instance in instance_to_explain:\n",
        "  explanation = explainer.explain_instance(\n",
        "    instance.values,\n",
        "    rf_classifier2.predict_proba,\n",
        "    num_features=10)\n",
        "  explanation.show_in_notebook(show_table=True, show_all=False)\n",
        "\n"
      ],
      "metadata": {
        "id": "eRmfWP9K4OZw"
      },
      "execution_count": null,
      "outputs": []
    },
    {
      "cell_type": "code",
      "source": [
        "!pip install pydotplus\n",
        "!apt-get install graphviz -y\n",
        "\n",
        "import pydotplus\n",
        "from sklearn.tree import export_graphviz\n",
        "from IPython.display import Image\n",
        "\n",
        "\n",
        "tree_index = 0\n",
        "dot_data = export_graphviz(\n",
        "    rf_classifier2.estimators_[tree_index],\n",
        "    out_file=None,\n",
        "    feature_names=X_train.columns,\n",
        "    class_names=['Loss', 'Profit', 'Blockbuster'],\n",
        "    filled=True,\n",
        "    rounded=True,\n",
        "    special_characters=True\n",
        ")\n",
        "\n",
        "\n",
        "graph = pydotplus.graph_from_dot_data(dot_data)\n",
        "Image(graph.create_png())"
      ],
      "metadata": {
        "id": "4D7t68I_PAwX"
      },
      "execution_count": null,
      "outputs": []
    },
    {
      "cell_type": "code",
      "source": [
        "#Random forest for Success/failure\n",
        "rf_classifier_sf = RandomForestClassifier(random_state=42, n_estimators=200, max_depth=15)\n",
        "rf_classifier_sf.fit(X_new_train, y_new_train)\n",
        "y_new_pred_rf = rf_classifier_sf.predict(X_new_test)\n",
        "print(classification_report(y_new_test, y_new_pred_rf))\n",
        "\n",
        "# confusion matrix\n",
        "conf_matrix_sf = confusion_matrix(y_new_test, y_new_pred_rf)\n",
        "plt.figure(figsize=(6, 4))\n",
        "sns.heatmap(conf_matrix_sf, annot=True, fmt='d', cmap='Blues',\n",
        "            xticklabels=['Failure', 'Success'],\n",
        "            yticklabels=['Failure', 'Success'])\n",
        "plt.title('Confusion Matrix - Random Forest (Success/Failure)')\n",
        "plt.xlabel('Predicted Labels')\n",
        "plt.ylabel('True Labels')\n",
        "plt.show()\n",
        "\n",
        "# Feature Importance\n",
        "feature_importances_sf = rf_classifier_sf.feature_importances_\n",
        "feature_names_sf = X_new_train.columns\n",
        "importances_df_sf = pd.DataFrame({'Feature': feature_names_sf, 'Importance': feature_importances_sf})\n",
        "importances_df_sf = importances_df_sf.sort_values(by='Importance', ascending=False)\n",
        "plt.figure(figsize=(10, 6))\n",
        "plt.barh(importances_df_sf['Feature'], importances_df_sf['Importance'])\n",
        "plt.xlabel('Feature Importance')\n",
        "plt.ylabel('Features')\n",
        "plt.title('Feature Importance - Random Forest (Success/Failure)')\n",
        "plt.show()\n",
        "#LIME EXPLAINATIONS\n",
        "explainer_sf = lime.lime_tabular.LimeTabularExplainer(\n",
        "    X_new_train.values,\n",
        "    feature_names=X_new_train.columns.tolist(),\n",
        "    class_names=['Failure', 'Success'],\n",
        "    discretize_continuous=True\n",
        ")\n",
        "\n",
        "instance_to_explain_sf = [X_new_test.iloc[5], X_new_test.iloc[10], X_new_test.iloc[35]]\n",
        "for instance in instance_to_explain_sf:\n",
        "    explanation_sf = explainer_sf.explain_instance(\n",
        "        instance.values,\n",
        "        rf_classifier_sf.predict_proba,\n",
        "        num_features=10\n",
        "    )\n",
        "    explanation_sf.show_in_notebook(show_table=True)"
      ],
      "metadata": {
        "id": "i4ixIDcQH0ih"
      },
      "execution_count": null,
      "outputs": []
    },
    {
      "cell_type": "code",
      "source": [
        "#XG boost for RBR Category\n",
        "!pip install xgboost\n",
        "import xgboost as xgb\n",
        "from sklearn.metrics import classification_report, confusion_matrix\n",
        "import matplotlib.pyplot as plt\n",
        "import seaborn as sns\n",
        "#Softmax helps in better distinction between closer target classes like Profit and Blockbuster in our case\n",
        "model = xgb.XGBClassifier(objective='multi:softmax', num_class=3, random_state=42)\n",
        "model.fit(X_train, y_train)\n",
        "y_pred_xgb = model.predict(X_test)\n",
        "print(classification_report(y_test, y_pred_xgb))\n",
        "\n",
        "# Confusion matrix\n",
        "conf_matrix_xgb = confusion_matrix(y_test, y_pred_xgb)\n",
        "plt.figure(figsize=(6, 4))\n",
        "sns.heatmap(conf_matrix_xgb, annot=True, fmt='d', cmap='Blues',\n",
        "            xticklabels=['Loss', 'Profit', 'Blockbuster'],\n",
        "            yticklabels=['Loss', 'Profit', 'Blockbuster'])\n",
        "plt.title('Confusion Matrix - XGBoost')\n",
        "plt.xlabel('Predicted Labels')\n",
        "plt.ylabel('True Labels')\n",
        "plt.show()\n",
        "\n",
        "# Feature Importance\n",
        "feature_importances_xgb = model.feature_importances_\n",
        "feature_names_xgb = X_train.columns\n",
        "importances_df_xgb = pd.DataFrame({'Feature': feature_names_xgb, 'Importance': feature_importances_xgb,})\n",
        "importances_df_xgb = importances_df_xgb.sort_values(by='Importance', ascending=False)\n",
        "plt.figure(figsize=(10, 6))\n",
        "plt.barh(importances_df_xgb['Feature'], importances_df_xgb['Importance'])\n",
        "plt.xlabel('Feature Importance')\n",
        "plt.ylabel('Features')\n",
        "plt.title('Feature Importance - XGBoost')\n",
        "plt.show()\n",
        "\n",
        "explainer_xgb = lime.lime_tabular.LimeTabularExplainer(\n",
        "    X_train.values,\n",
        "    feature_names=X_train.columns.tolist(),\n",
        "    class_names=['Loss', 'Profit', 'Blockbuster'],\n",
        "    discretize_continuous=True\n",
        ")\n",
        "\n",
        "instance_to_explain_xgb = [X_test.iloc[48], X_test.iloc[8], X_test.iloc[35]]\n",
        "for instance in instance_to_explain_xgb:\n",
        "    explanation_xgb = explainer_xgb.explain_instance(\n",
        "        instance.values,\n",
        "        model.predict_proba,\n",
        "        num_features=10\n",
        "    )\n",
        "    explanation_xgb.show_in_notebook(show_table=True)"
      ],
      "metadata": {
        "id": "Id7hmLCmOOLH"
      },
      "execution_count": null,
      "outputs": []
    },
    {
      "cell_type": "code",
      "source": [
        "from sklearn.metrics import roc_auc_score\n",
        "\n",
        "try:\n",
        "  y_pred_proba_xgb = model.predict_proba(X_test)\n",
        "  auc_score_xgb = roc_auc_score(y_test, y_pred_proba_xgb, multi_class='ovr')\n",
        "  print(f\"Multiclass AUC Score (XGBoost): {auc_score_xgb}\")\n",
        "except ValueError as e:\n",
        "  print(f\"Error calculating AUC score (XGBoost): {e}\")"
      ],
      "metadata": {
        "id": "i76iK24xKrgV"
      },
      "execution_count": null,
      "outputs": []
    },
    {
      "cell_type": "code",
      "source": [
        "# XGBoost  for Success/Failure\n",
        "xgb_classifier_sf = xgb.XGBClassifier(objective='binary:logistic', random_state=42)  # Use binary:logistic for binary classification\n",
        "xgb_classifier_sf.fit(X_new_train, y_new_train)\n",
        "y_new_pred_xgb = xgb_classifier_sf.predict(X_new_test)\n",
        "print(classification_report(y_new_test, y_new_pred_xgb))\n",
        "\n",
        "# Confusion matrix\n",
        "conf_matrix_xgb_sf = confusion_matrix(y_new_test, y_new_pred_xgb)\n",
        "plt.figure(figsize=(6, 4))\n",
        "sns.heatmap(conf_matrix_xgb_sf, annot=True, fmt='d', cmap='Blues',\n",
        "            xticklabels=['Failure', 'Success'],\n",
        "            yticklabels=['Failure', 'Success'])\n",
        "plt.title('Confusion Matrix - XGBoost (Success/Failure)')\n",
        "plt.xlabel('Predicted Labels')\n",
        "plt.ylabel('True Labels')\n",
        "plt.show()\n",
        "\n",
        "# Feature Importance\n",
        "feature_importances_xgb_sf = xgb_classifier_sf.feature_importances_\n",
        "feature_names_xgb_sf = X_new_train.columns\n",
        "importances_df_xgb_sf = pd.DataFrame({'Feature': feature_names_xgb_sf, 'Importance': feature_importances_xgb_sf})\n",
        "importances_df_xgb_sf = importances_df_xgb_sf.sort_values(by='Importance', ascending=False)\n",
        "plt.figure(figsize=(10, 6))\n",
        "plt.barh(importances_df_xgb_sf['Feature'], importances_df_xgb_sf['Importance'])\n",
        "plt.xlabel('Feature Importance')\n",
        "plt.ylabel('Features')\n",
        "plt.title('Feature Importance - XGBoost (Success/Failure)')\n",
        "plt.show()\n",
        "\n",
        "# LIME Explanations\n",
        "explainer_xgb_sf = lime.lime_tabular.LimeTabularExplainer(\n",
        "    X_new_train.values,\n",
        "    feature_names=X_new_train.columns.tolist(),\n",
        "    class_names=['Failure', 'Success'],\n",
        "    discretize_continuous=True\n",
        ")\n",
        "\n",
        "instance_to_explain_xgb_sf = [X_new_test.iloc[5], X_new_test.iloc[10], X_new_test.iloc[35]]\n",
        "for instance in instance_to_explain_xgb_sf:\n",
        "    explanation_xgb_sf = explainer_xgb_sf.explain_instance(\n",
        "        instance.values,\n",
        "        xgb_classifier_sf.predict_proba,\n",
        "        num_features=10\n",
        "    )\n",
        "    explanation_xgb_sf.show_in_notebook(show_table=True)"
      ],
      "metadata": {
        "id": "vT7rJbeGamwu"
      },
      "execution_count": null,
      "outputs": []
    },
    {
      "cell_type": "code",
      "source": [
        "#GridCV FOR rbr category\n",
        "param_grid = {\n",
        "    'n_estimators': [50, 100, 200],\n",
        "    'max_depth': [15, 10, 20],\n",
        "\n",
        "}\n",
        "\n",
        "\n",
        "rf_classifier = RandomForestClassifier(random_state=42)\n",
        "grid_search = GridSearchCV(estimator=rf_classifier, param_grid=param_grid, cv=5, scoring='accuracy')\n",
        "grid_search.fit(X_train, y_train)\n",
        "best_params = grid_search.best_params_\n",
        "best_score = grid_search.best_score_\n",
        "print(f\"Best parameters: {best_params}\")\n",
        "print(f\"Best score: {best_score}\")\n",
        "\n",
        "# Train a model with the best parameters\n",
        "best_rf_classifier = RandomForestClassifier(**best_params, random_state=42)\n",
        "best_rf_classifier.fit(X_train, y_train)\n",
        "y_pred_best = best_rf_classifier.predict(X_test)\n",
        "print(classification_report(y_test, y_pred_best))\n",
        "\n",
        "# Confusion matrix\n",
        "conf_matrix_xgb = confusion_matrix(y_test, y_pred_best)\n",
        "plt.figure(figsize=(6, 4))\n",
        "sns.heatmap(conf_matrix_xgb, annot=True, fmt='d', cmap='Blues',\n",
        "            xticklabels=['Loss', 'Profit', 'Blockbuster'],\n",
        "            yticklabels=['Loss', 'Profit', 'Blockbuster'])\n",
        "plt.title('Confusion Matrix - Random Forest (GridSearchCV)')\n",
        "plt.xlabel('Predicted Labels')\n",
        "plt.ylabel('True Labels')\n",
        "plt.show()\n",
        "\n",
        "# Feature Importance\n",
        "feature_importances_rf = best_rf_classifier.feature_importances_\n",
        "feature_names_rf = X_train.columns\n",
        "importances_df_rf = pd.DataFrame({'Feature': feature_names_rf, 'Importance': feature_importances_rf})\n",
        "importances_df_rf = importances_df_rf.sort_values(by='Importance', ascending=False)\n",
        "plt.figure(figsize=(10, 6))\n",
        "plt.barh(importances_df_rf['Feature'], importances_df_rf['Importance'])\n",
        "plt.xlabel('Feature Importance')\n",
        "plt.ylabel('Features')\n",
        "plt.title('Feature Importance - Random Forest (GridSearchCV)')\n",
        "plt.show()\n",
        "\n",
        "# LIME Explanations\n",
        "explainer_rf = lime.lime_tabular.LimeTabularExplainer(\n",
        "    X_train.values,\n",
        "    feature_names=X_train.columns.tolist(),\n",
        "    class_names=['Loss', 'Profit', 'Blockbuster'],\n",
        "    discretize_continuous=True\n",
        ")\n",
        "\n",
        "instance_to_explain_rf = [X_test.iloc[48], X_test.iloc[8], X_test.iloc[35]]\n",
        "for instance in instance_to_explain_rf:\n",
        "    explanation_rf = explainer_rf.explain_instance(\n",
        "        instance.values,\n",
        "        best_rf_classifier.predict_proba,\n",
        "        num_features=10\n",
        "    )\n",
        "    explanation_rf.show_in_notebook(show_table=True)\n"
      ],
      "metadata": {
        "id": "y9n-QJKqP7eH"
      },
      "execution_count": null,
      "outputs": []
    },
    {
      "cell_type": "code",
      "source": [
        "#Grid search CV FOR Success/failure category\n",
        "\n",
        "param_grid_sf = {\n",
        "    'n_estimators': [50, 100, 200],\n",
        "    'max_depth': [10, 15, 20],\n",
        "}\n",
        "\n",
        "rf_classifier_sf = RandomForestClassifier(random_state=42)\n",
        "grid_search_sf = GridSearchCV(estimator=rf_classifier_sf, param_grid=param_grid_sf, cv=5, scoring='accuracy')\n",
        "grid_search_sf.fit(X_new_train, y_new_train)\n",
        "\n",
        "# Get the best parameters\n",
        "best_params_sf = grid_search_sf.best_params_\n",
        "best_score_sf = grid_search_sf.best_score_\n",
        "print(f\"Best parameters for Success/Failure: {best_params_sf}\")\n",
        "print(f\"Best score for Success/Failure: {best_score_sf}\")\n",
        "\n",
        "# Train a model with the best parameters\n",
        "best_rf_classifier_sf = RandomForestClassifier(**best_params_sf, random_state=42)\n",
        "best_rf_classifier_sf.fit(X_new_train, y_new_train)\n",
        "\n",
        "# Evaluate the model\n",
        "y_new_pred_best = best_rf_classifier_sf.predict(X_new_test)\n",
        "print(classification_report(y_new_test, y_new_pred_best))\n",
        "\n",
        "# Confusion matrix\n",
        "conf_matrix_sf = confusion_matrix(y_new_test, y_new_pred_best)\n",
        "plt.figure(figsize=(6, 4))\n",
        "sns.heatmap(conf_matrix_sf, annot=True, fmt='d', cmap='Blues',\n",
        "            xticklabels=['Failure', 'Success'],\n",
        "            yticklabels=['Failure', 'Success'])\n",
        "plt.title('Confusion Matrix - Random Forest (Success/Failure) GridSearchCV')\n",
        "plt.xlabel('Predicted Labels')\n",
        "plt.ylabel('True Labels')\n",
        "plt.show()\n",
        "\n",
        "# Feature Importance\n",
        "feature_importances_sf = best_rf_classifier_sf.feature_importances_\n",
        "feature_names_sf = X_new_train.columns\n",
        "importances_df_sf = pd.DataFrame({'Feature': feature_names_sf, 'Importance': feature_importances_sf})\n",
        "importances_df_sf = importances_df_sf.sort_values(by='Importance', ascending=False)\n",
        "\n",
        "plt.figure(figsize=(10, 6))\n",
        "plt.barh(importances_df_sf['Feature'], importances_df_sf['Importance'])\n",
        "plt.xlabel('Feature Importance')\n",
        "plt.ylabel('Features')\n",
        "plt.title('Feature Importance - Random Forest (Success/Failure) GridSearchCV')\n",
        "plt.show()"
      ],
      "metadata": {
        "id": "pY728rCAb5Nt"
      },
      "execution_count": null,
      "outputs": []
    },
    {
      "cell_type": "code",
      "source": [
        "# Gradient Boosting FOR rbr category\n",
        "from sklearn.ensemble import GradientBoostingClassifier\n",
        "\n",
        "\n",
        "gb_classifier = GradientBoostingClassifier(random_state=42, n_estimators=100, learning_rate=0.1, max_depth=3)\n",
        "gb_classifier.fit(X_train, y_train)\n",
        "y_pred_gb = gb_classifier.predict(X_test)\n",
        "print(classification_report(y_test, y_pred_gb))\n",
        "\n",
        "# Confusion Matrix\n",
        "conf_matrix_gb = confusion_matrix(y_test, y_pred_gb)\n",
        "print(conf_matrix_gb)\n",
        "plt.figure(figsize=(6, 4))\n",
        "sns.heatmap(conf_matrix_gb, annot=True, fmt='d', cmap='Blues',\n",
        "            xticklabels=['Loss', 'Profit', 'Blockbuster'],\n",
        "            yticklabels=['Loss', 'Profit', 'Blockbuster'])\n",
        "plt.title('Confusion Matrix - Gradient Boosting')\n",
        "plt.xlabel('Predicted Labels')\n",
        "plt.ylabel('True Labels')\n",
        "plt.show()\n",
        "\n",
        "# Feature Importance\n",
        "feature_importances_gb = gb_classifier.feature_importances_\n",
        "feature_names_gb = X_train.columns\n",
        "importances_df_gb = pd.DataFrame({'Feature': feature_names_gb, 'Importance': feature_importances_gb})\n",
        "importances_df_gb = importances_df_gb.sort_values(by='Importance', ascending=False)\n",
        "print(importances_df_gb)\n",
        "plt.figure(figsize=(10, 6))\n",
        "plt.barh(importances_df_gb['Feature'], importances_df_gb['Importance'])\n",
        "plt.xlabel('Feature Importance')\n",
        "plt.ylabel('Features')\n",
        "plt.title('Feature Importance - Gradient Boosting')\n",
        "plt.show()\n",
        "\n",
        "# LIME Explanations\n",
        "explainer_gb = lime.lime_tabular.LimeTabularExplainer(\n",
        "    X_train.values,\n",
        "    feature_names=X_train.columns.tolist(),\n",
        "    class_names=['Loss', 'Profit', 'Blockbuster'],\n",
        "    discretize_continuous=True\n",
        ")\n",
        "\n",
        "instance_to_explain_gb = [X_test.iloc[48], X_test.iloc[8], X_test.iloc[35]]\n",
        "for instance in instance_to_explain_gb:\n",
        "    explanation_gb = explainer_gb.explain_instance(\n",
        "        instance.values,\n",
        "        gb_classifier.predict_proba,\n",
        "        num_features=10\n",
        "    )\n",
        "    explanation_gb.show_in_notebook(show_table=True)"
      ],
      "metadata": {
        "id": "xDeqBNDEX0jG"
      },
      "execution_count": null,
      "outputs": []
    },
    {
      "cell_type": "code",
      "source": [
        "# Gradient Boosting  for Success/Failure\n",
        "gb_classifier_sf = GradientBoostingClassifier(random_state=42, n_estimators=100, learning_rate=0.1, max_depth=3)\n",
        "gb_classifier_sf.fit(X_new_train, y_new_train)\n",
        "y_new_pred_gb = gb_classifier_sf.predict(X_new_test)\n",
        "conf_matrix_gb_sf = confusion_matrix(y_new_test, y_new_pred_gb)\n",
        "plt.figure(figsize=(6, 4))\n",
        "sns.heatmap(conf_matrix_gb_sf, annot=True, fmt='d', cmap='Blues',\n",
        "            xticklabels=['Failure', 'Success'],\n",
        "            yticklabels=['Failure', 'Success'])\n",
        "plt.title('Confusion Matrix - Gradient Boosting (Success/Failure)')\n",
        "plt.xlabel('Predicted Labels')\n",
        "plt.ylabel('True Labels')\n",
        "plt.show()\n",
        "#feature_importances\n",
        "feature_importances_gb_sf = gb_classifier_sf.feature_importances_\n",
        "feature_names_gb_sf = X_new_train.columns\n",
        "importances_df_gb_sf = pd.DataFrame({'Feature': feature_names_gb_sf, 'Importance': feature_importances_gb_sf})\n",
        "importances_df_gb_sf = importances_df_gb_sf.sort_values(by='Importance', ascending=False)\n",
        "plt.figure(figsize=(10, 6))\n",
        "plt.barh(importances_df_gb_sf['Feature'], importances_df_gb_sf['Importance'])\n",
        "plt.xlabel('Feature Importance')\n",
        "plt.ylabel('Features')\n",
        "plt.title('Feature Importance - Gradient Boosting (Success/Failure)')\n",
        "plt.show()\n",
        "\n",
        "# LIME Explanations\n",
        "explainer_gb_sf = lime.lime_tabular.LimeTabularExplainer(\n",
        "    X_new_train.values,\n",
        "    feature_names=X_new_train.columns.tolist(),\n",
        "    class_names=['Failure', 'Success'],\n",
        "    discretize_continuous=True\n",
        ")\n",
        "\n",
        "instance_to_explain_gb_sf = [X_new_test.iloc[5], X_new_test.iloc[10], X_new_test.iloc[35]]\n",
        "for instance in instance_to_explain_gb_sf:\n",
        "    explanation_gb_sf = explainer_gb_sf.explain_instance(\n",
        "        instance.values,\n",
        "        gb_classifier_sf.predict_proba,\n",
        "        num_features=10\n",
        "    )\n",
        "    explanation_gb_sf.show_in_notebook(show_table=True)"
      ],
      "metadata": {
        "id": "13U4NYErabMV"
      },
      "execution_count": null,
      "outputs": []
    },
    {
      "cell_type": "code",
      "source": [
        "#SVM for RBR Category\n",
        "from sklearn.svm import SVC\n",
        "from sklearn.metrics import classification_report, confusion_matrix\n",
        "import matplotlib.pyplot as plt\n",
        "import seaborn as sns\n",
        "import lime\n",
        "import lime.lime_tabular\n",
        "\n",
        "svm_classifier = SVC(kernel='rbf', random_state=42, probability=True)\n",
        "svm_classifier.fit(X_train, y_train)\n",
        "y_pred_svm = svm_classifier.predict(X_test)\n",
        "print(classification_report(y_test, y_pred_svm))\n",
        "\n",
        "\n",
        "conf_matrix_svm = confusion_matrix(y_test, y_pred_svm)\n",
        "plt.figure(figsize=(6, 4))\n",
        "sns.heatmap(conf_matrix_svm, annot=True, fmt='d', cmap='Blues',\n",
        "            xticklabels=['Loss', 'Profit', 'Blockbuster'],\n",
        "            yticklabels=['Loss', 'Profit', 'Blockbuster'])\n",
        "plt.title('Confusion Matrix - SVM')\n",
        "plt.xlabel('Predicted Labels')\n",
        "plt.ylabel('True Labels')\n",
        "plt.show()\n",
        "\n",
        "\n",
        "\n",
        "explainer_svm = lime.lime_tabular.LimeTabularExplainer(\n",
        "    X_train.values,\n",
        "    feature_names=X_train.columns.tolist(),\n",
        "    class_names=['Loss', 'Profit', 'Blockbuster'],\n",
        "    discretize_continuous=True\n",
        ")\n",
        "\n",
        "instance_to_explain_svm = [X_test.iloc[48], X_test.iloc[8], X_test.iloc[35]]\n",
        "for instance in instance_to_explain_svm:\n",
        "    explanation_svm = explainer_svm.explain_instance(\n",
        "        instance.values,\n",
        "        svm_classifier.predict_proba,\n",
        "        num_features=10\n",
        "    )\n",
        "    explanation_svm.show_in_notebook(show_table=True)"
      ],
      "metadata": {
        "id": "XJIcc-Vll5aR"
      },
      "execution_count": null,
      "outputs": []
    },
    {
      "cell_type": "code",
      "source": [
        "# SVM for Success/Failure\n",
        "svm_classifier_sf = SVC(kernel='rbf', random_state=42, probability=True)\n",
        "svm_classifier_sf.fit(X_new_train, y_new_train)\n",
        "y_new_pred_svm = svm_classifier_sf.predict(X_new_test)\n",
        "print(classification_report(y_new_test, y_new_pred_svm))\n",
        "conf_matrix_svm_sf = confusion_matrix(y_new_test, y_new_pred_svm)\n",
        "plt.figure(figsize=(6, 4))\n",
        "sns.heatmap(conf_matrix_svm_sf, annot=True, fmt='d', cmap='Blues',\n",
        "            xticklabels=['Failure', 'Success'],\n",
        "            yticklabels=['Failure', 'Success'])\n",
        "plt.title('Confusion Matrix - SVM (Success/Failure)')\n",
        "plt.xlabel('Predicted Labels')\n",
        "plt.ylabel('True Labels')\n",
        "plt.show()\n",
        "\n",
        "# LIME Explanations\n",
        "explainer_svm_sf = lime.lime_tabular.LimeTabularExplainer(\n",
        "    X_new_train.values,\n",
        "    feature_names=X_new_train.columns.tolist(),\n",
        "    class_names=['Failure', 'Success'],\n",
        "    discretize_continuous=True\n",
        ")\n",
        "\n",
        "instance_to_explain_svm_sf = [X_new_test.iloc[5], X_new_test.iloc[10], X_new_test.iloc[35]]\n",
        "for instance in instance_to_explain_svm_sf:\n",
        "    explanation_svm_sf = explainer_svm_sf.explain_instance(\n",
        "        instance.values,\n",
        "        svm_classifier_sf.predict_proba,\n",
        "        num_features=10\n",
        "    )\n",
        "    explanation_svm_sf.show_in_notebook(show_table=True)"
      ],
      "metadata": {
        "id": "JpOM8mDamNKe"
      },
      "execution_count": null,
      "outputs": []
    },
    {
      "cell_type": "code",
      "source": [
        "from sklearn.ensemble import VotingClassifier\n",
        "\n",
        "voting_classifier = VotingClassifier(\n",
        "    estimators=[ ('lr', log_reg_l1_new),('rf', rf_classifier2),\n",
        "        ('gridcv', best_rf_classifier),\n",
        "        ('xgb', model),\n",
        "        ('gb', gb_classifier),\n",
        "        ('svm', svm_classifier)\n",
        "    ],\n",
        "    voting='soft'\n",
        ")\n",
        "\n",
        "voting_classifier.fit(X_train, y_train)\n",
        "y_pred_voting = voting_classifier.predict(X_test)\n",
        "print(classification_report(y_test, y_pred_voting))\n",
        "conf_matrix_voting = confusion_matrix(y_test, y_pred_voting)\n",
        "plt.figure(figsize=(6, 4))\n",
        "sns.heatmap(conf_matrix_voting, annot=True, fmt='d', cmap='Blues',\n",
        "            xticklabels=['Loss', 'Profit', 'Blockbuster'],\n",
        "            yticklabels=['Loss', 'Profit', 'Blockbuster'])\n",
        "plt.title('Confusion Matrix - Voting Classifier')\n",
        "plt.xlabel('Predicted Labels')\n",
        "plt.ylabel('True Labels')\n",
        "plt.show()"
      ],
      "metadata": {
        "id": "_VLoUwjSMjfc"
      },
      "execution_count": null,
      "outputs": []
    },
    {
      "cell_type": "code",
      "source": [
        "explainer_vcf = lime.lime_tabular.LimeTabularExplainer(\n",
        "    X_train.values,\n",
        "    feature_names=X_train.columns.tolist(),\n",
        "    class_names=['Loss', 'Profit', 'Blockbuster'],\n",
        "    discretize_continuous=True\n",
        ")\n",
        "\n",
        "instance_to_explain_vcf = [X_test.iloc[48], X_test.iloc[8], X_test.iloc[35]]\n",
        "for instance in instance_to_explain_vcf:\n",
        "    explanation_vcf = explainer_vcf.explain_instance(\n",
        "        instance.values,\n",
        "        voting_classifier.predict_proba,\n",
        "        num_features=10\n",
        "    )\n",
        "    explanation_vcf.show_in_notebook(show_table=True)"
      ],
      "metadata": {
        "id": "7hmDFyhOouYD"
      },
      "execution_count": null,
      "outputs": []
    },
    {
      "cell_type": "code",
      "source": [
        "\n",
        "voting_classifier_sf = VotingClassifier(\n",
        "    estimators=[\n",
        "\n",
        "        ('xgb_sf', xgb_classifier_sf),\n",
        "        ('rf_sf', best_rf_classifier_sf),\n",
        "        ('gb_sf', gb_classifier_sf),\n",
        "        ('svm_sf', svm_classifier_sf)\n",
        "    ],\n",
        "    voting='soft'\n",
        ")\n",
        "\n",
        "voting_classifier_sf.fit(X_new_train, y_new_train)\n",
        "y_new_pred_voting = voting_classifier_sf.predict(X_new_test)\n",
        "print(classification_report(y_new_test, y_new_pred_voting))\n",
        "\n",
        "conf_matrix_voting_sf = confusion_matrix(y_new_test, y_new_pred_voting)\n",
        "plt.figure(figsize=(6, 4))\n",
        "sns.heatmap(conf_matrix_voting_sf, annot=True, fmt='d', cmap='Blues',\n",
        "            xticklabels=['Failure', 'Success'],\n",
        "            yticklabels=['Failure', 'Success'])\n",
        "plt.title('Confusion Matrix - Voting Classifier (Success/Failure)')\n",
        "plt.xlabel('Predicted Labels')\n",
        "plt.ylabel('True Labels')\n",
        "plt.show()"
      ],
      "metadata": {
        "id": "2-EpkrS3oVdu"
      },
      "execution_count": null,
      "outputs": []
    }
  ]
}